{
 "cells": [
  {
   "cell_type": "code",
   "execution_count": 74,
   "metadata": {},
   "outputs": [],
   "source": [
    "import pandas as pd\n",
    "import numpy as np\n",
    "\n",
    "import plotly.graph_objects as go\n",
    "from plotly.subplots import make_subplots\n",
    "import plotly.express as px\n",
    "import plotly.io as pio\n",
    "pio.templates.default = \"plotly_dark\"\n",
    "\n",
    "pd.set_option('display.max_rows', 500)"
   ]
  },
  {
   "cell_type": "code",
   "execution_count": 75,
   "id": "09c43e26",
   "metadata": {},
   "outputs": [],
   "source": [
    "latent_only_list = []\n",
    "for i in [64,32,16,8,4]:\n",
    "    latent_only_list.append('results/flour_ar_o2_latent_to_dc_bias_' + str(i) + '.csv')"
   ]
  },
  {
   "cell_type": "code",
   "execution_count": 76,
   "id": "0dce1a70",
   "metadata": {},
   "outputs": [],
   "source": [
    "latent_only = pd.concat(map(pd.read_csv, latent_only_list)).reset_index()"
   ]
  },
  {
   "cell_type": "code",
   "execution_count": 77,
   "id": "12c3afcf",
   "metadata": {
    "scrolled": false
   },
   "outputs": [
    {
     "name": "stderr",
     "output_type": "stream",
     "text": [
      "/tmp/ipykernel_3620979/3330658901.py:1: SettingWithCopyWarning:\n",
      "\n",
      "\n",
      "A value is trying to be set on a copy of a slice from a DataFrame\n",
      "\n",
      "See the caveats in the documentation: https://pandas.pydata.org/pandas-docs/stable/user_guide/indexing.html#returning-a-view-versus-a-copy\n",
      "\n"
     ]
    }
   ],
   "source": [
    "latent_only['N samples'][latent_only['Unnamed: 0'] <= 4] = 637801"
   ]
  },
  {
   "cell_type": "code",
   "execution_count": 78,
   "id": "0e766f95",
   "metadata": {},
   "outputs": [],
   "source": [
    "latent_only['N samples'] = latent_only['N samples'].astype('int64')"
   ]
  },
  {
   "cell_type": "code",
   "execution_count": 79,
   "id": "36e7d423",
   "metadata": {
    "scrolled": false
   },
   "outputs": [
    {
     "data": {
      "text/plain": [
       "index                    int64\n",
       "Unnamed: 0               int64\n",
       "Latent units           float64\n",
       "Repeat                 float64\n",
       "N samples                int64\n",
       "Loss                   float64\n",
       "MAE                    float64\n",
       "MSE                    float64\n",
       "Binary Crossentropy    float64\n",
       "dtype: object"
      ]
     },
     "execution_count": 79,
     "metadata": {},
     "output_type": "execute_result"
    }
   ],
   "source": [
    "latent_only.dtypes"
   ]
  },
  {
   "cell_type": "code",
   "execution_count": 80,
   "id": "8dddbfaf",
   "metadata": {},
   "outputs": [
    {
     "data": {
      "text/html": [
       "<div>\n",
       "<style scoped>\n",
       "    .dataframe tbody tr th:only-of-type {\n",
       "        vertical-align: middle;\n",
       "    }\n",
       "\n",
       "    .dataframe tbody tr th {\n",
       "        vertical-align: top;\n",
       "    }\n",
       "\n",
       "    .dataframe thead th {\n",
       "        text-align: right;\n",
       "    }\n",
       "</style>\n",
       "<table border=\"1\" class=\"dataframe\">\n",
       "  <thead>\n",
       "    <tr style=\"text-align: right;\">\n",
       "      <th></th>\n",
       "      <th>index</th>\n",
       "      <th>Unnamed: 0</th>\n",
       "      <th>Latent units</th>\n",
       "      <th>Repeat</th>\n",
       "      <th>N samples</th>\n",
       "      <th>Loss</th>\n",
       "      <th>MAE</th>\n",
       "      <th>MSE</th>\n",
       "      <th>Binary Crossentropy</th>\n",
       "    </tr>\n",
       "  </thead>\n",
       "  <tbody>\n",
       "    <tr>\n",
       "      <th>149</th>\n",
       "      <td>29</td>\n",
       "      <td>29</td>\n",
       "      <td>4.0</td>\n",
       "      <td>4.0</td>\n",
       "      <td>10</td>\n",
       "      <td>0.080948</td>\n",
       "      <td>0.219168</td>\n",
       "      <td>0.075658</td>\n",
       "      <td>0.743066</td>\n",
       "    </tr>\n",
       "    <tr>\n",
       "      <th>118</th>\n",
       "      <td>28</td>\n",
       "      <td>28</td>\n",
       "      <td>8.0</td>\n",
       "      <td>3.0</td>\n",
       "      <td>10</td>\n",
       "      <td>0.103500</td>\n",
       "      <td>0.240473</td>\n",
       "      <td>0.092229</td>\n",
       "      <td>0.859735</td>\n",
       "    </tr>\n",
       "    <tr>\n",
       "      <th>119</th>\n",
       "      <td>29</td>\n",
       "      <td>29</td>\n",
       "      <td>8.0</td>\n",
       "      <td>4.0</td>\n",
       "      <td>10</td>\n",
       "      <td>0.074072</td>\n",
       "      <td>0.204873</td>\n",
       "      <td>0.062663</td>\n",
       "      <td>0.720549</td>\n",
       "    </tr>\n",
       "    <tr>\n",
       "      <th>115</th>\n",
       "      <td>25</td>\n",
       "      <td>25</td>\n",
       "      <td>8.0</td>\n",
       "      <td>0.0</td>\n",
       "      <td>10</td>\n",
       "      <td>0.130966</td>\n",
       "      <td>0.267412</td>\n",
       "      <td>0.119646</td>\n",
       "      <td>1.770519</td>\n",
       "    </tr>\n",
       "    <tr>\n",
       "      <th>29</th>\n",
       "      <td>29</td>\n",
       "      <td>29</td>\n",
       "      <td>64.0</td>\n",
       "      <td>4.0</td>\n",
       "      <td>10</td>\n",
       "      <td>0.072760</td>\n",
       "      <td>0.204671</td>\n",
       "      <td>0.064811</td>\n",
       "      <td>0.731391</td>\n",
       "    </tr>\n",
       "    <tr>\n",
       "      <th>28</th>\n",
       "      <td>28</td>\n",
       "      <td>28</td>\n",
       "      <td>64.0</td>\n",
       "      <td>3.0</td>\n",
       "      <td>10</td>\n",
       "      <td>0.127321</td>\n",
       "      <td>0.287629</td>\n",
       "      <td>0.119437</td>\n",
       "      <td>0.916935</td>\n",
       "    </tr>\n",
       "    <tr>\n",
       "      <th>27</th>\n",
       "      <td>27</td>\n",
       "      <td>27</td>\n",
       "      <td>64.0</td>\n",
       "      <td>2.0</td>\n",
       "      <td>10</td>\n",
       "      <td>0.063212</td>\n",
       "      <td>0.191945</td>\n",
       "      <td>0.055309</td>\n",
       "      <td>0.698887</td>\n",
       "    </tr>\n",
       "    <tr>\n",
       "      <th>26</th>\n",
       "      <td>26</td>\n",
       "      <td>26</td>\n",
       "      <td>64.0</td>\n",
       "      <td>1.0</td>\n",
       "      <td>10</td>\n",
       "      <td>0.063472</td>\n",
       "      <td>0.190750</td>\n",
       "      <td>0.055540</td>\n",
       "      <td>0.698141</td>\n",
       "    </tr>\n",
       "    <tr>\n",
       "      <th>25</th>\n",
       "      <td>25</td>\n",
       "      <td>25</td>\n",
       "      <td>64.0</td>\n",
       "      <td>0.0</td>\n",
       "      <td>10</td>\n",
       "      <td>0.126515</td>\n",
       "      <td>0.287890</td>\n",
       "      <td>0.118649</td>\n",
       "      <td>1.107913</td>\n",
       "    </tr>\n",
       "    <tr>\n",
       "      <th>117</th>\n",
       "      <td>27</td>\n",
       "      <td>27</td>\n",
       "      <td>8.0</td>\n",
       "      <td>2.0</td>\n",
       "      <td>10</td>\n",
       "      <td>0.065530</td>\n",
       "      <td>0.185052</td>\n",
       "      <td>0.054162</td>\n",
       "      <td>0.737900</td>\n",
       "    </tr>\n",
       "    <tr>\n",
       "      <th>55</th>\n",
       "      <td>25</td>\n",
       "      <td>25</td>\n",
       "      <td>32.0</td>\n",
       "      <td>0.0</td>\n",
       "      <td>10</td>\n",
       "      <td>0.059204</td>\n",
       "      <td>0.183367</td>\n",
       "      <td>0.051617</td>\n",
       "      <td>0.698478</td>\n",
       "    </tr>\n",
       "    <tr>\n",
       "      <th>56</th>\n",
       "      <td>26</td>\n",
       "      <td>26</td>\n",
       "      <td>32.0</td>\n",
       "      <td>1.0</td>\n",
       "      <td>10</td>\n",
       "      <td>0.100070</td>\n",
       "      <td>0.246007</td>\n",
       "      <td>0.092521</td>\n",
       "      <td>0.785259</td>\n",
       "    </tr>\n",
       "    <tr>\n",
       "      <th>57</th>\n",
       "      <td>27</td>\n",
       "      <td>27</td>\n",
       "      <td>32.0</td>\n",
       "      <td>2.0</td>\n",
       "      <td>10</td>\n",
       "      <td>0.131189</td>\n",
       "      <td>0.286450</td>\n",
       "      <td>0.123691</td>\n",
       "      <td>0.898207</td>\n",
       "    </tr>\n",
       "    <tr>\n",
       "      <th>58</th>\n",
       "      <td>28</td>\n",
       "      <td>28</td>\n",
       "      <td>32.0</td>\n",
       "      <td>3.0</td>\n",
       "      <td>10</td>\n",
       "      <td>0.079979</td>\n",
       "      <td>0.209128</td>\n",
       "      <td>0.072404</td>\n",
       "      <td>0.879639</td>\n",
       "    </tr>\n",
       "    <tr>\n",
       "      <th>116</th>\n",
       "      <td>26</td>\n",
       "      <td>26</td>\n",
       "      <td>8.0</td>\n",
       "      <td>1.0</td>\n",
       "      <td>10</td>\n",
       "      <td>0.075901</td>\n",
       "      <td>0.204121</td>\n",
       "      <td>0.064594</td>\n",
       "      <td>0.749243</td>\n",
       "    </tr>\n",
       "    <tr>\n",
       "      <th>89</th>\n",
       "      <td>29</td>\n",
       "      <td>29</td>\n",
       "      <td>16.0</td>\n",
       "      <td>4.0</td>\n",
       "      <td>10</td>\n",
       "      <td>0.079759</td>\n",
       "      <td>0.209763</td>\n",
       "      <td>0.067498</td>\n",
       "      <td>0.743998</td>\n",
       "    </tr>\n",
       "    <tr>\n",
       "      <th>147</th>\n",
       "      <td>27</td>\n",
       "      <td>27</td>\n",
       "      <td>4.0</td>\n",
       "      <td>2.0</td>\n",
       "      <td>10</td>\n",
       "      <td>0.102053</td>\n",
       "      <td>0.247439</td>\n",
       "      <td>0.096925</td>\n",
       "      <td>0.856972</td>\n",
       "    </tr>\n",
       "    <tr>\n",
       "      <th>146</th>\n",
       "      <td>26</td>\n",
       "      <td>26</td>\n",
       "      <td>4.0</td>\n",
       "      <td>1.0</td>\n",
       "      <td>10</td>\n",
       "      <td>0.101028</td>\n",
       "      <td>0.244631</td>\n",
       "      <td>0.095841</td>\n",
       "      <td>0.803696</td>\n",
       "    </tr>\n",
       "    <tr>\n",
       "      <th>145</th>\n",
       "      <td>25</td>\n",
       "      <td>25</td>\n",
       "      <td>4.0</td>\n",
       "      <td>0.0</td>\n",
       "      <td>10</td>\n",
       "      <td>0.115679</td>\n",
       "      <td>0.269782</td>\n",
       "      <td>0.110503</td>\n",
       "      <td>0.836037</td>\n",
       "    </tr>\n",
       "    <tr>\n",
       "      <th>59</th>\n",
       "      <td>29</td>\n",
       "      <td>29</td>\n",
       "      <td>32.0</td>\n",
       "      <td>4.0</td>\n",
       "      <td>10</td>\n",
       "      <td>0.092071</td>\n",
       "      <td>0.229365</td>\n",
       "      <td>0.084484</td>\n",
       "      <td>1.076188</td>\n",
       "    </tr>\n",
       "    <tr>\n",
       "      <th>85</th>\n",
       "      <td>25</td>\n",
       "      <td>25</td>\n",
       "      <td>16.0</td>\n",
       "      <td>0.0</td>\n",
       "      <td>10</td>\n",
       "      <td>0.111730</td>\n",
       "      <td>0.249684</td>\n",
       "      <td>0.099475</td>\n",
       "      <td>1.222544</td>\n",
       "    </tr>\n",
       "    <tr>\n",
       "      <th>148</th>\n",
       "      <td>28</td>\n",
       "      <td>28</td>\n",
       "      <td>4.0</td>\n",
       "      <td>3.0</td>\n",
       "      <td>10</td>\n",
       "      <td>0.075776</td>\n",
       "      <td>0.219064</td>\n",
       "      <td>0.070581</td>\n",
       "      <td>0.785958</td>\n",
       "    </tr>\n",
       "    <tr>\n",
       "      <th>86</th>\n",
       "      <td>26</td>\n",
       "      <td>26</td>\n",
       "      <td>16.0</td>\n",
       "      <td>1.0</td>\n",
       "      <td>10</td>\n",
       "      <td>0.093280</td>\n",
       "      <td>0.229767</td>\n",
       "      <td>0.081017</td>\n",
       "      <td>0.758583</td>\n",
       "    </tr>\n",
       "    <tr>\n",
       "      <th>87</th>\n",
       "      <td>27</td>\n",
       "      <td>27</td>\n",
       "      <td>16.0</td>\n",
       "      <td>2.0</td>\n",
       "      <td>10</td>\n",
       "      <td>0.078922</td>\n",
       "      <td>0.204115</td>\n",
       "      <td>0.066667</td>\n",
       "      <td>0.732232</td>\n",
       "    </tr>\n",
       "    <tr>\n",
       "      <th>88</th>\n",
       "      <td>28</td>\n",
       "      <td>28</td>\n",
       "      <td>16.0</td>\n",
       "      <td>3.0</td>\n",
       "      <td>10</td>\n",
       "      <td>0.115782</td>\n",
       "      <td>0.254108</td>\n",
       "      <td>0.103555</td>\n",
       "      <td>1.250441</td>\n",
       "    </tr>\n",
       "    <tr>\n",
       "      <th>50</th>\n",
       "      <td>20</td>\n",
       "      <td>20</td>\n",
       "      <td>32.0</td>\n",
       "      <td>0.0</td>\n",
       "      <td>100</td>\n",
       "      <td>0.038936</td>\n",
       "      <td>0.142171</td>\n",
       "      <td>0.031311</td>\n",
       "      <td>0.645137</td>\n",
       "    </tr>\n",
       "    <tr>\n",
       "      <th>110</th>\n",
       "      <td>20</td>\n",
       "      <td>20</td>\n",
       "      <td>8.0</td>\n",
       "      <td>0.0</td>\n",
       "      <td>100</td>\n",
       "      <td>0.052393</td>\n",
       "      <td>0.163843</td>\n",
       "      <td>0.041104</td>\n",
       "      <td>0.672971</td>\n",
       "    </tr>\n",
       "    <tr>\n",
       "      <th>83</th>\n",
       "      <td>23</td>\n",
       "      <td>23</td>\n",
       "      <td>16.0</td>\n",
       "      <td>3.0</td>\n",
       "      <td>100</td>\n",
       "      <td>0.050516</td>\n",
       "      <td>0.160506</td>\n",
       "      <td>0.038288</td>\n",
       "      <td>0.666277</td>\n",
       "    </tr>\n",
       "    <tr>\n",
       "      <th>52</th>\n",
       "      <td>22</td>\n",
       "      <td>22</td>\n",
       "      <td>32.0</td>\n",
       "      <td>2.0</td>\n",
       "      <td>100</td>\n",
       "      <td>0.044779</td>\n",
       "      <td>0.152987</td>\n",
       "      <td>0.037154</td>\n",
       "      <td>0.696160</td>\n",
       "    </tr>\n",
       "    <tr>\n",
       "      <th>53</th>\n",
       "      <td>23</td>\n",
       "      <td>23</td>\n",
       "      <td>32.0</td>\n",
       "      <td>3.0</td>\n",
       "      <td>100</td>\n",
       "      <td>0.042059</td>\n",
       "      <td>0.148926</td>\n",
       "      <td>0.034466</td>\n",
       "      <td>0.654700</td>\n",
       "    </tr>\n",
       "    <tr>\n",
       "      <th>80</th>\n",
       "      <td>20</td>\n",
       "      <td>20</td>\n",
       "      <td>16.0</td>\n",
       "      <td>0.0</td>\n",
       "      <td>100</td>\n",
       "      <td>0.049041</td>\n",
       "      <td>0.156757</td>\n",
       "      <td>0.036746</td>\n",
       "      <td>0.676335</td>\n",
       "    </tr>\n",
       "    <tr>\n",
       "      <th>81</th>\n",
       "      <td>21</td>\n",
       "      <td>21</td>\n",
       "      <td>16.0</td>\n",
       "      <td>1.0</td>\n",
       "      <td>100</td>\n",
       "      <td>0.048947</td>\n",
       "      <td>0.156413</td>\n",
       "      <td>0.036738</td>\n",
       "      <td>0.658547</td>\n",
       "    </tr>\n",
       "    <tr>\n",
       "      <th>82</th>\n",
       "      <td>22</td>\n",
       "      <td>22</td>\n",
       "      <td>16.0</td>\n",
       "      <td>2.0</td>\n",
       "      <td>100</td>\n",
       "      <td>0.048470</td>\n",
       "      <td>0.153893</td>\n",
       "      <td>0.036214</td>\n",
       "      <td>0.658293</td>\n",
       "    </tr>\n",
       "    <tr>\n",
       "      <th>112</th>\n",
       "      <td>22</td>\n",
       "      <td>22</td>\n",
       "      <td>8.0</td>\n",
       "      <td>2.0</td>\n",
       "      <td>100</td>\n",
       "      <td>0.053153</td>\n",
       "      <td>0.169117</td>\n",
       "      <td>0.041839</td>\n",
       "      <td>0.666682</td>\n",
       "    </tr>\n",
       "    <tr>\n",
       "      <th>113</th>\n",
       "      <td>23</td>\n",
       "      <td>23</td>\n",
       "      <td>8.0</td>\n",
       "      <td>3.0</td>\n",
       "      <td>100</td>\n",
       "      <td>0.050536</td>\n",
       "      <td>0.163021</td>\n",
       "      <td>0.039235</td>\n",
       "      <td>0.662714</td>\n",
       "    </tr>\n",
       "    <tr>\n",
       "      <th>114</th>\n",
       "      <td>24</td>\n",
       "      <td>24</td>\n",
       "      <td>8.0</td>\n",
       "      <td>4.0</td>\n",
       "      <td>100</td>\n",
       "      <td>0.054319</td>\n",
       "      <td>0.173141</td>\n",
       "      <td>0.043030</td>\n",
       "      <td>0.669511</td>\n",
       "    </tr>\n",
       "    <tr>\n",
       "      <th>51</th>\n",
       "      <td>21</td>\n",
       "      <td>21</td>\n",
       "      <td>32.0</td>\n",
       "      <td>1.0</td>\n",
       "      <td>100</td>\n",
       "      <td>0.042140</td>\n",
       "      <td>0.148146</td>\n",
       "      <td>0.034532</td>\n",
       "      <td>0.682543</td>\n",
       "    </tr>\n",
       "    <tr>\n",
       "      <th>54</th>\n",
       "      <td>24</td>\n",
       "      <td>24</td>\n",
       "      <td>32.0</td>\n",
       "      <td>4.0</td>\n",
       "      <td>100</td>\n",
       "      <td>0.041726</td>\n",
       "      <td>0.151320</td>\n",
       "      <td>0.034116</td>\n",
       "      <td>0.654186</td>\n",
       "    </tr>\n",
       "    <tr>\n",
       "      <th>111</th>\n",
       "      <td>21</td>\n",
       "      <td>21</td>\n",
       "      <td>8.0</td>\n",
       "      <td>1.0</td>\n",
       "      <td>100</td>\n",
       "      <td>0.056604</td>\n",
       "      <td>0.172703</td>\n",
       "      <td>0.045239</td>\n",
       "      <td>0.675476</td>\n",
       "    </tr>\n",
       "    <tr>\n",
       "      <th>84</th>\n",
       "      <td>24</td>\n",
       "      <td>24</td>\n",
       "      <td>16.0</td>\n",
       "      <td>4.0</td>\n",
       "      <td>100</td>\n",
       "      <td>0.052119</td>\n",
       "      <td>0.164689</td>\n",
       "      <td>0.039909</td>\n",
       "      <td>0.662768</td>\n",
       "    </tr>\n",
       "    <tr>\n",
       "      <th>144</th>\n",
       "      <td>24</td>\n",
       "      <td>24</td>\n",
       "      <td>4.0</td>\n",
       "      <td>4.0</td>\n",
       "      <td>100</td>\n",
       "      <td>0.056002</td>\n",
       "      <td>0.190550</td>\n",
       "      <td>0.050961</td>\n",
       "      <td>0.685919</td>\n",
       "    </tr>\n",
       "    <tr>\n",
       "      <th>143</th>\n",
       "      <td>23</td>\n",
       "      <td>23</td>\n",
       "      <td>4.0</td>\n",
       "      <td>3.0</td>\n",
       "      <td>100</td>\n",
       "      <td>0.056202</td>\n",
       "      <td>0.190177</td>\n",
       "      <td>0.051177</td>\n",
       "      <td>0.686356</td>\n",
       "    </tr>\n",
       "    <tr>\n",
       "      <th>24</th>\n",
       "      <td>24</td>\n",
       "      <td>24</td>\n",
       "      <td>64.0</td>\n",
       "      <td>4.0</td>\n",
       "      <td>100</td>\n",
       "      <td>0.038825</td>\n",
       "      <td>0.138485</td>\n",
       "      <td>0.030828</td>\n",
       "      <td>0.649454</td>\n",
       "    </tr>\n",
       "    <tr>\n",
       "      <th>23</th>\n",
       "      <td>23</td>\n",
       "      <td>23</td>\n",
       "      <td>64.0</td>\n",
       "      <td>3.0</td>\n",
       "      <td>100</td>\n",
       "      <td>0.045971</td>\n",
       "      <td>0.151476</td>\n",
       "      <td>0.038096</td>\n",
       "      <td>0.680613</td>\n",
       "    </tr>\n",
       "    <tr>\n",
       "      <th>142</th>\n",
       "      <td>22</td>\n",
       "      <td>22</td>\n",
       "      <td>4.0</td>\n",
       "      <td>2.0</td>\n",
       "      <td>100</td>\n",
       "      <td>0.055816</td>\n",
       "      <td>0.188465</td>\n",
       "      <td>0.050709</td>\n",
       "      <td>0.685408</td>\n",
       "    </tr>\n",
       "    <tr>\n",
       "      <th>140</th>\n",
       "      <td>20</td>\n",
       "      <td>20</td>\n",
       "      <td>4.0</td>\n",
       "      <td>0.0</td>\n",
       "      <td>100</td>\n",
       "      <td>0.060234</td>\n",
       "      <td>0.193058</td>\n",
       "      <td>0.055186</td>\n",
       "      <td>0.695149</td>\n",
       "    </tr>\n",
       "    <tr>\n",
       "      <th>22</th>\n",
       "      <td>22</td>\n",
       "      <td>22</td>\n",
       "      <td>64.0</td>\n",
       "      <td>2.0</td>\n",
       "      <td>100</td>\n",
       "      <td>0.043062</td>\n",
       "      <td>0.145874</td>\n",
       "      <td>0.035078</td>\n",
       "      <td>0.682946</td>\n",
       "    </tr>\n",
       "    <tr>\n",
       "      <th>21</th>\n",
       "      <td>21</td>\n",
       "      <td>21</td>\n",
       "      <td>64.0</td>\n",
       "      <td>1.0</td>\n",
       "      <td>100</td>\n",
       "      <td>0.045501</td>\n",
       "      <td>0.151659</td>\n",
       "      <td>0.037528</td>\n",
       "      <td>0.673062</td>\n",
       "    </tr>\n",
       "    <tr>\n",
       "      <th>20</th>\n",
       "      <td>20</td>\n",
       "      <td>20</td>\n",
       "      <td>64.0</td>\n",
       "      <td>0.0</td>\n",
       "      <td>100</td>\n",
       "      <td>0.038685</td>\n",
       "      <td>0.136766</td>\n",
       "      <td>0.030773</td>\n",
       "      <td>0.649292</td>\n",
       "    </tr>\n",
       "    <tr>\n",
       "      <th>141</th>\n",
       "      <td>21</td>\n",
       "      <td>21</td>\n",
       "      <td>4.0</td>\n",
       "      <td>1.0</td>\n",
       "      <td>100</td>\n",
       "      <td>0.057747</td>\n",
       "      <td>0.192632</td>\n",
       "      <td>0.052782</td>\n",
       "      <td>0.689605</td>\n",
       "    </tr>\n",
       "    <tr>\n",
       "      <th>136</th>\n",
       "      <td>16</td>\n",
       "      <td>16</td>\n",
       "      <td>4.0</td>\n",
       "      <td>1.0</td>\n",
       "      <td>1000</td>\n",
       "      <td>0.057141</td>\n",
       "      <td>0.191209</td>\n",
       "      <td>0.051923</td>\n",
       "      <td>0.687857</td>\n",
       "    </tr>\n",
       "    <tr>\n",
       "      <th>137</th>\n",
       "      <td>17</td>\n",
       "      <td>17</td>\n",
       "      <td>4.0</td>\n",
       "      <td>2.0</td>\n",
       "      <td>1000</td>\n",
       "      <td>0.054901</td>\n",
       "      <td>0.188399</td>\n",
       "      <td>0.049937</td>\n",
       "      <td>0.683825</td>\n",
       "    </tr>\n",
       "    <tr>\n",
       "      <th>138</th>\n",
       "      <td>18</td>\n",
       "      <td>18</td>\n",
       "      <td>4.0</td>\n",
       "      <td>3.0</td>\n",
       "      <td>1000</td>\n",
       "      <td>0.055516</td>\n",
       "      <td>0.188830</td>\n",
       "      <td>0.050381</td>\n",
       "      <td>0.684722</td>\n",
       "    </tr>\n",
       "    <tr>\n",
       "      <th>139</th>\n",
       "      <td>19</td>\n",
       "      <td>19</td>\n",
       "      <td>4.0</td>\n",
       "      <td>4.0</td>\n",
       "      <td>1000</td>\n",
       "      <td>0.057382</td>\n",
       "      <td>0.192159</td>\n",
       "      <td>0.052347</td>\n",
       "      <td>0.688726</td>\n",
       "    </tr>\n",
       "    <tr>\n",
       "      <th>75</th>\n",
       "      <td>15</td>\n",
       "      <td>15</td>\n",
       "      <td>16.0</td>\n",
       "      <td>0.0</td>\n",
       "      <td>1000</td>\n",
       "      <td>0.046702</td>\n",
       "      <td>0.152613</td>\n",
       "      <td>0.034522</td>\n",
       "      <td>0.652022</td>\n",
       "    </tr>\n",
       "    <tr>\n",
       "      <th>76</th>\n",
       "      <td>16</td>\n",
       "      <td>16</td>\n",
       "      <td>16.0</td>\n",
       "      <td>1.0</td>\n",
       "      <td>1000</td>\n",
       "      <td>0.046846</td>\n",
       "      <td>0.153748</td>\n",
       "      <td>0.034600</td>\n",
       "      <td>0.651571</td>\n",
       "    </tr>\n",
       "    <tr>\n",
       "      <th>77</th>\n",
       "      <td>17</td>\n",
       "      <td>17</td>\n",
       "      <td>16.0</td>\n",
       "      <td>2.0</td>\n",
       "      <td>1000</td>\n",
       "      <td>0.046672</td>\n",
       "      <td>0.152890</td>\n",
       "      <td>0.034386</td>\n",
       "      <td>0.651224</td>\n",
       "    </tr>\n",
       "    <tr>\n",
       "      <th>78</th>\n",
       "      <td>18</td>\n",
       "      <td>18</td>\n",
       "      <td>16.0</td>\n",
       "      <td>3.0</td>\n",
       "      <td>1000</td>\n",
       "      <td>0.046586</td>\n",
       "      <td>0.152099</td>\n",
       "      <td>0.034292</td>\n",
       "      <td>0.651223</td>\n",
       "    </tr>\n",
       "    <tr>\n",
       "      <th>79</th>\n",
       "      <td>19</td>\n",
       "      <td>19</td>\n",
       "      <td>16.0</td>\n",
       "      <td>4.0</td>\n",
       "      <td>1000</td>\n",
       "      <td>0.045947</td>\n",
       "      <td>0.150831</td>\n",
       "      <td>0.033693</td>\n",
       "      <td>0.650176</td>\n",
       "    </tr>\n",
       "    <tr>\n",
       "      <th>105</th>\n",
       "      <td>15</td>\n",
       "      <td>15</td>\n",
       "      <td>8.0</td>\n",
       "      <td>0.0</td>\n",
       "      <td>1000</td>\n",
       "      <td>0.049952</td>\n",
       "      <td>0.161564</td>\n",
       "      <td>0.038649</td>\n",
       "      <td>0.661234</td>\n",
       "    </tr>\n",
       "    <tr>\n",
       "      <th>106</th>\n",
       "      <td>16</td>\n",
       "      <td>16</td>\n",
       "      <td>8.0</td>\n",
       "      <td>1.0</td>\n",
       "      <td>1000</td>\n",
       "      <td>0.049958</td>\n",
       "      <td>0.162719</td>\n",
       "      <td>0.038685</td>\n",
       "      <td>0.661838</td>\n",
       "    </tr>\n",
       "    <tr>\n",
       "      <th>107</th>\n",
       "      <td>17</td>\n",
       "      <td>17</td>\n",
       "      <td>8.0</td>\n",
       "      <td>2.0</td>\n",
       "      <td>1000</td>\n",
       "      <td>0.050325</td>\n",
       "      <td>0.164282</td>\n",
       "      <td>0.039058</td>\n",
       "      <td>0.661126</td>\n",
       "    </tr>\n",
       "    <tr>\n",
       "      <th>108</th>\n",
       "      <td>18</td>\n",
       "      <td>18</td>\n",
       "      <td>8.0</td>\n",
       "      <td>3.0</td>\n",
       "      <td>1000</td>\n",
       "      <td>0.050173</td>\n",
       "      <td>0.163145</td>\n",
       "      <td>0.038875</td>\n",
       "      <td>0.660500</td>\n",
       "    </tr>\n",
       "    <tr>\n",
       "      <th>109</th>\n",
       "      <td>19</td>\n",
       "      <td>19</td>\n",
       "      <td>8.0</td>\n",
       "      <td>4.0</td>\n",
       "      <td>1000</td>\n",
       "      <td>0.050214</td>\n",
       "      <td>0.163352</td>\n",
       "      <td>0.038895</td>\n",
       "      <td>0.661019</td>\n",
       "    </tr>\n",
       "    <tr>\n",
       "      <th>45</th>\n",
       "      <td>15</td>\n",
       "      <td>15</td>\n",
       "      <td>32.0</td>\n",
       "      <td>0.0</td>\n",
       "      <td>1000</td>\n",
       "      <td>0.034733</td>\n",
       "      <td>0.134854</td>\n",
       "      <td>0.027225</td>\n",
       "      <td>0.639011</td>\n",
       "    </tr>\n",
       "    <tr>\n",
       "      <th>46</th>\n",
       "      <td>16</td>\n",
       "      <td>16</td>\n",
       "      <td>32.0</td>\n",
       "      <td>1.0</td>\n",
       "      <td>1000</td>\n",
       "      <td>0.035216</td>\n",
       "      <td>0.134916</td>\n",
       "      <td>0.027563</td>\n",
       "      <td>0.637428</td>\n",
       "    </tr>\n",
       "    <tr>\n",
       "      <th>47</th>\n",
       "      <td>17</td>\n",
       "      <td>17</td>\n",
       "      <td>32.0</td>\n",
       "      <td>2.0</td>\n",
       "      <td>1000</td>\n",
       "      <td>0.035016</td>\n",
       "      <td>0.135367</td>\n",
       "      <td>0.027468</td>\n",
       "      <td>0.636752</td>\n",
       "    </tr>\n",
       "    <tr>\n",
       "      <th>48</th>\n",
       "      <td>18</td>\n",
       "      <td>18</td>\n",
       "      <td>32.0</td>\n",
       "      <td>3.0</td>\n",
       "      <td>1000</td>\n",
       "      <td>0.034529</td>\n",
       "      <td>0.133693</td>\n",
       "      <td>0.026910</td>\n",
       "      <td>0.642518</td>\n",
       "    </tr>\n",
       "    <tr>\n",
       "      <th>49</th>\n",
       "      <td>19</td>\n",
       "      <td>19</td>\n",
       "      <td>32.0</td>\n",
       "      <td>4.0</td>\n",
       "      <td>1000</td>\n",
       "      <td>0.034260</td>\n",
       "      <td>0.133504</td>\n",
       "      <td>0.026634</td>\n",
       "      <td>0.634676</td>\n",
       "    </tr>\n",
       "    <tr>\n",
       "      <th>19</th>\n",
       "      <td>19</td>\n",
       "      <td>19</td>\n",
       "      <td>64.0</td>\n",
       "      <td>4.0</td>\n",
       "      <td>1000</td>\n",
       "      <td>0.028855</td>\n",
       "      <td>0.115067</td>\n",
       "      <td>0.020841</td>\n",
       "      <td>0.624645</td>\n",
       "    </tr>\n",
       "    <tr>\n",
       "      <th>17</th>\n",
       "      <td>17</td>\n",
       "      <td>17</td>\n",
       "      <td>64.0</td>\n",
       "      <td>2.0</td>\n",
       "      <td>1000</td>\n",
       "      <td>0.027571</td>\n",
       "      <td>0.112109</td>\n",
       "      <td>0.019593</td>\n",
       "      <td>0.620331</td>\n",
       "    </tr>\n",
       "    <tr>\n",
       "      <th>18</th>\n",
       "      <td>18</td>\n",
       "      <td>18</td>\n",
       "      <td>64.0</td>\n",
       "      <td>3.0</td>\n",
       "      <td>1000</td>\n",
       "      <td>0.028307</td>\n",
       "      <td>0.114217</td>\n",
       "      <td>0.020289</td>\n",
       "      <td>0.623652</td>\n",
       "    </tr>\n",
       "    <tr>\n",
       "      <th>15</th>\n",
       "      <td>15</td>\n",
       "      <td>15</td>\n",
       "      <td>64.0</td>\n",
       "      <td>0.0</td>\n",
       "      <td>1000</td>\n",
       "      <td>0.028109</td>\n",
       "      <td>0.113217</td>\n",
       "      <td>0.020132</td>\n",
       "      <td>0.633381</td>\n",
       "    </tr>\n",
       "    <tr>\n",
       "      <th>135</th>\n",
       "      <td>15</td>\n",
       "      <td>15</td>\n",
       "      <td>4.0</td>\n",
       "      <td>0.0</td>\n",
       "      <td>1000</td>\n",
       "      <td>0.055696</td>\n",
       "      <td>0.189913</td>\n",
       "      <td>0.050812</td>\n",
       "      <td>0.685618</td>\n",
       "    </tr>\n",
       "    <tr>\n",
       "      <th>16</th>\n",
       "      <td>16</td>\n",
       "      <td>16</td>\n",
       "      <td>64.0</td>\n",
       "      <td>1.0</td>\n",
       "      <td>1000</td>\n",
       "      <td>0.029510</td>\n",
       "      <td>0.117687</td>\n",
       "      <td>0.021435</td>\n",
       "      <td>0.623257</td>\n",
       "    </tr>\n",
       "    <tr>\n",
       "      <th>130</th>\n",
       "      <td>10</td>\n",
       "      <td>10</td>\n",
       "      <td>4.0</td>\n",
       "      <td>0.0</td>\n",
       "      <td>10000</td>\n",
       "      <td>0.050144</td>\n",
       "      <td>0.177188</td>\n",
       "      <td>0.045544</td>\n",
       "      <td>0.675946</td>\n",
       "    </tr>\n",
       "    <tr>\n",
       "      <th>134</th>\n",
       "      <td>14</td>\n",
       "      <td>14</td>\n",
       "      <td>4.0</td>\n",
       "      <td>4.0</td>\n",
       "      <td>10000</td>\n",
       "      <td>0.051214</td>\n",
       "      <td>0.180231</td>\n",
       "      <td>0.046692</td>\n",
       "      <td>0.677315</td>\n",
       "    </tr>\n",
       "    <tr>\n",
       "      <th>100</th>\n",
       "      <td>10</td>\n",
       "      <td>10</td>\n",
       "      <td>8.0</td>\n",
       "      <td>0.0</td>\n",
       "      <td>10000</td>\n",
       "      <td>0.046459</td>\n",
       "      <td>0.155044</td>\n",
       "      <td>0.035666</td>\n",
       "      <td>0.655378</td>\n",
       "    </tr>\n",
       "    <tr>\n",
       "      <th>101</th>\n",
       "      <td>11</td>\n",
       "      <td>11</td>\n",
       "      <td>8.0</td>\n",
       "      <td>1.0</td>\n",
       "      <td>10000</td>\n",
       "      <td>0.046323</td>\n",
       "      <td>0.154863</td>\n",
       "      <td>0.035584</td>\n",
       "      <td>0.655459</td>\n",
       "    </tr>\n",
       "    <tr>\n",
       "      <th>102</th>\n",
       "      <td>12</td>\n",
       "      <td>12</td>\n",
       "      <td>8.0</td>\n",
       "      <td>2.0</td>\n",
       "      <td>10000</td>\n",
       "      <td>0.046268</td>\n",
       "      <td>0.154932</td>\n",
       "      <td>0.035559</td>\n",
       "      <td>0.655638</td>\n",
       "    </tr>\n",
       "    <tr>\n",
       "      <th>103</th>\n",
       "      <td>13</td>\n",
       "      <td>13</td>\n",
       "      <td>8.0</td>\n",
       "      <td>3.0</td>\n",
       "      <td>10000</td>\n",
       "      <td>0.046427</td>\n",
       "      <td>0.154777</td>\n",
       "      <td>0.035707</td>\n",
       "      <td>0.655556</td>\n",
       "    </tr>\n",
       "    <tr>\n",
       "      <th>104</th>\n",
       "      <td>14</td>\n",
       "      <td>14</td>\n",
       "      <td>8.0</td>\n",
       "      <td>4.0</td>\n",
       "      <td>10000</td>\n",
       "      <td>0.046531</td>\n",
       "      <td>0.155129</td>\n",
       "      <td>0.035704</td>\n",
       "      <td>0.655571</td>\n",
       "    </tr>\n",
       "    <tr>\n",
       "      <th>133</th>\n",
       "      <td>13</td>\n",
       "      <td>13</td>\n",
       "      <td>4.0</td>\n",
       "      <td>3.0</td>\n",
       "      <td>10000</td>\n",
       "      <td>0.051918</td>\n",
       "      <td>0.181373</td>\n",
       "      <td>0.047394</td>\n",
       "      <td>0.678670</td>\n",
       "    </tr>\n",
       "    <tr>\n",
       "      <th>132</th>\n",
       "      <td>12</td>\n",
       "      <td>12</td>\n",
       "      <td>4.0</td>\n",
       "      <td>2.0</td>\n",
       "      <td>10000</td>\n",
       "      <td>0.050579</td>\n",
       "      <td>0.179060</td>\n",
       "      <td>0.046058</td>\n",
       "      <td>0.676114</td>\n",
       "    </tr>\n",
       "    <tr>\n",
       "      <th>131</th>\n",
       "      <td>11</td>\n",
       "      <td>11</td>\n",
       "      <td>4.0</td>\n",
       "      <td>1.0</td>\n",
       "      <td>10000</td>\n",
       "      <td>0.049692</td>\n",
       "      <td>0.176923</td>\n",
       "      <td>0.045033</td>\n",
       "      <td>0.677582</td>\n",
       "    </tr>\n",
       "    <tr>\n",
       "      <th>74</th>\n",
       "      <td>14</td>\n",
       "      <td>14</td>\n",
       "      <td>16.0</td>\n",
       "      <td>4.0</td>\n",
       "      <td>10000</td>\n",
       "      <td>0.050690</td>\n",
       "      <td>0.162392</td>\n",
       "      <td>0.039060</td>\n",
       "      <td>0.663290</td>\n",
       "    </tr>\n",
       "    <tr>\n",
       "      <th>72</th>\n",
       "      <td>12</td>\n",
       "      <td>12</td>\n",
       "      <td>16.0</td>\n",
       "      <td>2.0</td>\n",
       "      <td>10000</td>\n",
       "      <td>0.038376</td>\n",
       "      <td>0.132268</td>\n",
       "      <td>0.026736</td>\n",
       "      <td>0.640206</td>\n",
       "    </tr>\n",
       "    <tr>\n",
       "      <th>42</th>\n",
       "      <td>12</td>\n",
       "      <td>12</td>\n",
       "      <td>32.0</td>\n",
       "      <td>2.0</td>\n",
       "      <td>10000</td>\n",
       "      <td>0.022570</td>\n",
       "      <td>0.097543</td>\n",
       "      <td>0.015229</td>\n",
       "      <td>0.613211</td>\n",
       "    </tr>\n",
       "    <tr>\n",
       "      <th>43</th>\n",
       "      <td>13</td>\n",
       "      <td>13</td>\n",
       "      <td>32.0</td>\n",
       "      <td>3.0</td>\n",
       "      <td>10000</td>\n",
       "      <td>0.021882</td>\n",
       "      <td>0.095176</td>\n",
       "      <td>0.014497</td>\n",
       "      <td>0.610958</td>\n",
       "    </tr>\n",
       "    <tr>\n",
       "      <th>44</th>\n",
       "      <td>14</td>\n",
       "      <td>14</td>\n",
       "      <td>32.0</td>\n",
       "      <td>4.0</td>\n",
       "      <td>10000</td>\n",
       "      <td>0.021390</td>\n",
       "      <td>0.093040</td>\n",
       "      <td>0.014033</td>\n",
       "      <td>0.611407</td>\n",
       "    </tr>\n",
       "    <tr>\n",
       "      <th>73</th>\n",
       "      <td>13</td>\n",
       "      <td>13</td>\n",
       "      <td>16.0</td>\n",
       "      <td>3.0</td>\n",
       "      <td>10000</td>\n",
       "      <td>0.040389</td>\n",
       "      <td>0.139571</td>\n",
       "      <td>0.028776</td>\n",
       "      <td>0.641180</td>\n",
       "    </tr>\n",
       "    <tr>\n",
       "      <th>41</th>\n",
       "      <td>11</td>\n",
       "      <td>11</td>\n",
       "      <td>32.0</td>\n",
       "      <td>1.0</td>\n",
       "      <td>10000</td>\n",
       "      <td>0.023617</td>\n",
       "      <td>0.098822</td>\n",
       "      <td>0.016211</td>\n",
       "      <td>0.628633</td>\n",
       "    </tr>\n",
       "    <tr>\n",
       "      <th>14</th>\n",
       "      <td>14</td>\n",
       "      <td>14</td>\n",
       "      <td>64.0</td>\n",
       "      <td>4.0</td>\n",
       "      <td>10000</td>\n",
       "      <td>0.018645</td>\n",
       "      <td>0.079439</td>\n",
       "      <td>0.010981</td>\n",
       "      <td>0.617122</td>\n",
       "    </tr>\n",
       "    <tr>\n",
       "      <th>13</th>\n",
       "      <td>13</td>\n",
       "      <td>13</td>\n",
       "      <td>64.0</td>\n",
       "      <td>3.0</td>\n",
       "      <td>10000</td>\n",
       "      <td>0.019331</td>\n",
       "      <td>0.081838</td>\n",
       "      <td>0.011459</td>\n",
       "      <td>0.615987</td>\n",
       "    </tr>\n",
       "    <tr>\n",
       "      <th>12</th>\n",
       "      <td>12</td>\n",
       "      <td>12</td>\n",
       "      <td>64.0</td>\n",
       "      <td>2.0</td>\n",
       "      <td>10000</td>\n",
       "      <td>0.017209</td>\n",
       "      <td>0.073872</td>\n",
       "      <td>0.009377</td>\n",
       "      <td>0.599737</td>\n",
       "    </tr>\n",
       "    <tr>\n",
       "      <th>40</th>\n",
       "      <td>10</td>\n",
       "      <td>10</td>\n",
       "      <td>32.0</td>\n",
       "      <td>0.0</td>\n",
       "      <td>10000</td>\n",
       "      <td>0.023430</td>\n",
       "      <td>0.100573</td>\n",
       "      <td>0.016064</td>\n",
       "      <td>0.613316</td>\n",
       "    </tr>\n",
       "    <tr>\n",
       "      <th>10</th>\n",
       "      <td>10</td>\n",
       "      <td>10</td>\n",
       "      <td>64.0</td>\n",
       "      <td>0.0</td>\n",
       "      <td>10000</td>\n",
       "      <td>0.018134</td>\n",
       "      <td>0.077221</td>\n",
       "      <td>0.010353</td>\n",
       "      <td>0.602534</td>\n",
       "    </tr>\n",
       "    <tr>\n",
       "      <th>71</th>\n",
       "      <td>11</td>\n",
       "      <td>11</td>\n",
       "      <td>16.0</td>\n",
       "      <td>1.0</td>\n",
       "      <td>10000</td>\n",
       "      <td>0.043419</td>\n",
       "      <td>0.147378</td>\n",
       "      <td>0.031773</td>\n",
       "      <td>0.645624</td>\n",
       "    </tr>\n",
       "    <tr>\n",
       "      <th>70</th>\n",
       "      <td>10</td>\n",
       "      <td>10</td>\n",
       "      <td>16.0</td>\n",
       "      <td>0.0</td>\n",
       "      <td>10000</td>\n",
       "      <td>0.039836</td>\n",
       "      <td>0.135853</td>\n",
       "      <td>0.028238</td>\n",
       "      <td>0.643369</td>\n",
       "    </tr>\n",
       "    <tr>\n",
       "      <th>11</th>\n",
       "      <td>11</td>\n",
       "      <td>11</td>\n",
       "      <td>64.0</td>\n",
       "      <td>1.0</td>\n",
       "      <td>10000</td>\n",
       "      <td>0.017372</td>\n",
       "      <td>0.074841</td>\n",
       "      <td>0.009655</td>\n",
       "      <td>0.603662</td>\n",
       "    </tr>\n",
       "    <tr>\n",
       "      <th>5</th>\n",
       "      <td>5</td>\n",
       "      <td>5</td>\n",
       "      <td>64.0</td>\n",
       "      <td>0.0</td>\n",
       "      <td>100000</td>\n",
       "      <td>0.006445</td>\n",
       "      <td>0.042019</td>\n",
       "      <td>0.003558</td>\n",
       "      <td>0.583002</td>\n",
       "    </tr>\n",
       "    <tr>\n",
       "      <th>39</th>\n",
       "      <td>9</td>\n",
       "      <td>9</td>\n",
       "      <td>32.0</td>\n",
       "      <td>4.0</td>\n",
       "      <td>100000</td>\n",
       "      <td>0.010163</td>\n",
       "      <td>0.065760</td>\n",
       "      <td>0.007545</td>\n",
       "      <td>0.593285</td>\n",
       "    </tr>\n",
       "    <tr>\n",
       "      <th>38</th>\n",
       "      <td>8</td>\n",
       "      <td>8</td>\n",
       "      <td>32.0</td>\n",
       "      <td>3.0</td>\n",
       "      <td>100000</td>\n",
       "      <td>0.009914</td>\n",
       "      <td>0.063972</td>\n",
       "      <td>0.007230</td>\n",
       "      <td>0.592814</td>\n",
       "    </tr>\n",
       "    <tr>\n",
       "      <th>37</th>\n",
       "      <td>7</td>\n",
       "      <td>7</td>\n",
       "      <td>32.0</td>\n",
       "      <td>2.0</td>\n",
       "      <td>100000</td>\n",
       "      <td>0.009477</td>\n",
       "      <td>0.061263</td>\n",
       "      <td>0.006642</td>\n",
       "      <td>0.590828</td>\n",
       "    </tr>\n",
       "    <tr>\n",
       "      <th>6</th>\n",
       "      <td>6</td>\n",
       "      <td>6</td>\n",
       "      <td>64.0</td>\n",
       "      <td>1.0</td>\n",
       "      <td>100000</td>\n",
       "      <td>0.006809</td>\n",
       "      <td>0.046360</td>\n",
       "      <td>0.004092</td>\n",
       "      <td>0.583392</td>\n",
       "    </tr>\n",
       "    <tr>\n",
       "      <th>35</th>\n",
       "      <td>5</td>\n",
       "      <td>5</td>\n",
       "      <td>32.0</td>\n",
       "      <td>0.0</td>\n",
       "      <td>100000</td>\n",
       "      <td>0.008157</td>\n",
       "      <td>0.054327</td>\n",
       "      <td>0.005524</td>\n",
       "      <td>0.588700</td>\n",
       "    </tr>\n",
       "    <tr>\n",
       "      <th>126</th>\n",
       "      <td>6</td>\n",
       "      <td>6</td>\n",
       "      <td>4.0</td>\n",
       "      <td>1.0</td>\n",
       "      <td>100000</td>\n",
       "      <td>0.034357</td>\n",
       "      <td>0.146995</td>\n",
       "      <td>0.032782</td>\n",
       "      <td>0.647405</td>\n",
       "    </tr>\n",
       "    <tr>\n",
       "      <th>127</th>\n",
       "      <td>7</td>\n",
       "      <td>7</td>\n",
       "      <td>4.0</td>\n",
       "      <td>2.0</td>\n",
       "      <td>100000</td>\n",
       "      <td>0.034346</td>\n",
       "      <td>0.145371</td>\n",
       "      <td>0.032595</td>\n",
       "      <td>0.646993</td>\n",
       "    </tr>\n",
       "    <tr>\n",
       "      <th>128</th>\n",
       "      <td>8</td>\n",
       "      <td>8</td>\n",
       "      <td>4.0</td>\n",
       "      <td>3.0</td>\n",
       "      <td>100000</td>\n",
       "      <td>0.034799</td>\n",
       "      <td>0.147985</td>\n",
       "      <td>0.033337</td>\n",
       "      <td>0.648483</td>\n",
       "    </tr>\n",
       "    <tr>\n",
       "      <th>7</th>\n",
       "      <td>7</td>\n",
       "      <td>7</td>\n",
       "      <td>64.0</td>\n",
       "      <td>2.0</td>\n",
       "      <td>100000</td>\n",
       "      <td>0.007089</td>\n",
       "      <td>0.047573</td>\n",
       "      <td>0.004221</td>\n",
       "      <td>0.584107</td>\n",
       "    </tr>\n",
       "    <tr>\n",
       "      <th>8</th>\n",
       "      <td>8</td>\n",
       "      <td>8</td>\n",
       "      <td>64.0</td>\n",
       "      <td>3.0</td>\n",
       "      <td>100000</td>\n",
       "      <td>0.008074</td>\n",
       "      <td>0.051030</td>\n",
       "      <td>0.005251</td>\n",
       "      <td>0.586973</td>\n",
       "    </tr>\n",
       "    <tr>\n",
       "      <th>9</th>\n",
       "      <td>9</td>\n",
       "      <td>9</td>\n",
       "      <td>64.0</td>\n",
       "      <td>4.0</td>\n",
       "      <td>100000</td>\n",
       "      <td>0.006303</td>\n",
       "      <td>0.041788</td>\n",
       "      <td>0.003585</td>\n",
       "      <td>0.583052</td>\n",
       "    </tr>\n",
       "    <tr>\n",
       "      <th>125</th>\n",
       "      <td>5</td>\n",
       "      <td>5</td>\n",
       "      <td>4.0</td>\n",
       "      <td>0.0</td>\n",
       "      <td>100000</td>\n",
       "      <td>0.033963</td>\n",
       "      <td>0.145284</td>\n",
       "      <td>0.032438</td>\n",
       "      <td>0.646593</td>\n",
       "    </tr>\n",
       "    <tr>\n",
       "      <th>129</th>\n",
       "      <td>9</td>\n",
       "      <td>9</td>\n",
       "      <td>4.0</td>\n",
       "      <td>4.0</td>\n",
       "      <td>100000</td>\n",
       "      <td>0.034748</td>\n",
       "      <td>0.147367</td>\n",
       "      <td>0.033033</td>\n",
       "      <td>0.647986</td>\n",
       "    </tr>\n",
       "    <tr>\n",
       "      <th>36</th>\n",
       "      <td>6</td>\n",
       "      <td>6</td>\n",
       "      <td>32.0</td>\n",
       "      <td>1.0</td>\n",
       "      <td>100000</td>\n",
       "      <td>0.010205</td>\n",
       "      <td>0.063137</td>\n",
       "      <td>0.007397</td>\n",
       "      <td>0.596069</td>\n",
       "    </tr>\n",
       "    <tr>\n",
       "      <th>98</th>\n",
       "      <td>8</td>\n",
       "      <td>8</td>\n",
       "      <td>8.0</td>\n",
       "      <td>3.0</td>\n",
       "      <td>100000</td>\n",
       "      <td>0.024784</td>\n",
       "      <td>0.115093</td>\n",
       "      <td>0.021811</td>\n",
       "      <td>0.624981</td>\n",
       "    </tr>\n",
       "    <tr>\n",
       "      <th>96</th>\n",
       "      <td>6</td>\n",
       "      <td>6</td>\n",
       "      <td>8.0</td>\n",
       "      <td>1.0</td>\n",
       "      <td>100000</td>\n",
       "      <td>0.024952</td>\n",
       "      <td>0.116485</td>\n",
       "      <td>0.022293</td>\n",
       "      <td>0.625010</td>\n",
       "    </tr>\n",
       "    <tr>\n",
       "      <th>95</th>\n",
       "      <td>5</td>\n",
       "      <td>5</td>\n",
       "      <td>8.0</td>\n",
       "      <td>0.0</td>\n",
       "      <td>100000</td>\n",
       "      <td>0.025541</td>\n",
       "      <td>0.118236</td>\n",
       "      <td>0.022744</td>\n",
       "      <td>0.625848</td>\n",
       "    </tr>\n",
       "    <tr>\n",
       "      <th>99</th>\n",
       "      <td>9</td>\n",
       "      <td>9</td>\n",
       "      <td>8.0</td>\n",
       "      <td>4.0</td>\n",
       "      <td>100000</td>\n",
       "      <td>0.026756</td>\n",
       "      <td>0.120835</td>\n",
       "      <td>0.024157</td>\n",
       "      <td>0.628830</td>\n",
       "    </tr>\n",
       "    <tr>\n",
       "      <th>69</th>\n",
       "      <td>9</td>\n",
       "      <td>9</td>\n",
       "      <td>16.0</td>\n",
       "      <td>4.0</td>\n",
       "      <td>100000</td>\n",
       "      <td>0.015429</td>\n",
       "      <td>0.082800</td>\n",
       "      <td>0.012252</td>\n",
       "      <td>0.604145</td>\n",
       "    </tr>\n",
       "    <tr>\n",
       "      <th>68</th>\n",
       "      <td>8</td>\n",
       "      <td>8</td>\n",
       "      <td>16.0</td>\n",
       "      <td>3.0</td>\n",
       "      <td>100000</td>\n",
       "      <td>0.017335</td>\n",
       "      <td>0.088814</td>\n",
       "      <td>0.014386</td>\n",
       "      <td>0.614018</td>\n",
       "    </tr>\n",
       "    <tr>\n",
       "      <th>67</th>\n",
       "      <td>7</td>\n",
       "      <td>7</td>\n",
       "      <td>16.0</td>\n",
       "      <td>2.0</td>\n",
       "      <td>100000</td>\n",
       "      <td>0.015035</td>\n",
       "      <td>0.081387</td>\n",
       "      <td>0.011980</td>\n",
       "      <td>0.602024</td>\n",
       "    </tr>\n",
       "    <tr>\n",
       "      <th>66</th>\n",
       "      <td>6</td>\n",
       "      <td>6</td>\n",
       "      <td>16.0</td>\n",
       "      <td>1.0</td>\n",
       "      <td>100000</td>\n",
       "      <td>0.016380</td>\n",
       "      <td>0.088588</td>\n",
       "      <td>0.013397</td>\n",
       "      <td>0.609112</td>\n",
       "    </tr>\n",
       "    <tr>\n",
       "      <th>97</th>\n",
       "      <td>7</td>\n",
       "      <td>7</td>\n",
       "      <td>8.0</td>\n",
       "      <td>2.0</td>\n",
       "      <td>100000</td>\n",
       "      <td>0.024646</td>\n",
       "      <td>0.114160</td>\n",
       "      <td>0.022015</td>\n",
       "      <td>0.627650</td>\n",
       "    </tr>\n",
       "    <tr>\n",
       "      <th>65</th>\n",
       "      <td>5</td>\n",
       "      <td>5</td>\n",
       "      <td>16.0</td>\n",
       "      <td>0.0</td>\n",
       "      <td>100000</td>\n",
       "      <td>0.014977</td>\n",
       "      <td>0.082433</td>\n",
       "      <td>0.011917</td>\n",
       "      <td>0.601376</td>\n",
       "    </tr>\n",
       "    <tr>\n",
       "      <th>94</th>\n",
       "      <td>4</td>\n",
       "      <td>4</td>\n",
       "      <td>8.0</td>\n",
       "      <td>4.0</td>\n",
       "      <td>637801</td>\n",
       "      <td>0.015829</td>\n",
       "      <td>0.085266</td>\n",
       "      <td>0.013457</td>\n",
       "      <td>0.606681</td>\n",
       "    </tr>\n",
       "    <tr>\n",
       "      <th>61</th>\n",
       "      <td>1</td>\n",
       "      <td>1</td>\n",
       "      <td>16.0</td>\n",
       "      <td>1.0</td>\n",
       "      <td>637801</td>\n",
       "      <td>0.009021</td>\n",
       "      <td>0.060086</td>\n",
       "      <td>0.006979</td>\n",
       "      <td>0.591073</td>\n",
       "    </tr>\n",
       "    <tr>\n",
       "      <th>91</th>\n",
       "      <td>1</td>\n",
       "      <td>1</td>\n",
       "      <td>8.0</td>\n",
       "      <td>1.0</td>\n",
       "      <td>637801</td>\n",
       "      <td>0.015735</td>\n",
       "      <td>0.085290</td>\n",
       "      <td>0.013349</td>\n",
       "      <td>0.606578</td>\n",
       "    </tr>\n",
       "    <tr>\n",
       "      <th>90</th>\n",
       "      <td>0</td>\n",
       "      <td>0</td>\n",
       "      <td>8.0</td>\n",
       "      <td>0.0</td>\n",
       "      <td>637801</td>\n",
       "      <td>0.015339</td>\n",
       "      <td>0.082820</td>\n",
       "      <td>0.012753</td>\n",
       "      <td>0.604875</td>\n",
       "    </tr>\n",
       "    <tr>\n",
       "      <th>4</th>\n",
       "      <td>4</td>\n",
       "      <td>4</td>\n",
       "      <td>64.0</td>\n",
       "      <td>4.0</td>\n",
       "      <td>637801</td>\n",
       "      <td>0.002977</td>\n",
       "      <td>0.028604</td>\n",
       "      <td>0.001981</td>\n",
       "      <td>0.578421</td>\n",
       "    </tr>\n",
       "    <tr>\n",
       "      <th>3</th>\n",
       "      <td>3</td>\n",
       "      <td>3</td>\n",
       "      <td>64.0</td>\n",
       "      <td>3.0</td>\n",
       "      <td>637801</td>\n",
       "      <td>0.002991</td>\n",
       "      <td>0.028117</td>\n",
       "      <td>0.001932</td>\n",
       "      <td>0.578187</td>\n",
       "    </tr>\n",
       "    <tr>\n",
       "      <th>2</th>\n",
       "      <td>2</td>\n",
       "      <td>2</td>\n",
       "      <td>64.0</td>\n",
       "      <td>2.0</td>\n",
       "      <td>637801</td>\n",
       "      <td>0.002963</td>\n",
       "      <td>0.028155</td>\n",
       "      <td>0.001933</td>\n",
       "      <td>0.578080</td>\n",
       "    </tr>\n",
       "    <tr>\n",
       "      <th>1</th>\n",
       "      <td>1</td>\n",
       "      <td>1</td>\n",
       "      <td>64.0</td>\n",
       "      <td>1.0</td>\n",
       "      <td>637801</td>\n",
       "      <td>0.003042</td>\n",
       "      <td>0.028414</td>\n",
       "      <td>0.001960</td>\n",
       "      <td>0.578102</td>\n",
       "    </tr>\n",
       "    <tr>\n",
       "      <th>92</th>\n",
       "      <td>2</td>\n",
       "      <td>2</td>\n",
       "      <td>8.0</td>\n",
       "      <td>2.0</td>\n",
       "      <td>637801</td>\n",
       "      <td>0.015054</td>\n",
       "      <td>0.081520</td>\n",
       "      <td>0.012417</td>\n",
       "      <td>0.604485</td>\n",
       "    </tr>\n",
       "    <tr>\n",
       "      <th>93</th>\n",
       "      <td>3</td>\n",
       "      <td>3</td>\n",
       "      <td>8.0</td>\n",
       "      <td>3.0</td>\n",
       "      <td>637801</td>\n",
       "      <td>0.016269</td>\n",
       "      <td>0.087277</td>\n",
       "      <td>0.013934</td>\n",
       "      <td>0.607374</td>\n",
       "    </tr>\n",
       "    <tr>\n",
       "      <th>31</th>\n",
       "      <td>1</td>\n",
       "      <td>1</td>\n",
       "      <td>32.0</td>\n",
       "      <td>1.0</td>\n",
       "      <td>637801</td>\n",
       "      <td>0.004363</td>\n",
       "      <td>0.036546</td>\n",
       "      <td>0.002897</td>\n",
       "      <td>0.581247</td>\n",
       "    </tr>\n",
       "    <tr>\n",
       "      <th>60</th>\n",
       "      <td>0</td>\n",
       "      <td>0</td>\n",
       "      <td>16.0</td>\n",
       "      <td>0.0</td>\n",
       "      <td>637801</td>\n",
       "      <td>0.009072</td>\n",
       "      <td>0.060431</td>\n",
       "      <td>0.007029</td>\n",
       "      <td>0.590950</td>\n",
       "    </tr>\n",
       "    <tr>\n",
       "      <th>32</th>\n",
       "      <td>2</td>\n",
       "      <td>2</td>\n",
       "      <td>32.0</td>\n",
       "      <td>2.0</td>\n",
       "      <td>637801</td>\n",
       "      <td>0.004370</td>\n",
       "      <td>0.036546</td>\n",
       "      <td>0.002882</td>\n",
       "      <td>0.580941</td>\n",
       "    </tr>\n",
       "    <tr>\n",
       "      <th>33</th>\n",
       "      <td>3</td>\n",
       "      <td>3</td>\n",
       "      <td>32.0</td>\n",
       "      <td>3.0</td>\n",
       "      <td>637801</td>\n",
       "      <td>0.004365</td>\n",
       "      <td>0.036778</td>\n",
       "      <td>0.002916</td>\n",
       "      <td>0.581142</td>\n",
       "    </tr>\n",
       "    <tr>\n",
       "      <th>124</th>\n",
       "      <td>4</td>\n",
       "      <td>4</td>\n",
       "      <td>4.0</td>\n",
       "      <td>4.0</td>\n",
       "      <td>637801</td>\n",
       "      <td>0.031082</td>\n",
       "      <td>0.137243</td>\n",
       "      <td>0.029562</td>\n",
       "      <td>0.640196</td>\n",
       "    </tr>\n",
       "    <tr>\n",
       "      <th>123</th>\n",
       "      <td>3</td>\n",
       "      <td>3</td>\n",
       "      <td>4.0</td>\n",
       "      <td>3.0</td>\n",
       "      <td>637801</td>\n",
       "      <td>0.031322</td>\n",
       "      <td>0.137964</td>\n",
       "      <td>0.029788</td>\n",
       "      <td>0.640730</td>\n",
       "    </tr>\n",
       "    <tr>\n",
       "      <th>122</th>\n",
       "      <td>2</td>\n",
       "      <td>2</td>\n",
       "      <td>4.0</td>\n",
       "      <td>2.0</td>\n",
       "      <td>637801</td>\n",
       "      <td>0.031334</td>\n",
       "      <td>0.137665</td>\n",
       "      <td>0.029711</td>\n",
       "      <td>0.640545</td>\n",
       "    </tr>\n",
       "    <tr>\n",
       "      <th>121</th>\n",
       "      <td>1</td>\n",
       "      <td>1</td>\n",
       "      <td>4.0</td>\n",
       "      <td>1.0</td>\n",
       "      <td>637801</td>\n",
       "      <td>0.031254</td>\n",
       "      <td>0.137927</td>\n",
       "      <td>0.029751</td>\n",
       "      <td>0.640646</td>\n",
       "    </tr>\n",
       "    <tr>\n",
       "      <th>120</th>\n",
       "      <td>0</td>\n",
       "      <td>0</td>\n",
       "      <td>4.0</td>\n",
       "      <td>0.0</td>\n",
       "      <td>637801</td>\n",
       "      <td>0.031339</td>\n",
       "      <td>0.138245</td>\n",
       "      <td>0.029922</td>\n",
       "      <td>0.641027</td>\n",
       "    </tr>\n",
       "    <tr>\n",
       "      <th>34</th>\n",
       "      <td>4</td>\n",
       "      <td>4</td>\n",
       "      <td>32.0</td>\n",
       "      <td>4.0</td>\n",
       "      <td>637801</td>\n",
       "      <td>0.004362</td>\n",
       "      <td>0.036244</td>\n",
       "      <td>0.002853</td>\n",
       "      <td>0.581203</td>\n",
       "    </tr>\n",
       "    <tr>\n",
       "      <th>64</th>\n",
       "      <td>4</td>\n",
       "      <td>4</td>\n",
       "      <td>16.0</td>\n",
       "      <td>4.0</td>\n",
       "      <td>637801</td>\n",
       "      <td>0.008875</td>\n",
       "      <td>0.059521</td>\n",
       "      <td>0.006819</td>\n",
       "      <td>0.590949</td>\n",
       "    </tr>\n",
       "    <tr>\n",
       "      <th>63</th>\n",
       "      <td>3</td>\n",
       "      <td>3</td>\n",
       "      <td>16.0</td>\n",
       "      <td>3.0</td>\n",
       "      <td>637801</td>\n",
       "      <td>0.009010</td>\n",
       "      <td>0.059934</td>\n",
       "      <td>0.006928</td>\n",
       "      <td>0.590933</td>\n",
       "    </tr>\n",
       "    <tr>\n",
       "      <th>62</th>\n",
       "      <td>2</td>\n",
       "      <td>2</td>\n",
       "      <td>16.0</td>\n",
       "      <td>2.0</td>\n",
       "      <td>637801</td>\n",
       "      <td>0.008960</td>\n",
       "      <td>0.059771</td>\n",
       "      <td>0.006922</td>\n",
       "      <td>0.591206</td>\n",
       "    </tr>\n",
       "    <tr>\n",
       "      <th>30</th>\n",
       "      <td>0</td>\n",
       "      <td>0</td>\n",
       "      <td>32.0</td>\n",
       "      <td>0.0</td>\n",
       "      <td>637801</td>\n",
       "      <td>0.004369</td>\n",
       "      <td>0.036411</td>\n",
       "      <td>0.002886</td>\n",
       "      <td>0.580954</td>\n",
       "    </tr>\n",
       "    <tr>\n",
       "      <th>0</th>\n",
       "      <td>0</td>\n",
       "      <td>0</td>\n",
       "      <td>64.0</td>\n",
       "      <td>0.0</td>\n",
       "      <td>637801</td>\n",
       "      <td>0.002982</td>\n",
       "      <td>0.028087</td>\n",
       "      <td>0.001939</td>\n",
       "      <td>0.578081</td>\n",
       "    </tr>\n",
       "  </tbody>\n",
       "</table>\n",
       "</div>"
      ],
      "text/plain": [
       "     index  Unnamed: 0  Latent units  Repeat  N samples      Loss       MAE  \\\n",
       "149     29          29           4.0     4.0         10  0.080948  0.219168   \n",
       "118     28          28           8.0     3.0         10  0.103500  0.240473   \n",
       "119     29          29           8.0     4.0         10  0.074072  0.204873   \n",
       "115     25          25           8.0     0.0         10  0.130966  0.267412   \n",
       "29      29          29          64.0     4.0         10  0.072760  0.204671   \n",
       "28      28          28          64.0     3.0         10  0.127321  0.287629   \n",
       "27      27          27          64.0     2.0         10  0.063212  0.191945   \n",
       "26      26          26          64.0     1.0         10  0.063472  0.190750   \n",
       "25      25          25          64.0     0.0         10  0.126515  0.287890   \n",
       "117     27          27           8.0     2.0         10  0.065530  0.185052   \n",
       "55      25          25          32.0     0.0         10  0.059204  0.183367   \n",
       "56      26          26          32.0     1.0         10  0.100070  0.246007   \n",
       "57      27          27          32.0     2.0         10  0.131189  0.286450   \n",
       "58      28          28          32.0     3.0         10  0.079979  0.209128   \n",
       "116     26          26           8.0     1.0         10  0.075901  0.204121   \n",
       "89      29          29          16.0     4.0         10  0.079759  0.209763   \n",
       "147     27          27           4.0     2.0         10  0.102053  0.247439   \n",
       "146     26          26           4.0     1.0         10  0.101028  0.244631   \n",
       "145     25          25           4.0     0.0         10  0.115679  0.269782   \n",
       "59      29          29          32.0     4.0         10  0.092071  0.229365   \n",
       "85      25          25          16.0     0.0         10  0.111730  0.249684   \n",
       "148     28          28           4.0     3.0         10  0.075776  0.219064   \n",
       "86      26          26          16.0     1.0         10  0.093280  0.229767   \n",
       "87      27          27          16.0     2.0         10  0.078922  0.204115   \n",
       "88      28          28          16.0     3.0         10  0.115782  0.254108   \n",
       "50      20          20          32.0     0.0        100  0.038936  0.142171   \n",
       "110     20          20           8.0     0.0        100  0.052393  0.163843   \n",
       "83      23          23          16.0     3.0        100  0.050516  0.160506   \n",
       "52      22          22          32.0     2.0        100  0.044779  0.152987   \n",
       "53      23          23          32.0     3.0        100  0.042059  0.148926   \n",
       "80      20          20          16.0     0.0        100  0.049041  0.156757   \n",
       "81      21          21          16.0     1.0        100  0.048947  0.156413   \n",
       "82      22          22          16.0     2.0        100  0.048470  0.153893   \n",
       "112     22          22           8.0     2.0        100  0.053153  0.169117   \n",
       "113     23          23           8.0     3.0        100  0.050536  0.163021   \n",
       "114     24          24           8.0     4.0        100  0.054319  0.173141   \n",
       "51      21          21          32.0     1.0        100  0.042140  0.148146   \n",
       "54      24          24          32.0     4.0        100  0.041726  0.151320   \n",
       "111     21          21           8.0     1.0        100  0.056604  0.172703   \n",
       "84      24          24          16.0     4.0        100  0.052119  0.164689   \n",
       "144     24          24           4.0     4.0        100  0.056002  0.190550   \n",
       "143     23          23           4.0     3.0        100  0.056202  0.190177   \n",
       "24      24          24          64.0     4.0        100  0.038825  0.138485   \n",
       "23      23          23          64.0     3.0        100  0.045971  0.151476   \n",
       "142     22          22           4.0     2.0        100  0.055816  0.188465   \n",
       "140     20          20           4.0     0.0        100  0.060234  0.193058   \n",
       "22      22          22          64.0     2.0        100  0.043062  0.145874   \n",
       "21      21          21          64.0     1.0        100  0.045501  0.151659   \n",
       "20      20          20          64.0     0.0        100  0.038685  0.136766   \n",
       "141     21          21           4.0     1.0        100  0.057747  0.192632   \n",
       "136     16          16           4.0     1.0       1000  0.057141  0.191209   \n",
       "137     17          17           4.0     2.0       1000  0.054901  0.188399   \n",
       "138     18          18           4.0     3.0       1000  0.055516  0.188830   \n",
       "139     19          19           4.0     4.0       1000  0.057382  0.192159   \n",
       "75      15          15          16.0     0.0       1000  0.046702  0.152613   \n",
       "76      16          16          16.0     1.0       1000  0.046846  0.153748   \n",
       "77      17          17          16.0     2.0       1000  0.046672  0.152890   \n",
       "78      18          18          16.0     3.0       1000  0.046586  0.152099   \n",
       "79      19          19          16.0     4.0       1000  0.045947  0.150831   \n",
       "105     15          15           8.0     0.0       1000  0.049952  0.161564   \n",
       "106     16          16           8.0     1.0       1000  0.049958  0.162719   \n",
       "107     17          17           8.0     2.0       1000  0.050325  0.164282   \n",
       "108     18          18           8.0     3.0       1000  0.050173  0.163145   \n",
       "109     19          19           8.0     4.0       1000  0.050214  0.163352   \n",
       "45      15          15          32.0     0.0       1000  0.034733  0.134854   \n",
       "46      16          16          32.0     1.0       1000  0.035216  0.134916   \n",
       "47      17          17          32.0     2.0       1000  0.035016  0.135367   \n",
       "48      18          18          32.0     3.0       1000  0.034529  0.133693   \n",
       "49      19          19          32.0     4.0       1000  0.034260  0.133504   \n",
       "19      19          19          64.0     4.0       1000  0.028855  0.115067   \n",
       "17      17          17          64.0     2.0       1000  0.027571  0.112109   \n",
       "18      18          18          64.0     3.0       1000  0.028307  0.114217   \n",
       "15      15          15          64.0     0.0       1000  0.028109  0.113217   \n",
       "135     15          15           4.0     0.0       1000  0.055696  0.189913   \n",
       "16      16          16          64.0     1.0       1000  0.029510  0.117687   \n",
       "130     10          10           4.0     0.0      10000  0.050144  0.177188   \n",
       "134     14          14           4.0     4.0      10000  0.051214  0.180231   \n",
       "100     10          10           8.0     0.0      10000  0.046459  0.155044   \n",
       "101     11          11           8.0     1.0      10000  0.046323  0.154863   \n",
       "102     12          12           8.0     2.0      10000  0.046268  0.154932   \n",
       "103     13          13           8.0     3.0      10000  0.046427  0.154777   \n",
       "104     14          14           8.0     4.0      10000  0.046531  0.155129   \n",
       "133     13          13           4.0     3.0      10000  0.051918  0.181373   \n",
       "132     12          12           4.0     2.0      10000  0.050579  0.179060   \n",
       "131     11          11           4.0     1.0      10000  0.049692  0.176923   \n",
       "74      14          14          16.0     4.0      10000  0.050690  0.162392   \n",
       "72      12          12          16.0     2.0      10000  0.038376  0.132268   \n",
       "42      12          12          32.0     2.0      10000  0.022570  0.097543   \n",
       "43      13          13          32.0     3.0      10000  0.021882  0.095176   \n",
       "44      14          14          32.0     4.0      10000  0.021390  0.093040   \n",
       "73      13          13          16.0     3.0      10000  0.040389  0.139571   \n",
       "41      11          11          32.0     1.0      10000  0.023617  0.098822   \n",
       "14      14          14          64.0     4.0      10000  0.018645  0.079439   \n",
       "13      13          13          64.0     3.0      10000  0.019331  0.081838   \n",
       "12      12          12          64.0     2.0      10000  0.017209  0.073872   \n",
       "40      10          10          32.0     0.0      10000  0.023430  0.100573   \n",
       "10      10          10          64.0     0.0      10000  0.018134  0.077221   \n",
       "71      11          11          16.0     1.0      10000  0.043419  0.147378   \n",
       "70      10          10          16.0     0.0      10000  0.039836  0.135853   \n",
       "11      11          11          64.0     1.0      10000  0.017372  0.074841   \n",
       "5        5           5          64.0     0.0     100000  0.006445  0.042019   \n",
       "39       9           9          32.0     4.0     100000  0.010163  0.065760   \n",
       "38       8           8          32.0     3.0     100000  0.009914  0.063972   \n",
       "37       7           7          32.0     2.0     100000  0.009477  0.061263   \n",
       "6        6           6          64.0     1.0     100000  0.006809  0.046360   \n",
       "35       5           5          32.0     0.0     100000  0.008157  0.054327   \n",
       "126      6           6           4.0     1.0     100000  0.034357  0.146995   \n",
       "127      7           7           4.0     2.0     100000  0.034346  0.145371   \n",
       "128      8           8           4.0     3.0     100000  0.034799  0.147985   \n",
       "7        7           7          64.0     2.0     100000  0.007089  0.047573   \n",
       "8        8           8          64.0     3.0     100000  0.008074  0.051030   \n",
       "9        9           9          64.0     4.0     100000  0.006303  0.041788   \n",
       "125      5           5           4.0     0.0     100000  0.033963  0.145284   \n",
       "129      9           9           4.0     4.0     100000  0.034748  0.147367   \n",
       "36       6           6          32.0     1.0     100000  0.010205  0.063137   \n",
       "98       8           8           8.0     3.0     100000  0.024784  0.115093   \n",
       "96       6           6           8.0     1.0     100000  0.024952  0.116485   \n",
       "95       5           5           8.0     0.0     100000  0.025541  0.118236   \n",
       "99       9           9           8.0     4.0     100000  0.026756  0.120835   \n",
       "69       9           9          16.0     4.0     100000  0.015429  0.082800   \n",
       "68       8           8          16.0     3.0     100000  0.017335  0.088814   \n",
       "67       7           7          16.0     2.0     100000  0.015035  0.081387   \n",
       "66       6           6          16.0     1.0     100000  0.016380  0.088588   \n",
       "97       7           7           8.0     2.0     100000  0.024646  0.114160   \n",
       "65       5           5          16.0     0.0     100000  0.014977  0.082433   \n",
       "94       4           4           8.0     4.0     637801  0.015829  0.085266   \n",
       "61       1           1          16.0     1.0     637801  0.009021  0.060086   \n",
       "91       1           1           8.0     1.0     637801  0.015735  0.085290   \n",
       "90       0           0           8.0     0.0     637801  0.015339  0.082820   \n",
       "4        4           4          64.0     4.0     637801  0.002977  0.028604   \n",
       "3        3           3          64.0     3.0     637801  0.002991  0.028117   \n",
       "2        2           2          64.0     2.0     637801  0.002963  0.028155   \n",
       "1        1           1          64.0     1.0     637801  0.003042  0.028414   \n",
       "92       2           2           8.0     2.0     637801  0.015054  0.081520   \n",
       "93       3           3           8.0     3.0     637801  0.016269  0.087277   \n",
       "31       1           1          32.0     1.0     637801  0.004363  0.036546   \n",
       "60       0           0          16.0     0.0     637801  0.009072  0.060431   \n",
       "32       2           2          32.0     2.0     637801  0.004370  0.036546   \n",
       "33       3           3          32.0     3.0     637801  0.004365  0.036778   \n",
       "124      4           4           4.0     4.0     637801  0.031082  0.137243   \n",
       "123      3           3           4.0     3.0     637801  0.031322  0.137964   \n",
       "122      2           2           4.0     2.0     637801  0.031334  0.137665   \n",
       "121      1           1           4.0     1.0     637801  0.031254  0.137927   \n",
       "120      0           0           4.0     0.0     637801  0.031339  0.138245   \n",
       "34       4           4          32.0     4.0     637801  0.004362  0.036244   \n",
       "64       4           4          16.0     4.0     637801  0.008875  0.059521   \n",
       "63       3           3          16.0     3.0     637801  0.009010  0.059934   \n",
       "62       2           2          16.0     2.0     637801  0.008960  0.059771   \n",
       "30       0           0          32.0     0.0     637801  0.004369  0.036411   \n",
       "0        0           0          64.0     0.0     637801  0.002982  0.028087   \n",
       "\n",
       "          MSE  Binary Crossentropy  \n",
       "149  0.075658             0.743066  \n",
       "118  0.092229             0.859735  \n",
       "119  0.062663             0.720549  \n",
       "115  0.119646             1.770519  \n",
       "29   0.064811             0.731391  \n",
       "28   0.119437             0.916935  \n",
       "27   0.055309             0.698887  \n",
       "26   0.055540             0.698141  \n",
       "25   0.118649             1.107913  \n",
       "117  0.054162             0.737900  \n",
       "55   0.051617             0.698478  \n",
       "56   0.092521             0.785259  \n",
       "57   0.123691             0.898207  \n",
       "58   0.072404             0.879639  \n",
       "116  0.064594             0.749243  \n",
       "89   0.067498             0.743998  \n",
       "147  0.096925             0.856972  \n",
       "146  0.095841             0.803696  \n",
       "145  0.110503             0.836037  \n",
       "59   0.084484             1.076188  \n",
       "85   0.099475             1.222544  \n",
       "148  0.070581             0.785958  \n",
       "86   0.081017             0.758583  \n",
       "87   0.066667             0.732232  \n",
       "88   0.103555             1.250441  \n",
       "50   0.031311             0.645137  \n",
       "110  0.041104             0.672971  \n",
       "83   0.038288             0.666277  \n",
       "52   0.037154             0.696160  \n",
       "53   0.034466             0.654700  \n",
       "80   0.036746             0.676335  \n",
       "81   0.036738             0.658547  \n",
       "82   0.036214             0.658293  \n",
       "112  0.041839             0.666682  \n",
       "113  0.039235             0.662714  \n",
       "114  0.043030             0.669511  \n",
       "51   0.034532             0.682543  \n",
       "54   0.034116             0.654186  \n",
       "111  0.045239             0.675476  \n",
       "84   0.039909             0.662768  \n",
       "144  0.050961             0.685919  \n",
       "143  0.051177             0.686356  \n",
       "24   0.030828             0.649454  \n",
       "23   0.038096             0.680613  \n",
       "142  0.050709             0.685408  \n",
       "140  0.055186             0.695149  \n",
       "22   0.035078             0.682946  \n",
       "21   0.037528             0.673062  \n",
       "20   0.030773             0.649292  \n",
       "141  0.052782             0.689605  \n",
       "136  0.051923             0.687857  \n",
       "137  0.049937             0.683825  \n",
       "138  0.050381             0.684722  \n",
       "139  0.052347             0.688726  \n",
       "75   0.034522             0.652022  \n",
       "76   0.034600             0.651571  \n",
       "77   0.034386             0.651224  \n",
       "78   0.034292             0.651223  \n",
       "79   0.033693             0.650176  \n",
       "105  0.038649             0.661234  \n",
       "106  0.038685             0.661838  \n",
       "107  0.039058             0.661126  \n",
       "108  0.038875             0.660500  \n",
       "109  0.038895             0.661019  \n",
       "45   0.027225             0.639011  \n",
       "46   0.027563             0.637428  \n",
       "47   0.027468             0.636752  \n",
       "48   0.026910             0.642518  \n",
       "49   0.026634             0.634676  \n",
       "19   0.020841             0.624645  \n",
       "17   0.019593             0.620331  \n",
       "18   0.020289             0.623652  \n",
       "15   0.020132             0.633381  \n",
       "135  0.050812             0.685618  \n",
       "16   0.021435             0.623257  \n",
       "130  0.045544             0.675946  \n",
       "134  0.046692             0.677315  \n",
       "100  0.035666             0.655378  \n",
       "101  0.035584             0.655459  \n",
       "102  0.035559             0.655638  \n",
       "103  0.035707             0.655556  \n",
       "104  0.035704             0.655571  \n",
       "133  0.047394             0.678670  \n",
       "132  0.046058             0.676114  \n",
       "131  0.045033             0.677582  \n",
       "74   0.039060             0.663290  \n",
       "72   0.026736             0.640206  \n",
       "42   0.015229             0.613211  \n",
       "43   0.014497             0.610958  \n",
       "44   0.014033             0.611407  \n",
       "73   0.028776             0.641180  \n",
       "41   0.016211             0.628633  \n",
       "14   0.010981             0.617122  \n",
       "13   0.011459             0.615987  \n",
       "12   0.009377             0.599737  \n",
       "40   0.016064             0.613316  \n",
       "10   0.010353             0.602534  \n",
       "71   0.031773             0.645624  \n",
       "70   0.028238             0.643369  \n",
       "11   0.009655             0.603662  \n",
       "5    0.003558             0.583002  \n",
       "39   0.007545             0.593285  \n",
       "38   0.007230             0.592814  \n",
       "37   0.006642             0.590828  \n",
       "6    0.004092             0.583392  \n",
       "35   0.005524             0.588700  \n",
       "126  0.032782             0.647405  \n",
       "127  0.032595             0.646993  \n",
       "128  0.033337             0.648483  \n",
       "7    0.004221             0.584107  \n",
       "8    0.005251             0.586973  \n",
       "9    0.003585             0.583052  \n",
       "125  0.032438             0.646593  \n",
       "129  0.033033             0.647986  \n",
       "36   0.007397             0.596069  \n",
       "98   0.021811             0.624981  \n",
       "96   0.022293             0.625010  \n",
       "95   0.022744             0.625848  \n",
       "99   0.024157             0.628830  \n",
       "69   0.012252             0.604145  \n",
       "68   0.014386             0.614018  \n",
       "67   0.011980             0.602024  \n",
       "66   0.013397             0.609112  \n",
       "97   0.022015             0.627650  \n",
       "65   0.011917             0.601376  \n",
       "94   0.013457             0.606681  \n",
       "61   0.006979             0.591073  \n",
       "91   0.013349             0.606578  \n",
       "90   0.012753             0.604875  \n",
       "4    0.001981             0.578421  \n",
       "3    0.001932             0.578187  \n",
       "2    0.001933             0.578080  \n",
       "1    0.001960             0.578102  \n",
       "92   0.012417             0.604485  \n",
       "93   0.013934             0.607374  \n",
       "31   0.002897             0.581247  \n",
       "60   0.007029             0.590950  \n",
       "32   0.002882             0.580941  \n",
       "33   0.002916             0.581142  \n",
       "124  0.029562             0.640196  \n",
       "123  0.029788             0.640730  \n",
       "122  0.029711             0.640545  \n",
       "121  0.029751             0.640646  \n",
       "120  0.029922             0.641027  \n",
       "34   0.002853             0.581203  \n",
       "64   0.006819             0.590949  \n",
       "63   0.006928             0.590933  \n",
       "62   0.006922             0.591206  \n",
       "30   0.002886             0.580954  \n",
       "0    0.001939             0.578081  "
      ]
     },
     "execution_count": 80,
     "metadata": {},
     "output_type": "execute_result"
    }
   ],
   "source": [
    "latent_only.sort_values(by=['N samples'])"
   ]
  },
  {
   "cell_type": "code",
   "execution_count": 81,
   "id": "5fadecdd",
   "metadata": {},
   "outputs": [
    {
     "data": {
      "text/html": [
       "<div>\n",
       "<style scoped>\n",
       "    .dataframe tbody tr th:only-of-type {\n",
       "        vertical-align: middle;\n",
       "    }\n",
       "\n",
       "    .dataframe tbody tr th {\n",
       "        vertical-align: top;\n",
       "    }\n",
       "\n",
       "    .dataframe thead th {\n",
       "        text-align: right;\n",
       "    }\n",
       "</style>\n",
       "<table border=\"1\" class=\"dataframe\">\n",
       "  <thead>\n",
       "    <tr style=\"text-align: right;\">\n",
       "      <th></th>\n",
       "      <th>N samples</th>\n",
       "      <th>Latent units</th>\n",
       "      <th>index</th>\n",
       "      <th>Unnamed: 0</th>\n",
       "      <th>Repeat</th>\n",
       "      <th>Loss</th>\n",
       "      <th>MAE</th>\n",
       "      <th>MSE</th>\n",
       "      <th>Binary Crossentropy</th>\n",
       "    </tr>\n",
       "  </thead>\n",
       "  <tbody>\n",
       "    <tr>\n",
       "      <th>0</th>\n",
       "      <td>10</td>\n",
       "      <td>4.0</td>\n",
       "      <td>27.0</td>\n",
       "      <td>27.0</td>\n",
       "      <td>2.0</td>\n",
       "      <td>0.101028</td>\n",
       "      <td>0.244631</td>\n",
       "      <td>0.095841</td>\n",
       "      <td>0.803696</td>\n",
       "    </tr>\n",
       "    <tr>\n",
       "      <th>1</th>\n",
       "      <td>10</td>\n",
       "      <td>8.0</td>\n",
       "      <td>27.0</td>\n",
       "      <td>27.0</td>\n",
       "      <td>2.0</td>\n",
       "      <td>0.075901</td>\n",
       "      <td>0.204873</td>\n",
       "      <td>0.064594</td>\n",
       "      <td>0.749243</td>\n",
       "    </tr>\n",
       "    <tr>\n",
       "      <th>2</th>\n",
       "      <td>10</td>\n",
       "      <td>16.0</td>\n",
       "      <td>27.0</td>\n",
       "      <td>27.0</td>\n",
       "      <td>2.0</td>\n",
       "      <td>0.093280</td>\n",
       "      <td>0.229767</td>\n",
       "      <td>0.081017</td>\n",
       "      <td>0.758583</td>\n",
       "    </tr>\n",
       "    <tr>\n",
       "      <th>3</th>\n",
       "      <td>10</td>\n",
       "      <td>32.0</td>\n",
       "      <td>27.0</td>\n",
       "      <td>27.0</td>\n",
       "      <td>2.0</td>\n",
       "      <td>0.092071</td>\n",
       "      <td>0.229365</td>\n",
       "      <td>0.084484</td>\n",
       "      <td>0.879639</td>\n",
       "    </tr>\n",
       "    <tr>\n",
       "      <th>4</th>\n",
       "      <td>10</td>\n",
       "      <td>64.0</td>\n",
       "      <td>27.0</td>\n",
       "      <td>27.0</td>\n",
       "      <td>2.0</td>\n",
       "      <td>0.072760</td>\n",
       "      <td>0.204671</td>\n",
       "      <td>0.064811</td>\n",
       "      <td>0.731391</td>\n",
       "    </tr>\n",
       "    <tr>\n",
       "      <th>5</th>\n",
       "      <td>100</td>\n",
       "      <td>4.0</td>\n",
       "      <td>22.0</td>\n",
       "      <td>22.0</td>\n",
       "      <td>2.0</td>\n",
       "      <td>0.056202</td>\n",
       "      <td>0.190550</td>\n",
       "      <td>0.051177</td>\n",
       "      <td>0.686356</td>\n",
       "    </tr>\n",
       "    <tr>\n",
       "      <th>6</th>\n",
       "      <td>100</td>\n",
       "      <td>8.0</td>\n",
       "      <td>22.0</td>\n",
       "      <td>22.0</td>\n",
       "      <td>2.0</td>\n",
       "      <td>0.053153</td>\n",
       "      <td>0.169117</td>\n",
       "      <td>0.041839</td>\n",
       "      <td>0.669511</td>\n",
       "    </tr>\n",
       "    <tr>\n",
       "      <th>7</th>\n",
       "      <td>100</td>\n",
       "      <td>16.0</td>\n",
       "      <td>22.0</td>\n",
       "      <td>22.0</td>\n",
       "      <td>2.0</td>\n",
       "      <td>0.049041</td>\n",
       "      <td>0.156757</td>\n",
       "      <td>0.036746</td>\n",
       "      <td>0.662768</td>\n",
       "    </tr>\n",
       "    <tr>\n",
       "      <th>8</th>\n",
       "      <td>100</td>\n",
       "      <td>32.0</td>\n",
       "      <td>22.0</td>\n",
       "      <td>22.0</td>\n",
       "      <td>2.0</td>\n",
       "      <td>0.042059</td>\n",
       "      <td>0.148926</td>\n",
       "      <td>0.034466</td>\n",
       "      <td>0.654700</td>\n",
       "    </tr>\n",
       "    <tr>\n",
       "      <th>9</th>\n",
       "      <td>100</td>\n",
       "      <td>64.0</td>\n",
       "      <td>22.0</td>\n",
       "      <td>22.0</td>\n",
       "      <td>2.0</td>\n",
       "      <td>0.043062</td>\n",
       "      <td>0.145874</td>\n",
       "      <td>0.035078</td>\n",
       "      <td>0.673062</td>\n",
       "    </tr>\n",
       "    <tr>\n",
       "      <th>10</th>\n",
       "      <td>1000</td>\n",
       "      <td>4.0</td>\n",
       "      <td>17.0</td>\n",
       "      <td>17.0</td>\n",
       "      <td>2.0</td>\n",
       "      <td>0.055696</td>\n",
       "      <td>0.189913</td>\n",
       "      <td>0.050812</td>\n",
       "      <td>0.685618</td>\n",
       "    </tr>\n",
       "    <tr>\n",
       "      <th>11</th>\n",
       "      <td>1000</td>\n",
       "      <td>8.0</td>\n",
       "      <td>17.0</td>\n",
       "      <td>17.0</td>\n",
       "      <td>2.0</td>\n",
       "      <td>0.050173</td>\n",
       "      <td>0.163145</td>\n",
       "      <td>0.038875</td>\n",
       "      <td>0.661126</td>\n",
       "    </tr>\n",
       "    <tr>\n",
       "      <th>12</th>\n",
       "      <td>1000</td>\n",
       "      <td>16.0</td>\n",
       "      <td>17.0</td>\n",
       "      <td>17.0</td>\n",
       "      <td>2.0</td>\n",
       "      <td>0.046672</td>\n",
       "      <td>0.152613</td>\n",
       "      <td>0.034386</td>\n",
       "      <td>0.651224</td>\n",
       "    </tr>\n",
       "    <tr>\n",
       "      <th>13</th>\n",
       "      <td>1000</td>\n",
       "      <td>32.0</td>\n",
       "      <td>17.0</td>\n",
       "      <td>17.0</td>\n",
       "      <td>2.0</td>\n",
       "      <td>0.034733</td>\n",
       "      <td>0.134854</td>\n",
       "      <td>0.027225</td>\n",
       "      <td>0.637428</td>\n",
       "    </tr>\n",
       "    <tr>\n",
       "      <th>14</th>\n",
       "      <td>1000</td>\n",
       "      <td>64.0</td>\n",
       "      <td>17.0</td>\n",
       "      <td>17.0</td>\n",
       "      <td>2.0</td>\n",
       "      <td>0.028307</td>\n",
       "      <td>0.114217</td>\n",
       "      <td>0.020289</td>\n",
       "      <td>0.623652</td>\n",
       "    </tr>\n",
       "    <tr>\n",
       "      <th>15</th>\n",
       "      <td>10000</td>\n",
       "      <td>4.0</td>\n",
       "      <td>12.0</td>\n",
       "      <td>12.0</td>\n",
       "      <td>2.0</td>\n",
       "      <td>0.050579</td>\n",
       "      <td>0.179060</td>\n",
       "      <td>0.046058</td>\n",
       "      <td>0.677315</td>\n",
       "    </tr>\n",
       "    <tr>\n",
       "      <th>16</th>\n",
       "      <td>10000</td>\n",
       "      <td>8.0</td>\n",
       "      <td>12.0</td>\n",
       "      <td>12.0</td>\n",
       "      <td>2.0</td>\n",
       "      <td>0.046427</td>\n",
       "      <td>0.154932</td>\n",
       "      <td>0.035666</td>\n",
       "      <td>0.655556</td>\n",
       "    </tr>\n",
       "    <tr>\n",
       "      <th>17</th>\n",
       "      <td>10000</td>\n",
       "      <td>16.0</td>\n",
       "      <td>12.0</td>\n",
       "      <td>12.0</td>\n",
       "      <td>2.0</td>\n",
       "      <td>0.040389</td>\n",
       "      <td>0.139571</td>\n",
       "      <td>0.028776</td>\n",
       "      <td>0.643369</td>\n",
       "    </tr>\n",
       "    <tr>\n",
       "      <th>18</th>\n",
       "      <td>10000</td>\n",
       "      <td>32.0</td>\n",
       "      <td>12.0</td>\n",
       "      <td>12.0</td>\n",
       "      <td>2.0</td>\n",
       "      <td>0.022570</td>\n",
       "      <td>0.097543</td>\n",
       "      <td>0.015229</td>\n",
       "      <td>0.613211</td>\n",
       "    </tr>\n",
       "    <tr>\n",
       "      <th>19</th>\n",
       "      <td>10000</td>\n",
       "      <td>64.0</td>\n",
       "      <td>12.0</td>\n",
       "      <td>12.0</td>\n",
       "      <td>2.0</td>\n",
       "      <td>0.018134</td>\n",
       "      <td>0.077221</td>\n",
       "      <td>0.010353</td>\n",
       "      <td>0.603662</td>\n",
       "    </tr>\n",
       "    <tr>\n",
       "      <th>20</th>\n",
       "      <td>100000</td>\n",
       "      <td>4.0</td>\n",
       "      <td>7.0</td>\n",
       "      <td>7.0</td>\n",
       "      <td>2.0</td>\n",
       "      <td>0.034357</td>\n",
       "      <td>0.146995</td>\n",
       "      <td>0.032782</td>\n",
       "      <td>0.647405</td>\n",
       "    </tr>\n",
       "    <tr>\n",
       "      <th>21</th>\n",
       "      <td>100000</td>\n",
       "      <td>8.0</td>\n",
       "      <td>7.0</td>\n",
       "      <td>7.0</td>\n",
       "      <td>2.0</td>\n",
       "      <td>0.024952</td>\n",
       "      <td>0.116485</td>\n",
       "      <td>0.022293</td>\n",
       "      <td>0.625848</td>\n",
       "    </tr>\n",
       "    <tr>\n",
       "      <th>22</th>\n",
       "      <td>100000</td>\n",
       "      <td>16.0</td>\n",
       "      <td>7.0</td>\n",
       "      <td>7.0</td>\n",
       "      <td>2.0</td>\n",
       "      <td>0.015429</td>\n",
       "      <td>0.082800</td>\n",
       "      <td>0.012252</td>\n",
       "      <td>0.604145</td>\n",
       "    </tr>\n",
       "    <tr>\n",
       "      <th>23</th>\n",
       "      <td>100000</td>\n",
       "      <td>32.0</td>\n",
       "      <td>7.0</td>\n",
       "      <td>7.0</td>\n",
       "      <td>2.0</td>\n",
       "      <td>0.009914</td>\n",
       "      <td>0.063137</td>\n",
       "      <td>0.007230</td>\n",
       "      <td>0.592814</td>\n",
       "    </tr>\n",
       "    <tr>\n",
       "      <th>24</th>\n",
       "      <td>100000</td>\n",
       "      <td>64.0</td>\n",
       "      <td>7.0</td>\n",
       "      <td>7.0</td>\n",
       "      <td>2.0</td>\n",
       "      <td>0.006809</td>\n",
       "      <td>0.046360</td>\n",
       "      <td>0.004092</td>\n",
       "      <td>0.583392</td>\n",
       "    </tr>\n",
       "    <tr>\n",
       "      <th>25</th>\n",
       "      <td>637801</td>\n",
       "      <td>4.0</td>\n",
       "      <td>2.0</td>\n",
       "      <td>2.0</td>\n",
       "      <td>2.0</td>\n",
       "      <td>0.031322</td>\n",
       "      <td>0.137927</td>\n",
       "      <td>0.029751</td>\n",
       "      <td>0.640646</td>\n",
       "    </tr>\n",
       "    <tr>\n",
       "      <th>26</th>\n",
       "      <td>637801</td>\n",
       "      <td>8.0</td>\n",
       "      <td>2.0</td>\n",
       "      <td>2.0</td>\n",
       "      <td>2.0</td>\n",
       "      <td>0.015735</td>\n",
       "      <td>0.085266</td>\n",
       "      <td>0.013349</td>\n",
       "      <td>0.606578</td>\n",
       "    </tr>\n",
       "    <tr>\n",
       "      <th>27</th>\n",
       "      <td>637801</td>\n",
       "      <td>16.0</td>\n",
       "      <td>2.0</td>\n",
       "      <td>2.0</td>\n",
       "      <td>2.0</td>\n",
       "      <td>0.009010</td>\n",
       "      <td>0.059934</td>\n",
       "      <td>0.006928</td>\n",
       "      <td>0.590950</td>\n",
       "    </tr>\n",
       "    <tr>\n",
       "      <th>28</th>\n",
       "      <td>637801</td>\n",
       "      <td>32.0</td>\n",
       "      <td>2.0</td>\n",
       "      <td>2.0</td>\n",
       "      <td>2.0</td>\n",
       "      <td>0.004365</td>\n",
       "      <td>0.036546</td>\n",
       "      <td>0.002886</td>\n",
       "      <td>0.581142</td>\n",
       "    </tr>\n",
       "    <tr>\n",
       "      <th>29</th>\n",
       "      <td>637801</td>\n",
       "      <td>64.0</td>\n",
       "      <td>2.0</td>\n",
       "      <td>2.0</td>\n",
       "      <td>2.0</td>\n",
       "      <td>0.002982</td>\n",
       "      <td>0.028155</td>\n",
       "      <td>0.001939</td>\n",
       "      <td>0.578102</td>\n",
       "    </tr>\n",
       "  </tbody>\n",
       "</table>\n",
       "</div>"
      ],
      "text/plain": [
       "    N samples  Latent units  index  Unnamed: 0  Repeat      Loss       MAE  \\\n",
       "0          10           4.0   27.0        27.0     2.0  0.101028  0.244631   \n",
       "1          10           8.0   27.0        27.0     2.0  0.075901  0.204873   \n",
       "2          10          16.0   27.0        27.0     2.0  0.093280  0.229767   \n",
       "3          10          32.0   27.0        27.0     2.0  0.092071  0.229365   \n",
       "4          10          64.0   27.0        27.0     2.0  0.072760  0.204671   \n",
       "5         100           4.0   22.0        22.0     2.0  0.056202  0.190550   \n",
       "6         100           8.0   22.0        22.0     2.0  0.053153  0.169117   \n",
       "7         100          16.0   22.0        22.0     2.0  0.049041  0.156757   \n",
       "8         100          32.0   22.0        22.0     2.0  0.042059  0.148926   \n",
       "9         100          64.0   22.0        22.0     2.0  0.043062  0.145874   \n",
       "10       1000           4.0   17.0        17.0     2.0  0.055696  0.189913   \n",
       "11       1000           8.0   17.0        17.0     2.0  0.050173  0.163145   \n",
       "12       1000          16.0   17.0        17.0     2.0  0.046672  0.152613   \n",
       "13       1000          32.0   17.0        17.0     2.0  0.034733  0.134854   \n",
       "14       1000          64.0   17.0        17.0     2.0  0.028307  0.114217   \n",
       "15      10000           4.0   12.0        12.0     2.0  0.050579  0.179060   \n",
       "16      10000           8.0   12.0        12.0     2.0  0.046427  0.154932   \n",
       "17      10000          16.0   12.0        12.0     2.0  0.040389  0.139571   \n",
       "18      10000          32.0   12.0        12.0     2.0  0.022570  0.097543   \n",
       "19      10000          64.0   12.0        12.0     2.0  0.018134  0.077221   \n",
       "20     100000           4.0    7.0         7.0     2.0  0.034357  0.146995   \n",
       "21     100000           8.0    7.0         7.0     2.0  0.024952  0.116485   \n",
       "22     100000          16.0    7.0         7.0     2.0  0.015429  0.082800   \n",
       "23     100000          32.0    7.0         7.0     2.0  0.009914  0.063137   \n",
       "24     100000          64.0    7.0         7.0     2.0  0.006809  0.046360   \n",
       "25     637801           4.0    2.0         2.0     2.0  0.031322  0.137927   \n",
       "26     637801           8.0    2.0         2.0     2.0  0.015735  0.085266   \n",
       "27     637801          16.0    2.0         2.0     2.0  0.009010  0.059934   \n",
       "28     637801          32.0    2.0         2.0     2.0  0.004365  0.036546   \n",
       "29     637801          64.0    2.0         2.0     2.0  0.002982  0.028155   \n",
       "\n",
       "         MSE  Binary Crossentropy  \n",
       "0   0.095841             0.803696  \n",
       "1   0.064594             0.749243  \n",
       "2   0.081017             0.758583  \n",
       "3   0.084484             0.879639  \n",
       "4   0.064811             0.731391  \n",
       "5   0.051177             0.686356  \n",
       "6   0.041839             0.669511  \n",
       "7   0.036746             0.662768  \n",
       "8   0.034466             0.654700  \n",
       "9   0.035078             0.673062  \n",
       "10  0.050812             0.685618  \n",
       "11  0.038875             0.661126  \n",
       "12  0.034386             0.651224  \n",
       "13  0.027225             0.637428  \n",
       "14  0.020289             0.623652  \n",
       "15  0.046058             0.677315  \n",
       "16  0.035666             0.655556  \n",
       "17  0.028776             0.643369  \n",
       "18  0.015229             0.613211  \n",
       "19  0.010353             0.603662  \n",
       "20  0.032782             0.647405  \n",
       "21  0.022293             0.625848  \n",
       "22  0.012252             0.604145  \n",
       "23  0.007230             0.592814  \n",
       "24  0.004092             0.583392  \n",
       "25  0.029751             0.640646  \n",
       "26  0.013349             0.606578  \n",
       "27  0.006928             0.590950  \n",
       "28  0.002886             0.581142  \n",
       "29  0.001939             0.578102  "
      ]
     },
     "execution_count": 81,
     "metadata": {},
     "output_type": "execute_result"
    }
   ],
   "source": [
    "latent_only.groupby(['N samples', 'Latent units']).median().reset_index()"
   ]
  },
  {
   "cell_type": "code",
   "execution_count": 82,
   "id": "510330a9",
   "metadata": {},
   "outputs": [
    {
     "data": {
      "text/plain": [
       "0        10\n",
       "1       100\n",
       "2      1000\n",
       "3     10000\n",
       "4    100000\n",
       "5    637801\n",
       "Name: N samples, dtype: int64"
      ]
     },
     "execution_count": 82,
     "metadata": {},
     "output_type": "execute_result"
    }
   ],
   "source": [
    "latent_only[latent_only['Latent units'] == i].groupby('N samples').median().reset_index()['N samples']"
   ]
  },
  {
   "cell_type": "code",
   "execution_count": 83,
   "id": "4f7d97d8",
   "metadata": {},
   "outputs": [
    {
     "data": {
      "application/vnd.plotly.v1+json": {
       "config": {
        "plotlyServerURL": "https://plot.ly"
       },
       "data": [
        {
         "error_y": {
          "array": [
           0.0546254515647889,
           0.0030175149440766005,
           0.001146085560321801,
           0.0011059846729040007,
           0.0011583589948714005,
           0.000041852938011300135
          ],
          "arrayminus": [
           0.009502582252025604,
           0.004305066540837302,
           0.0006959661841393003,
           0.0009761266410349984,
           0.0005344559904187996,
           0.000007277354597999813
          ],
          "symmetric": false,
          "type": "data"
         },
         "line": {
          "color": "#2E91E5"
         },
         "mode": "markers+lines",
         "name": "l = 64",
         "type": "scatter",
         "x": [
          10,
          100,
          1000,
          10000,
          100000,
          637801
         ],
         "y": [
          0.0648113712668418,
          0.0350782983005046,
          0.0202888548374176,
          0.0103528928011655,
          0.0040924963541328,
          0.001938970061019
         ]
        },
        {
         "error_y": {
          "array": [
           0.039207346737384796,
           0.0026879385113715987,
           0.0003382042050362015,
           0.0009823599830269987,
           0.00031499750912190004,
           0.000029917573556300075
          ],
          "arrayminus": [
           0.03286615386605261,
           0.0031547360122204035,
           0.0005905907601117984,
           0.0011957474052906002,
           0.0017067166045308,
           0.00003368593752389997
          ],
          "symmetric": false,
          "type": "data"
         },
         "line": {
          "color": "#E15F99"
         },
         "mode": "markers+lines",
         "name": "l = 32",
         "type": "scatter",
         "x": [
          10,
          100,
          1000,
          10000,
          100000,
          637801
         ],
         "y": [
          0.084483653306961,
          0.0344661623239517,
          0.027225088328123,
          0.01522873993963,
          0.0072302762418985,
          0.002886249916628
         ]
        },
        {
         "error_y": {
          "array": [
           0.02253762632608411,
           0.003162499517202398,
           0.00021333619952199762,
           0.010284466668963398,
           0.0021339906379581,
           0.0001012361608446
          ],
          "arrayminus": [
           0.0143498331308365,
           0.0005323849618434975,
           0.0006930977106094985,
           0.002039726823568299,
           0.0003348644822836009,
           0.00010945275425909996
          ],
          "symmetric": false,
          "type": "data"
         },
         "line": {
          "color": "#1CA71C"
         },
         "mode": "markers+lines",
         "name": "l = 16",
         "type": "scatter",
         "x": [
          10,
          100,
          1000,
          10000,
          100000,
          637801
         ],
         "y": [
          0.0810170546174049,
          0.0367462150752544,
          0.034386221319437,
          0.0287758652120828,
          0.0122522478923201,
          0.0069282059557735
         ]
        },
        {
         "error_y": {
          "array": [
           0.055051304399967194,
           0.0034002028405666004,
           0.00018316879868500446,
           0.000041075050830903514,
           0.0018647573888301988,
           0.0005846070125698991
          ],
          "arrayminus": [
           0.010431915521621704,
           0.002604022622108494,
           0.00022590532898909832,
           0.00010745599865909922,
           0.00048197992146009963,
           0.0009321272373198995
          ],
          "symmetric": false,
          "type": "data"
         },
         "line": {
          "color": "#FB0D0D"
         },
         "mode": "markers+lines",
         "name": "l = 8",
         "type": "scatter",
         "x": [
          10,
          100,
          1000,
          10000,
          100000,
          637801
         ],
         "y": [
          0.0645942836999893,
          0.0418392792344093,
          0.0388752333819866,
          0.035666100680828,
          0.0222925078123807,
          0.0133489938452839
         ]
        },
        {
         "error_y": {
          "array": [
           0.014661930501461001,
           0.004009466618299505,
           0.0015348941087722015,
           0.0013363473117351046,
           0.0005550645291805059,
           0.0001717209815979004
          ],
          "arrayminus": [
           0.025260105729103102,
           0.0004671998322009971,
           0.0008747465908527999,
           0.001025199890136698,
           0.0003443248569964946,
           0.00018856674432750006
          ],
          "symmetric": false,
          "type": "data"
         },
         "line": {
          "color": "#DA16FF"
         },
         "mode": "markers+lines",
         "name": "l = 4",
         "type": "scatter",
         "x": [
          10,
          100,
          1000,
          10000,
          100000,
          637801
         ],
         "y": [
          0.0958409011363983,
          0.0511765703558921,
          0.0508117638528347,
          0.0460577458143234,
          0.032782033085823,
          0.0297507401555776
         ]
        }
       ],
       "layout": {
        "height": 800,
        "legend": {
         "orientation": "h",
         "x": 0,
         "xanchor": "left",
         "y": 0.99,
         "yanchor": "bottom"
        },
        "template": {
         "data": {
          "bar": [
           {
            "error_x": {
             "color": "#2a3f5f"
            },
            "error_y": {
             "color": "#2a3f5f"
            },
            "marker": {
             "line": {
              "color": "white",
              "width": 0.5
             },
             "pattern": {
              "fillmode": "overlay",
              "size": 10,
              "solidity": 0.2
             }
            },
            "type": "bar"
           }
          ],
          "barpolar": [
           {
            "marker": {
             "line": {
              "color": "white",
              "width": 0.5
             },
             "pattern": {
              "fillmode": "overlay",
              "size": 10,
              "solidity": 0.2
             }
            },
            "type": "barpolar"
           }
          ],
          "carpet": [
           {
            "aaxis": {
             "endlinecolor": "#2a3f5f",
             "gridcolor": "#C8D4E3",
             "linecolor": "#C8D4E3",
             "minorgridcolor": "#C8D4E3",
             "startlinecolor": "#2a3f5f"
            },
            "baxis": {
             "endlinecolor": "#2a3f5f",
             "gridcolor": "#C8D4E3",
             "linecolor": "#C8D4E3",
             "minorgridcolor": "#C8D4E3",
             "startlinecolor": "#2a3f5f"
            },
            "type": "carpet"
           }
          ],
          "choropleth": [
           {
            "colorbar": {
             "outlinewidth": 0,
             "ticks": ""
            },
            "type": "choropleth"
           }
          ],
          "contour": [
           {
            "colorbar": {
             "outlinewidth": 0,
             "ticks": ""
            },
            "colorscale": [
             [
              0,
              "#0d0887"
             ],
             [
              0.1111111111111111,
              "#46039f"
             ],
             [
              0.2222222222222222,
              "#7201a8"
             ],
             [
              0.3333333333333333,
              "#9c179e"
             ],
             [
              0.4444444444444444,
              "#bd3786"
             ],
             [
              0.5555555555555556,
              "#d8576b"
             ],
             [
              0.6666666666666666,
              "#ed7953"
             ],
             [
              0.7777777777777778,
              "#fb9f3a"
             ],
             [
              0.8888888888888888,
              "#fdca26"
             ],
             [
              1,
              "#f0f921"
             ]
            ],
            "type": "contour"
           }
          ],
          "contourcarpet": [
           {
            "colorbar": {
             "outlinewidth": 0,
             "ticks": ""
            },
            "type": "contourcarpet"
           }
          ],
          "heatmap": [
           {
            "colorbar": {
             "outlinewidth": 0,
             "ticks": ""
            },
            "colorscale": [
             [
              0,
              "#0d0887"
             ],
             [
              0.1111111111111111,
              "#46039f"
             ],
             [
              0.2222222222222222,
              "#7201a8"
             ],
             [
              0.3333333333333333,
              "#9c179e"
             ],
             [
              0.4444444444444444,
              "#bd3786"
             ],
             [
              0.5555555555555556,
              "#d8576b"
             ],
             [
              0.6666666666666666,
              "#ed7953"
             ],
             [
              0.7777777777777778,
              "#fb9f3a"
             ],
             [
              0.8888888888888888,
              "#fdca26"
             ],
             [
              1,
              "#f0f921"
             ]
            ],
            "type": "heatmap"
           }
          ],
          "heatmapgl": [
           {
            "colorbar": {
             "outlinewidth": 0,
             "ticks": ""
            },
            "colorscale": [
             [
              0,
              "#0d0887"
             ],
             [
              0.1111111111111111,
              "#46039f"
             ],
             [
              0.2222222222222222,
              "#7201a8"
             ],
             [
              0.3333333333333333,
              "#9c179e"
             ],
             [
              0.4444444444444444,
              "#bd3786"
             ],
             [
              0.5555555555555556,
              "#d8576b"
             ],
             [
              0.6666666666666666,
              "#ed7953"
             ],
             [
              0.7777777777777778,
              "#fb9f3a"
             ],
             [
              0.8888888888888888,
              "#fdca26"
             ],
             [
              1,
              "#f0f921"
             ]
            ],
            "type": "heatmapgl"
           }
          ],
          "histogram": [
           {
            "marker": {
             "pattern": {
              "fillmode": "overlay",
              "size": 10,
              "solidity": 0.2
             }
            },
            "type": "histogram"
           }
          ],
          "histogram2d": [
           {
            "colorbar": {
             "outlinewidth": 0,
             "ticks": ""
            },
            "colorscale": [
             [
              0,
              "#0d0887"
             ],
             [
              0.1111111111111111,
              "#46039f"
             ],
             [
              0.2222222222222222,
              "#7201a8"
             ],
             [
              0.3333333333333333,
              "#9c179e"
             ],
             [
              0.4444444444444444,
              "#bd3786"
             ],
             [
              0.5555555555555556,
              "#d8576b"
             ],
             [
              0.6666666666666666,
              "#ed7953"
             ],
             [
              0.7777777777777778,
              "#fb9f3a"
             ],
             [
              0.8888888888888888,
              "#fdca26"
             ],
             [
              1,
              "#f0f921"
             ]
            ],
            "type": "histogram2d"
           }
          ],
          "histogram2dcontour": [
           {
            "colorbar": {
             "outlinewidth": 0,
             "ticks": ""
            },
            "colorscale": [
             [
              0,
              "#0d0887"
             ],
             [
              0.1111111111111111,
              "#46039f"
             ],
             [
              0.2222222222222222,
              "#7201a8"
             ],
             [
              0.3333333333333333,
              "#9c179e"
             ],
             [
              0.4444444444444444,
              "#bd3786"
             ],
             [
              0.5555555555555556,
              "#d8576b"
             ],
             [
              0.6666666666666666,
              "#ed7953"
             ],
             [
              0.7777777777777778,
              "#fb9f3a"
             ],
             [
              0.8888888888888888,
              "#fdca26"
             ],
             [
              1,
              "#f0f921"
             ]
            ],
            "type": "histogram2dcontour"
           }
          ],
          "mesh3d": [
           {
            "colorbar": {
             "outlinewidth": 0,
             "ticks": ""
            },
            "type": "mesh3d"
           }
          ],
          "parcoords": [
           {
            "line": {
             "colorbar": {
              "outlinewidth": 0,
              "ticks": ""
             }
            },
            "type": "parcoords"
           }
          ],
          "pie": [
           {
            "automargin": true,
            "type": "pie"
           }
          ],
          "scatter": [
           {
            "fillpattern": {
             "fillmode": "overlay",
             "size": 10,
             "solidity": 0.2
            },
            "type": "scatter"
           }
          ],
          "scatter3d": [
           {
            "line": {
             "colorbar": {
              "outlinewidth": 0,
              "ticks": ""
             }
            },
            "marker": {
             "colorbar": {
              "outlinewidth": 0,
              "ticks": ""
             }
            },
            "type": "scatter3d"
           }
          ],
          "scattercarpet": [
           {
            "marker": {
             "colorbar": {
              "outlinewidth": 0,
              "ticks": ""
             }
            },
            "type": "scattercarpet"
           }
          ],
          "scattergeo": [
           {
            "marker": {
             "colorbar": {
              "outlinewidth": 0,
              "ticks": ""
             }
            },
            "type": "scattergeo"
           }
          ],
          "scattergl": [
           {
            "marker": {
             "colorbar": {
              "outlinewidth": 0,
              "ticks": ""
             }
            },
            "type": "scattergl"
           }
          ],
          "scattermapbox": [
           {
            "marker": {
             "colorbar": {
              "outlinewidth": 0,
              "ticks": ""
             }
            },
            "type": "scattermapbox"
           }
          ],
          "scatterpolar": [
           {
            "marker": {
             "colorbar": {
              "outlinewidth": 0,
              "ticks": ""
             }
            },
            "type": "scatterpolar"
           }
          ],
          "scatterpolargl": [
           {
            "marker": {
             "colorbar": {
              "outlinewidth": 0,
              "ticks": ""
             }
            },
            "type": "scatterpolargl"
           }
          ],
          "scatterternary": [
           {
            "marker": {
             "colorbar": {
              "outlinewidth": 0,
              "ticks": ""
             }
            },
            "type": "scatterternary"
           }
          ],
          "surface": [
           {
            "colorbar": {
             "outlinewidth": 0,
             "ticks": ""
            },
            "colorscale": [
             [
              0,
              "#0d0887"
             ],
             [
              0.1111111111111111,
              "#46039f"
             ],
             [
              0.2222222222222222,
              "#7201a8"
             ],
             [
              0.3333333333333333,
              "#9c179e"
             ],
             [
              0.4444444444444444,
              "#bd3786"
             ],
             [
              0.5555555555555556,
              "#d8576b"
             ],
             [
              0.6666666666666666,
              "#ed7953"
             ],
             [
              0.7777777777777778,
              "#fb9f3a"
             ],
             [
              0.8888888888888888,
              "#fdca26"
             ],
             [
              1,
              "#f0f921"
             ]
            ],
            "type": "surface"
           }
          ],
          "table": [
           {
            "cells": {
             "fill": {
              "color": "#EBF0F8"
             },
             "line": {
              "color": "white"
             }
            },
            "header": {
             "fill": {
              "color": "#C8D4E3"
             },
             "line": {
              "color": "white"
             }
            },
            "type": "table"
           }
          ]
         },
         "layout": {
          "annotationdefaults": {
           "arrowcolor": "#2a3f5f",
           "arrowhead": 0,
           "arrowwidth": 1
          },
          "autotypenumbers": "strict",
          "coloraxis": {
           "colorbar": {
            "outlinewidth": 0,
            "ticks": ""
           }
          },
          "colorscale": {
           "diverging": [
            [
             0,
             "#8e0152"
            ],
            [
             0.1,
             "#c51b7d"
            ],
            [
             0.2,
             "#de77ae"
            ],
            [
             0.3,
             "#f1b6da"
            ],
            [
             0.4,
             "#fde0ef"
            ],
            [
             0.5,
             "#f7f7f7"
            ],
            [
             0.6,
             "#e6f5d0"
            ],
            [
             0.7,
             "#b8e186"
            ],
            [
             0.8,
             "#7fbc41"
            ],
            [
             0.9,
             "#4d9221"
            ],
            [
             1,
             "#276419"
            ]
           ],
           "sequential": [
            [
             0,
             "#0d0887"
            ],
            [
             0.1111111111111111,
             "#46039f"
            ],
            [
             0.2222222222222222,
             "#7201a8"
            ],
            [
             0.3333333333333333,
             "#9c179e"
            ],
            [
             0.4444444444444444,
             "#bd3786"
            ],
            [
             0.5555555555555556,
             "#d8576b"
            ],
            [
             0.6666666666666666,
             "#ed7953"
            ],
            [
             0.7777777777777778,
             "#fb9f3a"
            ],
            [
             0.8888888888888888,
             "#fdca26"
            ],
            [
             1,
             "#f0f921"
            ]
           ],
           "sequentialminus": [
            [
             0,
             "#0d0887"
            ],
            [
             0.1111111111111111,
             "#46039f"
            ],
            [
             0.2222222222222222,
             "#7201a8"
            ],
            [
             0.3333333333333333,
             "#9c179e"
            ],
            [
             0.4444444444444444,
             "#bd3786"
            ],
            [
             0.5555555555555556,
             "#d8576b"
            ],
            [
             0.6666666666666666,
             "#ed7953"
            ],
            [
             0.7777777777777778,
             "#fb9f3a"
            ],
            [
             0.8888888888888888,
             "#fdca26"
            ],
            [
             1,
             "#f0f921"
            ]
           ]
          },
          "colorway": [
           "#636efa",
           "#EF553B",
           "#00cc96",
           "#ab63fa",
           "#FFA15A",
           "#19d3f3",
           "#FF6692",
           "#B6E880",
           "#FF97FF",
           "#FECB52"
          ],
          "font": {
           "color": "#2a3f5f"
          },
          "geo": {
           "bgcolor": "white",
           "lakecolor": "white",
           "landcolor": "white",
           "showlakes": true,
           "showland": true,
           "subunitcolor": "#C8D4E3"
          },
          "hoverlabel": {
           "align": "left"
          },
          "hovermode": "closest",
          "mapbox": {
           "style": "light"
          },
          "paper_bgcolor": "white",
          "plot_bgcolor": "white",
          "polar": {
           "angularaxis": {
            "gridcolor": "#EBF0F8",
            "linecolor": "#EBF0F8",
            "ticks": ""
           },
           "bgcolor": "white",
           "radialaxis": {
            "gridcolor": "#EBF0F8",
            "linecolor": "#EBF0F8",
            "ticks": ""
           }
          },
          "scene": {
           "xaxis": {
            "backgroundcolor": "white",
            "gridcolor": "#DFE8F3",
            "gridwidth": 2,
            "linecolor": "#EBF0F8",
            "showbackground": true,
            "ticks": "",
            "zerolinecolor": "#EBF0F8"
           },
           "yaxis": {
            "backgroundcolor": "white",
            "gridcolor": "#DFE8F3",
            "gridwidth": 2,
            "linecolor": "#EBF0F8",
            "showbackground": true,
            "ticks": "",
            "zerolinecolor": "#EBF0F8"
           },
           "zaxis": {
            "backgroundcolor": "white",
            "gridcolor": "#DFE8F3",
            "gridwidth": 2,
            "linecolor": "#EBF0F8",
            "showbackground": true,
            "ticks": "",
            "zerolinecolor": "#EBF0F8"
           }
          },
          "shapedefaults": {
           "line": {
            "color": "#2a3f5f"
           }
          },
          "ternary": {
           "aaxis": {
            "gridcolor": "#DFE8F3",
            "linecolor": "#A2B1C6",
            "ticks": ""
           },
           "baxis": {
            "gridcolor": "#DFE8F3",
            "linecolor": "#A2B1C6",
            "ticks": ""
           },
           "bgcolor": "white",
           "caxis": {
            "gridcolor": "#DFE8F3",
            "linecolor": "#A2B1C6",
            "ticks": ""
           }
          },
          "title": {
           "x": 0.05
          },
          "xaxis": {
           "automargin": true,
           "gridcolor": "#EBF0F8",
           "linecolor": "#EBF0F8",
           "ticks": "",
           "title": {
            "standoff": 15
           },
           "zerolinecolor": "#EBF0F8",
           "zerolinewidth": 2
          },
          "yaxis": {
           "automargin": true,
           "gridcolor": "#EBF0F8",
           "linecolor": "#EBF0F8",
           "ticks": "",
           "title": {
            "standoff": 15
           },
           "zerolinecolor": "#EBF0F8",
           "zerolinewidth": 2
          }
         }
        },
        "width": 800,
        "xaxis": {
         "type": "log"
        },
        "yaxis": {
         "type": "log"
        }
       }
      },
      "text/html": [
       "<div>                            <div id=\"2873247c-9cea-4691-918f-1b047813193c\" class=\"plotly-graph-div\" style=\"height:800px; width:800px;\"></div>            <script type=\"text/javascript\">                require([\"plotly\"], function(Plotly) {                    window.PLOTLYENV=window.PLOTLYENV || {};                                    if (document.getElementById(\"2873247c-9cea-4691-918f-1b047813193c\")) {                    Plotly.newPlot(                        \"2873247c-9cea-4691-918f-1b047813193c\",                        [{\"error_y\":{\"array\":[0.0546254515647889,0.0030175149440766005,0.001146085560321801,0.0011059846729040007,0.0011583589948714005,4.1852938011300135e-05],\"arrayminus\":[0.009502582252025604,0.004305066540837302,0.0006959661841393003,0.0009761266410349984,0.0005344559904187996,7.277354597999813e-06],\"symmetric\":false,\"type\":\"data\"},\"line\":{\"color\":\"#2E91E5\"},\"mode\":\"markers+lines\",\"name\":\"l = 64\",\"x\":[10,100,1000,10000,100000,637801],\"y\":[0.0648113712668418,0.0350782983005046,0.0202888548374176,0.0103528928011655,0.0040924963541328,0.001938970061019],\"type\":\"scatter\"},{\"error_y\":{\"array\":[0.039207346737384796,0.0026879385113715987,0.0003382042050362015,0.0009823599830269987,0.00031499750912190004,2.9917573556300075e-05],\"arrayminus\":[0.03286615386605261,0.0031547360122204035,0.0005905907601117984,0.0011957474052906002,0.0017067166045308,3.368593752389997e-05],\"symmetric\":false,\"type\":\"data\"},\"line\":{\"color\":\"#E15F99\"},\"mode\":\"markers+lines\",\"name\":\"l = 32\",\"x\":[10,100,1000,10000,100000,637801],\"y\":[0.084483653306961,0.0344661623239517,0.027225088328123,0.01522873993963,0.0072302762418985,0.002886249916628],\"type\":\"scatter\"},{\"error_y\":{\"array\":[0.02253762632608411,0.003162499517202398,0.00021333619952199762,0.010284466668963398,0.0021339906379581,0.0001012361608446],\"arrayminus\":[0.0143498331308365,0.0005323849618434975,0.0006930977106094985,0.002039726823568299,0.0003348644822836009,0.00010945275425909996],\"symmetric\":false,\"type\":\"data\"},\"line\":{\"color\":\"#1CA71C\"},\"mode\":\"markers+lines\",\"name\":\"l = 16\",\"x\":[10,100,1000,10000,100000,637801],\"y\":[0.0810170546174049,0.0367462150752544,0.034386221319437,0.0287758652120828,0.0122522478923201,0.0069282059557735],\"type\":\"scatter\"},{\"error_y\":{\"array\":[0.055051304399967194,0.0034002028405666004,0.00018316879868500446,4.1075050830903514e-05,0.0018647573888301988,0.0005846070125698991],\"arrayminus\":[0.010431915521621704,0.002604022622108494,0.00022590532898909832,0.00010745599865909922,0.00048197992146009963,0.0009321272373198995],\"symmetric\":false,\"type\":\"data\"},\"line\":{\"color\":\"#FB0D0D\"},\"mode\":\"markers+lines\",\"name\":\"l = 8\",\"x\":[10,100,1000,10000,100000,637801],\"y\":[0.0645942836999893,0.0418392792344093,0.0388752333819866,0.035666100680828,0.0222925078123807,0.0133489938452839],\"type\":\"scatter\"},{\"error_y\":{\"array\":[0.014661930501461001,0.004009466618299505,0.0015348941087722015,0.0013363473117351046,0.0005550645291805059,0.0001717209815979004],\"arrayminus\":[0.025260105729103102,0.0004671998322009971,0.0008747465908527999,0.001025199890136698,0.0003443248569964946,0.00018856674432750006],\"symmetric\":false,\"type\":\"data\"},\"line\":{\"color\":\"#DA16FF\"},\"mode\":\"markers+lines\",\"name\":\"l = 4\",\"x\":[10,100,1000,10000,100000,637801],\"y\":[0.0958409011363983,0.0511765703558921,0.0508117638528347,0.0460577458143234,0.032782033085823,0.0297507401555776],\"type\":\"scatter\"}],                        {\"template\":{\"data\":{\"barpolar\":[{\"marker\":{\"line\":{\"color\":\"white\",\"width\":0.5},\"pattern\":{\"fillmode\":\"overlay\",\"size\":10,\"solidity\":0.2}},\"type\":\"barpolar\"}],\"bar\":[{\"error_x\":{\"color\":\"#2a3f5f\"},\"error_y\":{\"color\":\"#2a3f5f\"},\"marker\":{\"line\":{\"color\":\"white\",\"width\":0.5},\"pattern\":{\"fillmode\":\"overlay\",\"size\":10,\"solidity\":0.2}},\"type\":\"bar\"}],\"carpet\":[{\"aaxis\":{\"endlinecolor\":\"#2a3f5f\",\"gridcolor\":\"#C8D4E3\",\"linecolor\":\"#C8D4E3\",\"minorgridcolor\":\"#C8D4E3\",\"startlinecolor\":\"#2a3f5f\"},\"baxis\":{\"endlinecolor\":\"#2a3f5f\",\"gridcolor\":\"#C8D4E3\",\"linecolor\":\"#C8D4E3\",\"minorgridcolor\":\"#C8D4E3\",\"startlinecolor\":\"#2a3f5f\"},\"type\":\"carpet\"}],\"choropleth\":[{\"colorbar\":{\"outlinewidth\":0,\"ticks\":\"\"},\"type\":\"choropleth\"}],\"contourcarpet\":[{\"colorbar\":{\"outlinewidth\":0,\"ticks\":\"\"},\"type\":\"contourcarpet\"}],\"contour\":[{\"colorbar\":{\"outlinewidth\":0,\"ticks\":\"\"},\"colorscale\":[[0.0,\"#0d0887\"],[0.1111111111111111,\"#46039f\"],[0.2222222222222222,\"#7201a8\"],[0.3333333333333333,\"#9c179e\"],[0.4444444444444444,\"#bd3786\"],[0.5555555555555556,\"#d8576b\"],[0.6666666666666666,\"#ed7953\"],[0.7777777777777778,\"#fb9f3a\"],[0.8888888888888888,\"#fdca26\"],[1.0,\"#f0f921\"]],\"type\":\"contour\"}],\"heatmapgl\":[{\"colorbar\":{\"outlinewidth\":0,\"ticks\":\"\"},\"colorscale\":[[0.0,\"#0d0887\"],[0.1111111111111111,\"#46039f\"],[0.2222222222222222,\"#7201a8\"],[0.3333333333333333,\"#9c179e\"],[0.4444444444444444,\"#bd3786\"],[0.5555555555555556,\"#d8576b\"],[0.6666666666666666,\"#ed7953\"],[0.7777777777777778,\"#fb9f3a\"],[0.8888888888888888,\"#fdca26\"],[1.0,\"#f0f921\"]],\"type\":\"heatmapgl\"}],\"heatmap\":[{\"colorbar\":{\"outlinewidth\":0,\"ticks\":\"\"},\"colorscale\":[[0.0,\"#0d0887\"],[0.1111111111111111,\"#46039f\"],[0.2222222222222222,\"#7201a8\"],[0.3333333333333333,\"#9c179e\"],[0.4444444444444444,\"#bd3786\"],[0.5555555555555556,\"#d8576b\"],[0.6666666666666666,\"#ed7953\"],[0.7777777777777778,\"#fb9f3a\"],[0.8888888888888888,\"#fdca26\"],[1.0,\"#f0f921\"]],\"type\":\"heatmap\"}],\"histogram2dcontour\":[{\"colorbar\":{\"outlinewidth\":0,\"ticks\":\"\"},\"colorscale\":[[0.0,\"#0d0887\"],[0.1111111111111111,\"#46039f\"],[0.2222222222222222,\"#7201a8\"],[0.3333333333333333,\"#9c179e\"],[0.4444444444444444,\"#bd3786\"],[0.5555555555555556,\"#d8576b\"],[0.6666666666666666,\"#ed7953\"],[0.7777777777777778,\"#fb9f3a\"],[0.8888888888888888,\"#fdca26\"],[1.0,\"#f0f921\"]],\"type\":\"histogram2dcontour\"}],\"histogram2d\":[{\"colorbar\":{\"outlinewidth\":0,\"ticks\":\"\"},\"colorscale\":[[0.0,\"#0d0887\"],[0.1111111111111111,\"#46039f\"],[0.2222222222222222,\"#7201a8\"],[0.3333333333333333,\"#9c179e\"],[0.4444444444444444,\"#bd3786\"],[0.5555555555555556,\"#d8576b\"],[0.6666666666666666,\"#ed7953\"],[0.7777777777777778,\"#fb9f3a\"],[0.8888888888888888,\"#fdca26\"],[1.0,\"#f0f921\"]],\"type\":\"histogram2d\"}],\"histogram\":[{\"marker\":{\"pattern\":{\"fillmode\":\"overlay\",\"size\":10,\"solidity\":0.2}},\"type\":\"histogram\"}],\"mesh3d\":[{\"colorbar\":{\"outlinewidth\":0,\"ticks\":\"\"},\"type\":\"mesh3d\"}],\"parcoords\":[{\"line\":{\"colorbar\":{\"outlinewidth\":0,\"ticks\":\"\"}},\"type\":\"parcoords\"}],\"pie\":[{\"automargin\":true,\"type\":\"pie\"}],\"scatter3d\":[{\"line\":{\"colorbar\":{\"outlinewidth\":0,\"ticks\":\"\"}},\"marker\":{\"colorbar\":{\"outlinewidth\":0,\"ticks\":\"\"}},\"type\":\"scatter3d\"}],\"scattercarpet\":[{\"marker\":{\"colorbar\":{\"outlinewidth\":0,\"ticks\":\"\"}},\"type\":\"scattercarpet\"}],\"scattergeo\":[{\"marker\":{\"colorbar\":{\"outlinewidth\":0,\"ticks\":\"\"}},\"type\":\"scattergeo\"}],\"scattergl\":[{\"marker\":{\"colorbar\":{\"outlinewidth\":0,\"ticks\":\"\"}},\"type\":\"scattergl\"}],\"scattermapbox\":[{\"marker\":{\"colorbar\":{\"outlinewidth\":0,\"ticks\":\"\"}},\"type\":\"scattermapbox\"}],\"scatterpolargl\":[{\"marker\":{\"colorbar\":{\"outlinewidth\":0,\"ticks\":\"\"}},\"type\":\"scatterpolargl\"}],\"scatterpolar\":[{\"marker\":{\"colorbar\":{\"outlinewidth\":0,\"ticks\":\"\"}},\"type\":\"scatterpolar\"}],\"scatter\":[{\"fillpattern\":{\"fillmode\":\"overlay\",\"size\":10,\"solidity\":0.2},\"type\":\"scatter\"}],\"scatterternary\":[{\"marker\":{\"colorbar\":{\"outlinewidth\":0,\"ticks\":\"\"}},\"type\":\"scatterternary\"}],\"surface\":[{\"colorbar\":{\"outlinewidth\":0,\"ticks\":\"\"},\"colorscale\":[[0.0,\"#0d0887\"],[0.1111111111111111,\"#46039f\"],[0.2222222222222222,\"#7201a8\"],[0.3333333333333333,\"#9c179e\"],[0.4444444444444444,\"#bd3786\"],[0.5555555555555556,\"#d8576b\"],[0.6666666666666666,\"#ed7953\"],[0.7777777777777778,\"#fb9f3a\"],[0.8888888888888888,\"#fdca26\"],[1.0,\"#f0f921\"]],\"type\":\"surface\"}],\"table\":[{\"cells\":{\"fill\":{\"color\":\"#EBF0F8\"},\"line\":{\"color\":\"white\"}},\"header\":{\"fill\":{\"color\":\"#C8D4E3\"},\"line\":{\"color\":\"white\"}},\"type\":\"table\"}]},\"layout\":{\"annotationdefaults\":{\"arrowcolor\":\"#2a3f5f\",\"arrowhead\":0,\"arrowwidth\":1},\"autotypenumbers\":\"strict\",\"coloraxis\":{\"colorbar\":{\"outlinewidth\":0,\"ticks\":\"\"}},\"colorscale\":{\"diverging\":[[0,\"#8e0152\"],[0.1,\"#c51b7d\"],[0.2,\"#de77ae\"],[0.3,\"#f1b6da\"],[0.4,\"#fde0ef\"],[0.5,\"#f7f7f7\"],[0.6,\"#e6f5d0\"],[0.7,\"#b8e186\"],[0.8,\"#7fbc41\"],[0.9,\"#4d9221\"],[1,\"#276419\"]],\"sequential\":[[0.0,\"#0d0887\"],[0.1111111111111111,\"#46039f\"],[0.2222222222222222,\"#7201a8\"],[0.3333333333333333,\"#9c179e\"],[0.4444444444444444,\"#bd3786\"],[0.5555555555555556,\"#d8576b\"],[0.6666666666666666,\"#ed7953\"],[0.7777777777777778,\"#fb9f3a\"],[0.8888888888888888,\"#fdca26\"],[1.0,\"#f0f921\"]],\"sequentialminus\":[[0.0,\"#0d0887\"],[0.1111111111111111,\"#46039f\"],[0.2222222222222222,\"#7201a8\"],[0.3333333333333333,\"#9c179e\"],[0.4444444444444444,\"#bd3786\"],[0.5555555555555556,\"#d8576b\"],[0.6666666666666666,\"#ed7953\"],[0.7777777777777778,\"#fb9f3a\"],[0.8888888888888888,\"#fdca26\"],[1.0,\"#f0f921\"]]},\"colorway\":[\"#636efa\",\"#EF553B\",\"#00cc96\",\"#ab63fa\",\"#FFA15A\",\"#19d3f3\",\"#FF6692\",\"#B6E880\",\"#FF97FF\",\"#FECB52\"],\"font\":{\"color\":\"#2a3f5f\"},\"geo\":{\"bgcolor\":\"white\",\"lakecolor\":\"white\",\"landcolor\":\"white\",\"showlakes\":true,\"showland\":true,\"subunitcolor\":\"#C8D4E3\"},\"hoverlabel\":{\"align\":\"left\"},\"hovermode\":\"closest\",\"mapbox\":{\"style\":\"light\"},\"paper_bgcolor\":\"white\",\"plot_bgcolor\":\"white\",\"polar\":{\"angularaxis\":{\"gridcolor\":\"#EBF0F8\",\"linecolor\":\"#EBF0F8\",\"ticks\":\"\"},\"bgcolor\":\"white\",\"radialaxis\":{\"gridcolor\":\"#EBF0F8\",\"linecolor\":\"#EBF0F8\",\"ticks\":\"\"}},\"scene\":{\"xaxis\":{\"backgroundcolor\":\"white\",\"gridcolor\":\"#DFE8F3\",\"gridwidth\":2,\"linecolor\":\"#EBF0F8\",\"showbackground\":true,\"ticks\":\"\",\"zerolinecolor\":\"#EBF0F8\"},\"yaxis\":{\"backgroundcolor\":\"white\",\"gridcolor\":\"#DFE8F3\",\"gridwidth\":2,\"linecolor\":\"#EBF0F8\",\"showbackground\":true,\"ticks\":\"\",\"zerolinecolor\":\"#EBF0F8\"},\"zaxis\":{\"backgroundcolor\":\"white\",\"gridcolor\":\"#DFE8F3\",\"gridwidth\":2,\"linecolor\":\"#EBF0F8\",\"showbackground\":true,\"ticks\":\"\",\"zerolinecolor\":\"#EBF0F8\"}},\"shapedefaults\":{\"line\":{\"color\":\"#2a3f5f\"}},\"ternary\":{\"aaxis\":{\"gridcolor\":\"#DFE8F3\",\"linecolor\":\"#A2B1C6\",\"ticks\":\"\"},\"baxis\":{\"gridcolor\":\"#DFE8F3\",\"linecolor\":\"#A2B1C6\",\"ticks\":\"\"},\"bgcolor\":\"white\",\"caxis\":{\"gridcolor\":\"#DFE8F3\",\"linecolor\":\"#A2B1C6\",\"ticks\":\"\"}},\"title\":{\"x\":0.05},\"xaxis\":{\"automargin\":true,\"gridcolor\":\"#EBF0F8\",\"linecolor\":\"#EBF0F8\",\"ticks\":\"\",\"title\":{\"standoff\":15},\"zerolinecolor\":\"#EBF0F8\",\"zerolinewidth\":2},\"yaxis\":{\"automargin\":true,\"gridcolor\":\"#EBF0F8\",\"linecolor\":\"#EBF0F8\",\"ticks\":\"\",\"title\":{\"standoff\":15},\"zerolinecolor\":\"#EBF0F8\",\"zerolinewidth\":2}}},\"xaxis\":{\"type\":\"log\"},\"yaxis\":{\"type\":\"log\"},\"legend\":{\"orientation\":\"h\",\"yanchor\":\"bottom\",\"y\":0.99,\"xanchor\":\"left\",\"x\":-0.0},\"width\":800,\"height\":800},                        {\"responsive\": true}                    ).then(function(){\n",
       "                            \n",
       "var gd = document.getElementById('2873247c-9cea-4691-918f-1b047813193c');\n",
       "var x = new MutationObserver(function (mutations, observer) {{\n",
       "        var display = window.getComputedStyle(gd).display;\n",
       "        if (!display || display === 'none') {{\n",
       "            console.log([gd, 'removed!']);\n",
       "            Plotly.purge(gd);\n",
       "            observer.disconnect();\n",
       "        }}\n",
       "}});\n",
       "\n",
       "// Listen for the removal of the full notebook cells\n",
       "var notebookContainer = gd.closest('#notebook-container');\n",
       "if (notebookContainer) {{\n",
       "    x.observe(notebookContainer, {childList: true});\n",
       "}}\n",
       "\n",
       "// Listen for the clearing of the current output cell\n",
       "var outputEl = gd.closest('.output');\n",
       "if (outputEl) {{\n",
       "    x.observe(outputEl, {childList: true});\n",
       "}}\n",
       "\n",
       "                        })                };                });            </script>        </div>"
      ]
     },
     "metadata": {},
     "output_type": "display_data"
    }
   ],
   "source": [
    "fig = go.Figure()\n",
    "\n",
    "for j,i in enumerate([64,32,16,8,4]):\n",
    "\n",
    "    fig.add_trace(go.Scatter(x = latent_only[latent_only['Latent units'] == i].groupby('N samples').median().reset_index()['N samples'], \n",
    "                     y = latent_only[latent_only['Latent units'] == i].groupby('N samples').median().reset_index()['MSE'], \n",
    "                             mode = 'markers+lines',\n",
    "                             name = 'l = ' + str(i),\n",
    "    #                  log_x = True, \n",
    "    #                  log_y=True,\n",
    "                     error_y=dict(\n",
    "                        type='data',\n",
    "                        symmetric=False,\n",
    "                         array = (latent_only[latent_only['Latent units'] == i].groupby('N samples').max()  - latent_only[latent_only['Latent units'] == i].groupby('N samples').median())['MSE'], \n",
    "                         arrayminus = (latent_only[latent_only['Latent units'] == i].groupby('N samples').median() - latent_only[latent_only['Latent units'] == i].groupby('N samples').min())['MSE'],\n",
    "                     ),\n",
    "                     line_color = px.colors.qualitative.Dark24[j],\n",
    "                    ))\n",
    "\n",
    "\n",
    "# fig.add_trace(go.Scatter(x = size_sweep_frame_power_pressure.groupby('N samples').median().reset_index()['N samples'], \n",
    "#                  y = size_sweep_frame_power_pressure.groupby('N samples').median().reset_index()['MSE'], \n",
    "#                          mode = 'markers',\n",
    "#                          name = 'Latent+Pressure+RF Power',\n",
    "# #                  log_x = True, \n",
    "# #                  log_y=True,\n",
    "#                  error_y=dict(\n",
    "#                     type='data',\n",
    "#                     symmetric=False,\n",
    "#                      array = (size_sweep_frame_power_pressure.groupby('N samples').max()  - size_sweep_frame_power_pressure.groupby('N samples').median())['MSE'], \n",
    "#                      arrayminus = (size_sweep_frame_power_pressure.groupby('N samples').median() - size_sweep_frame_power_pressure.groupby('N samples').min())['MSE'],\n",
    "#                  )\n",
    "# #                  line_color = px.colors.qualitative.Dark24[0]\n",
    "#                 ))\n",
    "\n",
    "fig.update_xaxes(type=\"log\")\n",
    "fig.update_yaxes(type=\"log\")\n",
    "\n",
    "fig.update_layout(template = 'plotly_white', width = 800, height = 800, legend=dict(\n",
    "    orientation=\"h\",\n",
    "    yanchor=\"bottom\",\n",
    "    y=0.99,\n",
    "    xanchor=\"left\",\n",
    "    x=-0.00,\n",
    "))\n",
    "# fig = px.scatter(y = [y_train, y_test])\n",
    "fig.show()\n",
    "\n",
    "# fig.update_layout(marker=dict(color='green', size=4))\n",
    "\n",
    "# fig2 = px.scatter(size_sweep_frame_power_pressure.groupby('N samples').median().reset_index(), \n",
    "#                  x = 'N samples', \n",
    "#                  y = 'MSE', \n",
    "#                  log_x = True, \n",
    "#                  log_y=True,\n",
    "#                  error_y = (size_sweep_frame_power_pressure.groupby('N samples').max()  - size_sweep_frame_power_pressure.groupby('N samples').median())['MSE'], \n",
    "#                  error_y_minus = (size_sweep_frame_power_pressure.groupby('N samples').median() - size_sweep_frame_power_pressure.groupby('N samples').min())['MSE'],\n",
    "# #                  line_color = px.colors.qualitative.Dark24[1]\n",
    "#                 )\n",
    "\n",
    "# fig.add_trace(fig2.data[0])\n",
    "\n",
    "# fig.update_layout(showlegend = True, legend_title_text='Trend')\n",
    "\n",
    "\n",
    "\n",
    "# fig.show('notebook')"
   ]
  },
  {
   "cell_type": "code",
   "execution_count": 84,
   "id": "2a4ef38e",
   "metadata": {},
   "outputs": [],
   "source": [
    "latent_dc_pr_pow_list = []\n",
    "for i in [64,32,16,8,4]:\n",
    "    latent_dc_pr_pow_list.append('results/flour_ar_o2_latent_power_pressure_to_dc_bias_' + str(i) + '.csv')"
   ]
  },
  {
   "cell_type": "code",
   "execution_count": 85,
   "id": "19302ce0",
   "metadata": {},
   "outputs": [],
   "source": [
    "latent_dc_pr_pow = pd.concat(map(pd.read_csv, latent_dc_pr_pow_list)).reset_index()"
   ]
  },
  {
   "cell_type": "code",
   "execution_count": 86,
   "id": "f9a323d7",
   "metadata": {
    "scrolled": false
   },
   "outputs": [
    {
     "data": {
      "text/html": [
       "<div>\n",
       "<style scoped>\n",
       "    .dataframe tbody tr th:only-of-type {\n",
       "        vertical-align: middle;\n",
       "    }\n",
       "\n",
       "    .dataframe tbody tr th {\n",
       "        vertical-align: top;\n",
       "    }\n",
       "\n",
       "    .dataframe thead th {\n",
       "        text-align: right;\n",
       "    }\n",
       "</style>\n",
       "<table border=\"1\" class=\"dataframe\">\n",
       "  <thead>\n",
       "    <tr style=\"text-align: right;\">\n",
       "      <th></th>\n",
       "      <th>index</th>\n",
       "      <th>Unnamed: 0</th>\n",
       "      <th>Latent units</th>\n",
       "      <th>Repeat</th>\n",
       "      <th>N samples</th>\n",
       "      <th>Loss</th>\n",
       "      <th>MAE</th>\n",
       "      <th>MSE</th>\n",
       "      <th>Binary Crossentropy</th>\n",
       "    </tr>\n",
       "  </thead>\n",
       "  <tbody>\n",
       "    <tr>\n",
       "      <th>0</th>\n",
       "      <td>0</td>\n",
       "      <td>0</td>\n",
       "      <td>64.0</td>\n",
       "      <td>0.0</td>\n",
       "      <td>637801.0</td>\n",
       "      <td>0.000606</td>\n",
       "      <td>0.010288</td>\n",
       "      <td>0.000306</td>\n",
       "      <td>0.572591</td>\n",
       "    </tr>\n",
       "    <tr>\n",
       "      <th>1</th>\n",
       "      <td>1</td>\n",
       "      <td>1</td>\n",
       "      <td>64.0</td>\n",
       "      <td>1.0</td>\n",
       "      <td>637801.0</td>\n",
       "      <td>0.000614</td>\n",
       "      <td>0.010258</td>\n",
       "      <td>0.000305</td>\n",
       "      <td>0.572600</td>\n",
       "    </tr>\n",
       "    <tr>\n",
       "      <th>2</th>\n",
       "      <td>2</td>\n",
       "      <td>2</td>\n",
       "      <td>64.0</td>\n",
       "      <td>2.0</td>\n",
       "      <td>637801.0</td>\n",
       "      <td>0.000620</td>\n",
       "      <td>0.010409</td>\n",
       "      <td>0.000312</td>\n",
       "      <td>0.572634</td>\n",
       "    </tr>\n",
       "    <tr>\n",
       "      <th>3</th>\n",
       "      <td>3</td>\n",
       "      <td>3</td>\n",
       "      <td>64.0</td>\n",
       "      <td>3.0</td>\n",
       "      <td>637801.0</td>\n",
       "      <td>0.000623</td>\n",
       "      <td>0.010369</td>\n",
       "      <td>0.000309</td>\n",
       "      <td>0.572636</td>\n",
       "    </tr>\n",
       "    <tr>\n",
       "      <th>4</th>\n",
       "      <td>4</td>\n",
       "      <td>4</td>\n",
       "      <td>64.0</td>\n",
       "      <td>4.0</td>\n",
       "      <td>637801.0</td>\n",
       "      <td>0.000618</td>\n",
       "      <td>0.010327</td>\n",
       "      <td>0.000308</td>\n",
       "      <td>0.572598</td>\n",
       "    </tr>\n",
       "    <tr>\n",
       "      <th>5</th>\n",
       "      <td>5</td>\n",
       "      <td>5</td>\n",
       "      <td>64.0</td>\n",
       "      <td>0.0</td>\n",
       "      <td>100000.0</td>\n",
       "      <td>0.003111</td>\n",
       "      <td>0.030272</td>\n",
       "      <td>0.001395</td>\n",
       "      <td>0.576524</td>\n",
       "    </tr>\n",
       "    <tr>\n",
       "      <th>6</th>\n",
       "      <td>6</td>\n",
       "      <td>6</td>\n",
       "      <td>64.0</td>\n",
       "      <td>1.0</td>\n",
       "      <td>100000.0</td>\n",
       "      <td>0.002912</td>\n",
       "      <td>0.026803</td>\n",
       "      <td>0.001150</td>\n",
       "      <td>0.577381</td>\n",
       "    </tr>\n",
       "    <tr>\n",
       "      <th>7</th>\n",
       "      <td>7</td>\n",
       "      <td>7</td>\n",
       "      <td>64.0</td>\n",
       "      <td>2.0</td>\n",
       "      <td>100000.0</td>\n",
       "      <td>0.002317</td>\n",
       "      <td>0.014377</td>\n",
       "      <td>0.000484</td>\n",
       "      <td>0.573179</td>\n",
       "    </tr>\n",
       "    <tr>\n",
       "      <th>8</th>\n",
       "      <td>8</td>\n",
       "      <td>8</td>\n",
       "      <td>64.0</td>\n",
       "      <td>3.0</td>\n",
       "      <td>100000.0</td>\n",
       "      <td>0.002344</td>\n",
       "      <td>0.014027</td>\n",
       "      <td>0.000479</td>\n",
       "      <td>0.573109</td>\n",
       "    </tr>\n",
       "    <tr>\n",
       "      <th>9</th>\n",
       "      <td>9</td>\n",
       "      <td>9</td>\n",
       "      <td>64.0</td>\n",
       "      <td>4.0</td>\n",
       "      <td>100000.0</td>\n",
       "      <td>0.003418</td>\n",
       "      <td>0.029250</td>\n",
       "      <td>0.001528</td>\n",
       "      <td>0.576591</td>\n",
       "    </tr>\n",
       "    <tr>\n",
       "      <th>10</th>\n",
       "      <td>10</td>\n",
       "      <td>10</td>\n",
       "      <td>64.0</td>\n",
       "      <td>0.0</td>\n",
       "      <td>10000.0</td>\n",
       "      <td>0.013883</td>\n",
       "      <td>0.063060</td>\n",
       "      <td>0.006117</td>\n",
       "      <td>0.586597</td>\n",
       "    </tr>\n",
       "    <tr>\n",
       "      <th>11</th>\n",
       "      <td>11</td>\n",
       "      <td>11</td>\n",
       "      <td>64.0</td>\n",
       "      <td>1.0</td>\n",
       "      <td>10000.0</td>\n",
       "      <td>0.012248</td>\n",
       "      <td>0.053632</td>\n",
       "      <td>0.004456</td>\n",
       "      <td>0.584340</td>\n",
       "    </tr>\n",
       "    <tr>\n",
       "      <th>12</th>\n",
       "      <td>12</td>\n",
       "      <td>12</td>\n",
       "      <td>64.0</td>\n",
       "      <td>2.0</td>\n",
       "      <td>10000.0</td>\n",
       "      <td>0.009629</td>\n",
       "      <td>0.031861</td>\n",
       "      <td>0.001850</td>\n",
       "      <td>0.579089</td>\n",
       "    </tr>\n",
       "    <tr>\n",
       "      <th>13</th>\n",
       "      <td>13</td>\n",
       "      <td>13</td>\n",
       "      <td>64.0</td>\n",
       "      <td>3.0</td>\n",
       "      <td>10000.0</td>\n",
       "      <td>0.009497</td>\n",
       "      <td>0.030678</td>\n",
       "      <td>0.001801</td>\n",
       "      <td>0.581951</td>\n",
       "    </tr>\n",
       "    <tr>\n",
       "      <th>14</th>\n",
       "      <td>14</td>\n",
       "      <td>14</td>\n",
       "      <td>64.0</td>\n",
       "      <td>4.0</td>\n",
       "      <td>10000.0</td>\n",
       "      <td>0.009689</td>\n",
       "      <td>0.032220</td>\n",
       "      <td>0.001886</td>\n",
       "      <td>0.579535</td>\n",
       "    </tr>\n",
       "    <tr>\n",
       "      <th>15</th>\n",
       "      <td>15</td>\n",
       "      <td>15</td>\n",
       "      <td>64.0</td>\n",
       "      <td>0.0</td>\n",
       "      <td>1000.0</td>\n",
       "      <td>0.018448</td>\n",
       "      <td>0.078686</td>\n",
       "      <td>0.010462</td>\n",
       "      <td>0.605280</td>\n",
       "    </tr>\n",
       "    <tr>\n",
       "      <th>16</th>\n",
       "      <td>16</td>\n",
       "      <td>16</td>\n",
       "      <td>64.0</td>\n",
       "      <td>1.0</td>\n",
       "      <td>1000.0</td>\n",
       "      <td>0.018707</td>\n",
       "      <td>0.080910</td>\n",
       "      <td>0.010669</td>\n",
       "      <td>0.606608</td>\n",
       "    </tr>\n",
       "    <tr>\n",
       "      <th>17</th>\n",
       "      <td>17</td>\n",
       "      <td>17</td>\n",
       "      <td>64.0</td>\n",
       "      <td>2.0</td>\n",
       "      <td>1000.0</td>\n",
       "      <td>0.017067</td>\n",
       "      <td>0.073105</td>\n",
       "      <td>0.009078</td>\n",
       "      <td>0.598785</td>\n",
       "    </tr>\n",
       "    <tr>\n",
       "      <th>18</th>\n",
       "      <td>18</td>\n",
       "      <td>18</td>\n",
       "      <td>64.0</td>\n",
       "      <td>3.0</td>\n",
       "      <td>1000.0</td>\n",
       "      <td>0.016238</td>\n",
       "      <td>0.069067</td>\n",
       "      <td>0.008177</td>\n",
       "      <td>0.600248</td>\n",
       "    </tr>\n",
       "    <tr>\n",
       "      <th>19</th>\n",
       "      <td>19</td>\n",
       "      <td>19</td>\n",
       "      <td>64.0</td>\n",
       "      <td>4.0</td>\n",
       "      <td>1000.0</td>\n",
       "      <td>0.018840</td>\n",
       "      <td>0.080033</td>\n",
       "      <td>0.010743</td>\n",
       "      <td>0.606357</td>\n",
       "    </tr>\n",
       "    <tr>\n",
       "      <th>20</th>\n",
       "      <td>20</td>\n",
       "      <td>20</td>\n",
       "      <td>64.0</td>\n",
       "      <td>0.0</td>\n",
       "      <td>100.0</td>\n",
       "      <td>0.028282</td>\n",
       "      <td>0.107619</td>\n",
       "      <td>0.020238</td>\n",
       "      <td>0.648171</td>\n",
       "    </tr>\n",
       "    <tr>\n",
       "      <th>21</th>\n",
       "      <td>21</td>\n",
       "      <td>21</td>\n",
       "      <td>64.0</td>\n",
       "      <td>1.0</td>\n",
       "      <td>100.0</td>\n",
       "      <td>0.033456</td>\n",
       "      <td>0.123440</td>\n",
       "      <td>0.025473</td>\n",
       "      <td>0.641000</td>\n",
       "    </tr>\n",
       "    <tr>\n",
       "      <th>22</th>\n",
       "      <td>22</td>\n",
       "      <td>22</td>\n",
       "      <td>64.0</td>\n",
       "      <td>2.0</td>\n",
       "      <td>100.0</td>\n",
       "      <td>0.029891</td>\n",
       "      <td>0.114909</td>\n",
       "      <td>0.021886</td>\n",
       "      <td>0.641189</td>\n",
       "    </tr>\n",
       "    <tr>\n",
       "      <th>23</th>\n",
       "      <td>23</td>\n",
       "      <td>23</td>\n",
       "      <td>64.0</td>\n",
       "      <td>3.0</td>\n",
       "      <td>100.0</td>\n",
       "      <td>0.029616</td>\n",
       "      <td>0.115780</td>\n",
       "      <td>0.021582</td>\n",
       "      <td>0.631405</td>\n",
       "    </tr>\n",
       "    <tr>\n",
       "      <th>24</th>\n",
       "      <td>24</td>\n",
       "      <td>24</td>\n",
       "      <td>64.0</td>\n",
       "      <td>4.0</td>\n",
       "      <td>100.0</td>\n",
       "      <td>0.026032</td>\n",
       "      <td>0.104506</td>\n",
       "      <td>0.018030</td>\n",
       "      <td>0.636210</td>\n",
       "    </tr>\n",
       "    <tr>\n",
       "      <th>25</th>\n",
       "      <td>25</td>\n",
       "      <td>25</td>\n",
       "      <td>64.0</td>\n",
       "      <td>0.0</td>\n",
       "      <td>10.0</td>\n",
       "      <td>0.076902</td>\n",
       "      <td>0.219976</td>\n",
       "      <td>0.068972</td>\n",
       "      <td>0.732852</td>\n",
       "    </tr>\n",
       "    <tr>\n",
       "      <th>26</th>\n",
       "      <td>26</td>\n",
       "      <td>26</td>\n",
       "      <td>64.0</td>\n",
       "      <td>1.0</td>\n",
       "      <td>10.0</td>\n",
       "      <td>0.060313</td>\n",
       "      <td>0.185436</td>\n",
       "      <td>0.052367</td>\n",
       "      <td>0.787537</td>\n",
       "    </tr>\n",
       "    <tr>\n",
       "      <th>27</th>\n",
       "      <td>27</td>\n",
       "      <td>27</td>\n",
       "      <td>64.0</td>\n",
       "      <td>2.0</td>\n",
       "      <td>10.0</td>\n",
       "      <td>0.073217</td>\n",
       "      <td>0.204942</td>\n",
       "      <td>0.065340</td>\n",
       "      <td>0.775491</td>\n",
       "    </tr>\n",
       "    <tr>\n",
       "      <th>28</th>\n",
       "      <td>28</td>\n",
       "      <td>28</td>\n",
       "      <td>64.0</td>\n",
       "      <td>3.0</td>\n",
       "      <td>10.0</td>\n",
       "      <td>0.082345</td>\n",
       "      <td>0.215546</td>\n",
       "      <td>0.074394</td>\n",
       "      <td>0.902557</td>\n",
       "    </tr>\n",
       "    <tr>\n",
       "      <th>29</th>\n",
       "      <td>29</td>\n",
       "      <td>29</td>\n",
       "      <td>64.0</td>\n",
       "      <td>4.0</td>\n",
       "      <td>10.0</td>\n",
       "      <td>0.094050</td>\n",
       "      <td>0.241388</td>\n",
       "      <td>0.086034</td>\n",
       "      <td>0.797502</td>\n",
       "    </tr>\n",
       "    <tr>\n",
       "      <th>30</th>\n",
       "      <td>0</td>\n",
       "      <td>0</td>\n",
       "      <td>32.0</td>\n",
       "      <td>0.0</td>\n",
       "      <td>637801.0</td>\n",
       "      <td>0.000732</td>\n",
       "      <td>0.011659</td>\n",
       "      <td>0.000381</td>\n",
       "      <td>0.572846</td>\n",
       "    </tr>\n",
       "    <tr>\n",
       "      <th>31</th>\n",
       "      <td>1</td>\n",
       "      <td>1</td>\n",
       "      <td>32.0</td>\n",
       "      <td>1.0</td>\n",
       "      <td>637801.0</td>\n",
       "      <td>0.000728</td>\n",
       "      <td>0.011776</td>\n",
       "      <td>0.000383</td>\n",
       "      <td>0.572828</td>\n",
       "    </tr>\n",
       "    <tr>\n",
       "      <th>32</th>\n",
       "      <td>2</td>\n",
       "      <td>2</td>\n",
       "      <td>32.0</td>\n",
       "      <td>2.0</td>\n",
       "      <td>637801.0</td>\n",
       "      <td>0.000739</td>\n",
       "      <td>0.011951</td>\n",
       "      <td>0.000386</td>\n",
       "      <td>0.572826</td>\n",
       "    </tr>\n",
       "    <tr>\n",
       "      <th>33</th>\n",
       "      <td>3</td>\n",
       "      <td>3</td>\n",
       "      <td>32.0</td>\n",
       "      <td>3.0</td>\n",
       "      <td>637801.0</td>\n",
       "      <td>0.000743</td>\n",
       "      <td>0.011837</td>\n",
       "      <td>0.000390</td>\n",
       "      <td>0.572856</td>\n",
       "    </tr>\n",
       "    <tr>\n",
       "      <th>34</th>\n",
       "      <td>4</td>\n",
       "      <td>4</td>\n",
       "      <td>32.0</td>\n",
       "      <td>4.0</td>\n",
       "      <td>637801.0</td>\n",
       "      <td>0.000756</td>\n",
       "      <td>0.012011</td>\n",
       "      <td>0.000404</td>\n",
       "      <td>0.572980</td>\n",
       "    </tr>\n",
       "    <tr>\n",
       "      <th>35</th>\n",
       "      <td>5</td>\n",
       "      <td>5</td>\n",
       "      <td>32.0</td>\n",
       "      <td>0.0</td>\n",
       "      <td>100000.0</td>\n",
       "      <td>0.002092</td>\n",
       "      <td>0.014845</td>\n",
       "      <td>0.000550</td>\n",
       "      <td>0.573264</td>\n",
       "    </tr>\n",
       "    <tr>\n",
       "      <th>36</th>\n",
       "      <td>6</td>\n",
       "      <td>6</td>\n",
       "      <td>32.0</td>\n",
       "      <td>1.0</td>\n",
       "      <td>100000.0</td>\n",
       "      <td>0.002829</td>\n",
       "      <td>0.027579</td>\n",
       "      <td>0.001228</td>\n",
       "      <td>0.577085</td>\n",
       "    </tr>\n",
       "    <tr>\n",
       "      <th>37</th>\n",
       "      <td>7</td>\n",
       "      <td>7</td>\n",
       "      <td>32.0</td>\n",
       "      <td>2.0</td>\n",
       "      <td>100000.0</td>\n",
       "      <td>0.002359</td>\n",
       "      <td>0.019811</td>\n",
       "      <td>0.000808</td>\n",
       "      <td>0.574297</td>\n",
       "    </tr>\n",
       "    <tr>\n",
       "      <th>38</th>\n",
       "      <td>8</td>\n",
       "      <td>8</td>\n",
       "      <td>32.0</td>\n",
       "      <td>3.0</td>\n",
       "      <td>100000.0</td>\n",
       "      <td>0.002387</td>\n",
       "      <td>0.019138</td>\n",
       "      <td>0.000804</td>\n",
       "      <td>0.575068</td>\n",
       "    </tr>\n",
       "    <tr>\n",
       "      <th>39</th>\n",
       "      <td>9</td>\n",
       "      <td>9</td>\n",
       "      <td>32.0</td>\n",
       "      <td>4.0</td>\n",
       "      <td>100000.0</td>\n",
       "      <td>0.002741</td>\n",
       "      <td>0.026420</td>\n",
       "      <td>0.001047</td>\n",
       "      <td>0.574933</td>\n",
       "    </tr>\n",
       "    <tr>\n",
       "      <th>40</th>\n",
       "      <td>10</td>\n",
       "      <td>10</td>\n",
       "      <td>32.0</td>\n",
       "      <td>0.0</td>\n",
       "      <td>10000.0</td>\n",
       "      <td>0.009460</td>\n",
       "      <td>0.033424</td>\n",
       "      <td>0.002026</td>\n",
       "      <td>0.581266</td>\n",
       "    </tr>\n",
       "    <tr>\n",
       "      <th>41</th>\n",
       "      <td>11</td>\n",
       "      <td>11</td>\n",
       "      <td>32.0</td>\n",
       "      <td>1.0</td>\n",
       "      <td>10000.0</td>\n",
       "      <td>0.009432</td>\n",
       "      <td>0.034058</td>\n",
       "      <td>0.002037</td>\n",
       "      <td>0.582118</td>\n",
       "    </tr>\n",
       "    <tr>\n",
       "      <th>42</th>\n",
       "      <td>12</td>\n",
       "      <td>12</td>\n",
       "      <td>32.0</td>\n",
       "      <td>2.0</td>\n",
       "      <td>10000.0</td>\n",
       "      <td>0.009284</td>\n",
       "      <td>0.032461</td>\n",
       "      <td>0.001945</td>\n",
       "      <td>0.580877</td>\n",
       "    </tr>\n",
       "    <tr>\n",
       "      <th>43</th>\n",
       "      <td>13</td>\n",
       "      <td>13</td>\n",
       "      <td>32.0</td>\n",
       "      <td>3.0</td>\n",
       "      <td>10000.0</td>\n",
       "      <td>0.009581</td>\n",
       "      <td>0.035074</td>\n",
       "      <td>0.002261</td>\n",
       "      <td>0.578631</td>\n",
       "    </tr>\n",
       "    <tr>\n",
       "      <th>44</th>\n",
       "      <td>14</td>\n",
       "      <td>14</td>\n",
       "      <td>32.0</td>\n",
       "      <td>4.0</td>\n",
       "      <td>10000.0</td>\n",
       "      <td>0.011124</td>\n",
       "      <td>0.047643</td>\n",
       "      <td>0.003823</td>\n",
       "      <td>0.586683</td>\n",
       "    </tr>\n",
       "    <tr>\n",
       "      <th>45</th>\n",
       "      <td>15</td>\n",
       "      <td>15</td>\n",
       "      <td>32.0</td>\n",
       "      <td>0.0</td>\n",
       "      <td>1000.0</td>\n",
       "      <td>0.015678</td>\n",
       "      <td>0.068403</td>\n",
       "      <td>0.008020</td>\n",
       "      <td>0.595583</td>\n",
       "    </tr>\n",
       "    <tr>\n",
       "      <th>46</th>\n",
       "      <td>16</td>\n",
       "      <td>16</td>\n",
       "      <td>32.0</td>\n",
       "      <td>1.0</td>\n",
       "      <td>1000.0</td>\n",
       "      <td>0.016752</td>\n",
       "      <td>0.075125</td>\n",
       "      <td>0.009085</td>\n",
       "      <td>0.599138</td>\n",
       "    </tr>\n",
       "    <tr>\n",
       "      <th>47</th>\n",
       "      <td>17</td>\n",
       "      <td>17</td>\n",
       "      <td>32.0</td>\n",
       "      <td>2.0</td>\n",
       "      <td>1000.0</td>\n",
       "      <td>0.014207</td>\n",
       "      <td>0.063307</td>\n",
       "      <td>0.006569</td>\n",
       "      <td>0.594795</td>\n",
       "    </tr>\n",
       "    <tr>\n",
       "      <th>48</th>\n",
       "      <td>18</td>\n",
       "      <td>18</td>\n",
       "      <td>32.0</td>\n",
       "      <td>3.0</td>\n",
       "      <td>1000.0</td>\n",
       "      <td>0.016878</td>\n",
       "      <td>0.075602</td>\n",
       "      <td>0.009271</td>\n",
       "      <td>0.602994</td>\n",
       "    </tr>\n",
       "    <tr>\n",
       "      <th>49</th>\n",
       "      <td>19</td>\n",
       "      <td>19</td>\n",
       "      <td>32.0</td>\n",
       "      <td>4.0</td>\n",
       "      <td>1000.0</td>\n",
       "      <td>0.016559</td>\n",
       "      <td>0.073329</td>\n",
       "      <td>0.008900</td>\n",
       "      <td>0.600197</td>\n",
       "    </tr>\n",
       "    <tr>\n",
       "      <th>50</th>\n",
       "      <td>20</td>\n",
       "      <td>20</td>\n",
       "      <td>32.0</td>\n",
       "      <td>0.0</td>\n",
       "      <td>100.0</td>\n",
       "      <td>0.023487</td>\n",
       "      <td>0.100162</td>\n",
       "      <td>0.015875</td>\n",
       "      <td>0.628125</td>\n",
       "    </tr>\n",
       "    <tr>\n",
       "      <th>51</th>\n",
       "      <td>21</td>\n",
       "      <td>21</td>\n",
       "      <td>32.0</td>\n",
       "      <td>1.0</td>\n",
       "      <td>100.0</td>\n",
       "      <td>0.032917</td>\n",
       "      <td>0.116726</td>\n",
       "      <td>0.025305</td>\n",
       "      <td>0.630966</td>\n",
       "    </tr>\n",
       "    <tr>\n",
       "      <th>52</th>\n",
       "      <td>22</td>\n",
       "      <td>22</td>\n",
       "      <td>32.0</td>\n",
       "      <td>2.0</td>\n",
       "      <td>100.0</td>\n",
       "      <td>0.024681</td>\n",
       "      <td>0.101816</td>\n",
       "      <td>0.017045</td>\n",
       "      <td>0.618211</td>\n",
       "    </tr>\n",
       "    <tr>\n",
       "      <th>53</th>\n",
       "      <td>23</td>\n",
       "      <td>23</td>\n",
       "      <td>32.0</td>\n",
       "      <td>3.0</td>\n",
       "      <td>100.0</td>\n",
       "      <td>0.023636</td>\n",
       "      <td>0.097934</td>\n",
       "      <td>0.015980</td>\n",
       "      <td>0.611891</td>\n",
       "    </tr>\n",
       "    <tr>\n",
       "      <th>54</th>\n",
       "      <td>24</td>\n",
       "      <td>24</td>\n",
       "      <td>32.0</td>\n",
       "      <td>4.0</td>\n",
       "      <td>100.0</td>\n",
       "      <td>0.025709</td>\n",
       "      <td>0.103462</td>\n",
       "      <td>0.018040</td>\n",
       "      <td>0.640201</td>\n",
       "    </tr>\n",
       "    <tr>\n",
       "      <th>55</th>\n",
       "      <td>25</td>\n",
       "      <td>25</td>\n",
       "      <td>32.0</td>\n",
       "      <td>0.0</td>\n",
       "      <td>10.0</td>\n",
       "      <td>0.072795</td>\n",
       "      <td>0.201720</td>\n",
       "      <td>0.065222</td>\n",
       "      <td>0.726144</td>\n",
       "    </tr>\n",
       "    <tr>\n",
       "      <th>56</th>\n",
       "      <td>26</td>\n",
       "      <td>26</td>\n",
       "      <td>32.0</td>\n",
       "      <td>1.0</td>\n",
       "      <td>10.0</td>\n",
       "      <td>0.057197</td>\n",
       "      <td>0.178403</td>\n",
       "      <td>0.049563</td>\n",
       "      <td>0.694289</td>\n",
       "    </tr>\n",
       "    <tr>\n",
       "      <th>57</th>\n",
       "      <td>27</td>\n",
       "      <td>27</td>\n",
       "      <td>32.0</td>\n",
       "      <td>2.0</td>\n",
       "      <td>10.0</td>\n",
       "      <td>0.077146</td>\n",
       "      <td>0.215294</td>\n",
       "      <td>0.069545</td>\n",
       "      <td>0.746540</td>\n",
       "    </tr>\n",
       "    <tr>\n",
       "      <th>58</th>\n",
       "      <td>28</td>\n",
       "      <td>28</td>\n",
       "      <td>32.0</td>\n",
       "      <td>3.0</td>\n",
       "      <td>10.0</td>\n",
       "      <td>0.072202</td>\n",
       "      <td>0.209372</td>\n",
       "      <td>0.064579</td>\n",
       "      <td>0.719267</td>\n",
       "    </tr>\n",
       "    <tr>\n",
       "      <th>59</th>\n",
       "      <td>29</td>\n",
       "      <td>29</td>\n",
       "      <td>32.0</td>\n",
       "      <td>4.0</td>\n",
       "      <td>10.0</td>\n",
       "      <td>0.060758</td>\n",
       "      <td>0.178129</td>\n",
       "      <td>0.053170</td>\n",
       "      <td>0.702836</td>\n",
       "    </tr>\n",
       "    <tr>\n",
       "      <th>60</th>\n",
       "      <td>0</td>\n",
       "      <td>0</td>\n",
       "      <td>16.0</td>\n",
       "      <td>0.0</td>\n",
       "      <td>637801.0</td>\n",
       "      <td>0.000996</td>\n",
       "      <td>0.013579</td>\n",
       "      <td>0.000509</td>\n",
       "      <td>0.573170</td>\n",
       "    </tr>\n",
       "    <tr>\n",
       "      <th>61</th>\n",
       "      <td>1</td>\n",
       "      <td>1</td>\n",
       "      <td>16.0</td>\n",
       "      <td>1.0</td>\n",
       "      <td>637801.0</td>\n",
       "      <td>0.000999</td>\n",
       "      <td>0.013724</td>\n",
       "      <td>0.000514</td>\n",
       "      <td>0.573233</td>\n",
       "    </tr>\n",
       "    <tr>\n",
       "      <th>62</th>\n",
       "      <td>2</td>\n",
       "      <td>2</td>\n",
       "      <td>16.0</td>\n",
       "      <td>2.0</td>\n",
       "      <td>637801.0</td>\n",
       "      <td>0.000995</td>\n",
       "      <td>0.013875</td>\n",
       "      <td>0.000522</td>\n",
       "      <td>0.573231</td>\n",
       "    </tr>\n",
       "    <tr>\n",
       "      <th>63</th>\n",
       "      <td>3</td>\n",
       "      <td>3</td>\n",
       "      <td>16.0</td>\n",
       "      <td>3.0</td>\n",
       "      <td>637801.0</td>\n",
       "      <td>0.001011</td>\n",
       "      <td>0.013920</td>\n",
       "      <td>0.000523</td>\n",
       "      <td>0.573274</td>\n",
       "    </tr>\n",
       "    <tr>\n",
       "      <th>64</th>\n",
       "      <td>4</td>\n",
       "      <td>4</td>\n",
       "      <td>16.0</td>\n",
       "      <td>4.0</td>\n",
       "      <td>637801.0</td>\n",
       "      <td>0.000992</td>\n",
       "      <td>0.013621</td>\n",
       "      <td>0.000514</td>\n",
       "      <td>0.573221</td>\n",
       "    </tr>\n",
       "    <tr>\n",
       "      <th>65</th>\n",
       "      <td>5</td>\n",
       "      <td>5</td>\n",
       "      <td>16.0</td>\n",
       "      <td>0.0</td>\n",
       "      <td>100000.0</td>\n",
       "      <td>0.002641</td>\n",
       "      <td>0.018544</td>\n",
       "      <td>0.000771</td>\n",
       "      <td>0.573861</td>\n",
       "    </tr>\n",
       "    <tr>\n",
       "      <th>66</th>\n",
       "      <td>6</td>\n",
       "      <td>6</td>\n",
       "      <td>16.0</td>\n",
       "      <td>1.0</td>\n",
       "      <td>100000.0</td>\n",
       "      <td>0.002807</td>\n",
       "      <td>0.021860</td>\n",
       "      <td>0.001007</td>\n",
       "      <td>0.574618</td>\n",
       "    </tr>\n",
       "    <tr>\n",
       "      <th>67</th>\n",
       "      <td>7</td>\n",
       "      <td>7</td>\n",
       "      <td>16.0</td>\n",
       "      <td>2.0</td>\n",
       "      <td>100000.0</td>\n",
       "      <td>0.003305</td>\n",
       "      <td>0.025204</td>\n",
       "      <td>0.001259</td>\n",
       "      <td>0.575760</td>\n",
       "    </tr>\n",
       "    <tr>\n",
       "      <th>68</th>\n",
       "      <td>8</td>\n",
       "      <td>8</td>\n",
       "      <td>16.0</td>\n",
       "      <td>3.0</td>\n",
       "      <td>100000.0</td>\n",
       "      <td>0.002636</td>\n",
       "      <td>0.019258</td>\n",
       "      <td>0.000845</td>\n",
       "      <td>0.574600</td>\n",
       "    </tr>\n",
       "    <tr>\n",
       "      <th>69</th>\n",
       "      <td>9</td>\n",
       "      <td>9</td>\n",
       "      <td>16.0</td>\n",
       "      <td>4.0</td>\n",
       "      <td>100000.0</td>\n",
       "      <td>0.002729</td>\n",
       "      <td>0.019998</td>\n",
       "      <td>0.000881</td>\n",
       "      <td>0.574583</td>\n",
       "    </tr>\n",
       "    <tr>\n",
       "      <th>70</th>\n",
       "      <td>10</td>\n",
       "      <td>10</td>\n",
       "      <td>16.0</td>\n",
       "      <td>0.0</td>\n",
       "      <td>10000.0</td>\n",
       "      <td>0.015220</td>\n",
       "      <td>0.044081</td>\n",
       "      <td>0.003473</td>\n",
       "      <td>0.588540</td>\n",
       "    </tr>\n",
       "    <tr>\n",
       "      <th>71</th>\n",
       "      <td>11</td>\n",
       "      <td>11</td>\n",
       "      <td>16.0</td>\n",
       "      <td>1.0</td>\n",
       "      <td>10000.0</td>\n",
       "      <td>0.015227</td>\n",
       "      <td>0.044227</td>\n",
       "      <td>0.003521</td>\n",
       "      <td>0.589369</td>\n",
       "    </tr>\n",
       "    <tr>\n",
       "      <th>72</th>\n",
       "      <td>12</td>\n",
       "      <td>12</td>\n",
       "      <td>16.0</td>\n",
       "      <td>2.0</td>\n",
       "      <td>10000.0</td>\n",
       "      <td>0.015420</td>\n",
       "      <td>0.047116</td>\n",
       "      <td>0.003606</td>\n",
       "      <td>0.587122</td>\n",
       "    </tr>\n",
       "    <tr>\n",
       "      <th>73</th>\n",
       "      <td>13</td>\n",
       "      <td>13</td>\n",
       "      <td>16.0</td>\n",
       "      <td>3.0</td>\n",
       "      <td>10000.0</td>\n",
       "      <td>0.015794</td>\n",
       "      <td>0.048063</td>\n",
       "      <td>0.004083</td>\n",
       "      <td>0.591272</td>\n",
       "    </tr>\n",
       "    <tr>\n",
       "      <th>74</th>\n",
       "      <td>14</td>\n",
       "      <td>14</td>\n",
       "      <td>16.0</td>\n",
       "      <td>4.0</td>\n",
       "      <td>10000.0</td>\n",
       "      <td>0.015612</td>\n",
       "      <td>0.048864</td>\n",
       "      <td>0.003760</td>\n",
       "      <td>0.586305</td>\n",
       "    </tr>\n",
       "    <tr>\n",
       "      <th>75</th>\n",
       "      <td>15</td>\n",
       "      <td>15</td>\n",
       "      <td>16.0</td>\n",
       "      <td>0.0</td>\n",
       "      <td>1000.0</td>\n",
       "      <td>0.019988</td>\n",
       "      <td>0.066177</td>\n",
       "      <td>0.007621</td>\n",
       "      <td>0.606847</td>\n",
       "    </tr>\n",
       "    <tr>\n",
       "      <th>76</th>\n",
       "      <td>16</td>\n",
       "      <td>16</td>\n",
       "      <td>16.0</td>\n",
       "      <td>1.0</td>\n",
       "      <td>1000.0</td>\n",
       "      <td>0.019096</td>\n",
       "      <td>0.064981</td>\n",
       "      <td>0.006802</td>\n",
       "      <td>0.601988</td>\n",
       "    </tr>\n",
       "    <tr>\n",
       "      <th>77</th>\n",
       "      <td>17</td>\n",
       "      <td>17</td>\n",
       "      <td>16.0</td>\n",
       "      <td>2.0</td>\n",
       "      <td>1000.0</td>\n",
       "      <td>0.020152</td>\n",
       "      <td>0.071426</td>\n",
       "      <td>0.007905</td>\n",
       "      <td>0.604087</td>\n",
       "    </tr>\n",
       "    <tr>\n",
       "      <th>78</th>\n",
       "      <td>18</td>\n",
       "      <td>18</td>\n",
       "      <td>16.0</td>\n",
       "      <td>3.0</td>\n",
       "      <td>1000.0</td>\n",
       "      <td>0.020177</td>\n",
       "      <td>0.069504</td>\n",
       "      <td>0.007844</td>\n",
       "      <td>0.607743</td>\n",
       "    </tr>\n",
       "    <tr>\n",
       "      <th>79</th>\n",
       "      <td>19</td>\n",
       "      <td>19</td>\n",
       "      <td>16.0</td>\n",
       "      <td>4.0</td>\n",
       "      <td>1000.0</td>\n",
       "      <td>0.019427</td>\n",
       "      <td>0.066204</td>\n",
       "      <td>0.007084</td>\n",
       "      <td>0.598398</td>\n",
       "    </tr>\n",
       "    <tr>\n",
       "      <th>80</th>\n",
       "      <td>20</td>\n",
       "      <td>20</td>\n",
       "      <td>16.0</td>\n",
       "      <td>0.0</td>\n",
       "      <td>100.0</td>\n",
       "      <td>0.020506</td>\n",
       "      <td>0.070844</td>\n",
       "      <td>0.008188</td>\n",
       "      <td>0.600120</td>\n",
       "    </tr>\n",
       "    <tr>\n",
       "      <th>81</th>\n",
       "      <td>21</td>\n",
       "      <td>21</td>\n",
       "      <td>16.0</td>\n",
       "      <td>1.0</td>\n",
       "      <td>100.0</td>\n",
       "      <td>0.020152</td>\n",
       "      <td>0.068811</td>\n",
       "      <td>0.007856</td>\n",
       "      <td>0.601855</td>\n",
       "    </tr>\n",
       "    <tr>\n",
       "      <th>82</th>\n",
       "      <td>22</td>\n",
       "      <td>22</td>\n",
       "      <td>16.0</td>\n",
       "      <td>2.0</td>\n",
       "      <td>100.0</td>\n",
       "      <td>0.019991</td>\n",
       "      <td>0.066771</td>\n",
       "      <td>0.007644</td>\n",
       "      <td>0.615199</td>\n",
       "    </tr>\n",
       "    <tr>\n",
       "      <th>83</th>\n",
       "      <td>23</td>\n",
       "      <td>23</td>\n",
       "      <td>16.0</td>\n",
       "      <td>3.0</td>\n",
       "      <td>100.0</td>\n",
       "      <td>0.021011</td>\n",
       "      <td>0.074240</td>\n",
       "      <td>0.008609</td>\n",
       "      <td>0.602038</td>\n",
       "    </tr>\n",
       "    <tr>\n",
       "      <th>84</th>\n",
       "      <td>24</td>\n",
       "      <td>24</td>\n",
       "      <td>16.0</td>\n",
       "      <td>4.0</td>\n",
       "      <td>100.0</td>\n",
       "      <td>0.023088</td>\n",
       "      <td>0.081894</td>\n",
       "      <td>0.010808</td>\n",
       "      <td>0.606151</td>\n",
       "    </tr>\n",
       "    <tr>\n",
       "      <th>85</th>\n",
       "      <td>25</td>\n",
       "      <td>25</td>\n",
       "      <td>16.0</td>\n",
       "      <td>0.0</td>\n",
       "      <td>10.0</td>\n",
       "      <td>0.082840</td>\n",
       "      <td>0.209778</td>\n",
       "      <td>0.070475</td>\n",
       "      <td>0.746912</td>\n",
       "    </tr>\n",
       "    <tr>\n",
       "      <th>86</th>\n",
       "      <td>26</td>\n",
       "      <td>26</td>\n",
       "      <td>16.0</td>\n",
       "      <td>1.0</td>\n",
       "      <td>10.0</td>\n",
       "      <td>0.062857</td>\n",
       "      <td>0.183144</td>\n",
       "      <td>0.050528</td>\n",
       "      <td>0.689851</td>\n",
       "    </tr>\n",
       "    <tr>\n",
       "      <th>87</th>\n",
       "      <td>27</td>\n",
       "      <td>27</td>\n",
       "      <td>16.0</td>\n",
       "      <td>2.0</td>\n",
       "      <td>10.0</td>\n",
       "      <td>0.038646</td>\n",
       "      <td>0.130829</td>\n",
       "      <td>0.026294</td>\n",
       "      <td>0.654623</td>\n",
       "    </tr>\n",
       "    <tr>\n",
       "      <th>88</th>\n",
       "      <td>28</td>\n",
       "      <td>28</td>\n",
       "      <td>16.0</td>\n",
       "      <td>3.0</td>\n",
       "      <td>10.0</td>\n",
       "      <td>0.050406</td>\n",
       "      <td>0.157294</td>\n",
       "      <td>0.038122</td>\n",
       "      <td>0.658079</td>\n",
       "    </tr>\n",
       "    <tr>\n",
       "      <th>89</th>\n",
       "      <td>29</td>\n",
       "      <td>29</td>\n",
       "      <td>16.0</td>\n",
       "      <td>4.0</td>\n",
       "      <td>10.0</td>\n",
       "      <td>0.064780</td>\n",
       "      <td>0.180667</td>\n",
       "      <td>0.052507</td>\n",
       "      <td>0.781344</td>\n",
       "    </tr>\n",
       "    <tr>\n",
       "      <th>90</th>\n",
       "      <td>0</td>\n",
       "      <td>0</td>\n",
       "      <td>8.0</td>\n",
       "      <td>0.0</td>\n",
       "      <td>637801.0</td>\n",
       "      <td>0.001320</td>\n",
       "      <td>0.017730</td>\n",
       "      <td>0.000763</td>\n",
       "      <td>0.574397</td>\n",
       "    </tr>\n",
       "    <tr>\n",
       "      <th>91</th>\n",
       "      <td>1</td>\n",
       "      <td>1</td>\n",
       "      <td>8.0</td>\n",
       "      <td>1.0</td>\n",
       "      <td>637801.0</td>\n",
       "      <td>0.001343</td>\n",
       "      <td>0.018309</td>\n",
       "      <td>0.000804</td>\n",
       "      <td>0.574520</td>\n",
       "    </tr>\n",
       "    <tr>\n",
       "      <th>92</th>\n",
       "      <td>2</td>\n",
       "      <td>2</td>\n",
       "      <td>8.0</td>\n",
       "      <td>2.0</td>\n",
       "      <td>637801.0</td>\n",
       "      <td>0.001335</td>\n",
       "      <td>0.018081</td>\n",
       "      <td>0.000784</td>\n",
       "      <td>0.574477</td>\n",
       "    </tr>\n",
       "    <tr>\n",
       "      <th>93</th>\n",
       "      <td>3</td>\n",
       "      <td>3</td>\n",
       "      <td>8.0</td>\n",
       "      <td>3.0</td>\n",
       "      <td>637801.0</td>\n",
       "      <td>0.001319</td>\n",
       "      <td>0.018046</td>\n",
       "      <td>0.000784</td>\n",
       "      <td>0.574472</td>\n",
       "    </tr>\n",
       "    <tr>\n",
       "      <th>94</th>\n",
       "      <td>4</td>\n",
       "      <td>4</td>\n",
       "      <td>8.0</td>\n",
       "      <td>4.0</td>\n",
       "      <td>637801.0</td>\n",
       "      <td>0.001331</td>\n",
       "      <td>0.018033</td>\n",
       "      <td>0.000780</td>\n",
       "      <td>0.574521</td>\n",
       "    </tr>\n",
       "    <tr>\n",
       "      <th>95</th>\n",
       "      <td>5</td>\n",
       "      <td>5</td>\n",
       "      <td>8.0</td>\n",
       "      <td>0.0</td>\n",
       "      <td>100000.0</td>\n",
       "      <td>0.002664</td>\n",
       "      <td>0.027137</td>\n",
       "      <td>0.001335</td>\n",
       "      <td>0.575709</td>\n",
       "    </tr>\n",
       "    <tr>\n",
       "      <th>96</th>\n",
       "      <td>6</td>\n",
       "      <td>6</td>\n",
       "      <td>8.0</td>\n",
       "      <td>1.0</td>\n",
       "      <td>100000.0</td>\n",
       "      <td>0.002417</td>\n",
       "      <td>0.022304</td>\n",
       "      <td>0.001093</td>\n",
       "      <td>0.575575</td>\n",
       "    </tr>\n",
       "    <tr>\n",
       "      <th>97</th>\n",
       "      <td>7</td>\n",
       "      <td>7</td>\n",
       "      <td>8.0</td>\n",
       "      <td>2.0</td>\n",
       "      <td>100000.0</td>\n",
       "      <td>0.002398</td>\n",
       "      <td>0.021805</td>\n",
       "      <td>0.001070</td>\n",
       "      <td>0.575630</td>\n",
       "    </tr>\n",
       "    <tr>\n",
       "      <th>98</th>\n",
       "      <td>8</td>\n",
       "      <td>8</td>\n",
       "      <td>8.0</td>\n",
       "      <td>3.0</td>\n",
       "      <td>100000.0</td>\n",
       "      <td>0.002453</td>\n",
       "      <td>0.022506</td>\n",
       "      <td>0.001064</td>\n",
       "      <td>0.574987</td>\n",
       "    </tr>\n",
       "    <tr>\n",
       "      <th>99</th>\n",
       "      <td>9</td>\n",
       "      <td>9</td>\n",
       "      <td>8.0</td>\n",
       "      <td>4.0</td>\n",
       "      <td>100000.0</td>\n",
       "      <td>0.002539</td>\n",
       "      <td>0.023203</td>\n",
       "      <td>0.001191</td>\n",
       "      <td>0.575974</td>\n",
       "    </tr>\n",
       "    <tr>\n",
       "      <th>100</th>\n",
       "      <td>10</td>\n",
       "      <td>10</td>\n",
       "      <td>8.0</td>\n",
       "      <td>0.0</td>\n",
       "      <td>10000.0</td>\n",
       "      <td>0.015682</td>\n",
       "      <td>0.057462</td>\n",
       "      <td>0.005103</td>\n",
       "      <td>0.593692</td>\n",
       "    </tr>\n",
       "    <tr>\n",
       "      <th>101</th>\n",
       "      <td>11</td>\n",
       "      <td>11</td>\n",
       "      <td>8.0</td>\n",
       "      <td>1.0</td>\n",
       "      <td>10000.0</td>\n",
       "      <td>0.015523</td>\n",
       "      <td>0.055161</td>\n",
       "      <td>0.004928</td>\n",
       "      <td>0.593039</td>\n",
       "    </tr>\n",
       "    <tr>\n",
       "      <th>102</th>\n",
       "      <td>12</td>\n",
       "      <td>12</td>\n",
       "      <td>8.0</td>\n",
       "      <td>2.0</td>\n",
       "      <td>10000.0</td>\n",
       "      <td>0.017325</td>\n",
       "      <td>0.064170</td>\n",
       "      <td>0.006667</td>\n",
       "      <td>0.600577</td>\n",
       "    </tr>\n",
       "    <tr>\n",
       "      <th>103</th>\n",
       "      <td>13</td>\n",
       "      <td>13</td>\n",
       "      <td>8.0</td>\n",
       "      <td>3.0</td>\n",
       "      <td>10000.0</td>\n",
       "      <td>0.017859</td>\n",
       "      <td>0.070402</td>\n",
       "      <td>0.007145</td>\n",
       "      <td>0.595303</td>\n",
       "    </tr>\n",
       "    <tr>\n",
       "      <th>104</th>\n",
       "      <td>14</td>\n",
       "      <td>14</td>\n",
       "      <td>8.0</td>\n",
       "      <td>4.0</td>\n",
       "      <td>10000.0</td>\n",
       "      <td>0.016732</td>\n",
       "      <td>0.063708</td>\n",
       "      <td>0.006202</td>\n",
       "      <td>0.595787</td>\n",
       "    </tr>\n",
       "    <tr>\n",
       "      <th>105</th>\n",
       "      <td>15</td>\n",
       "      <td>15</td>\n",
       "      <td>8.0</td>\n",
       "      <td>0.0</td>\n",
       "      <td>1000.0</td>\n",
       "      <td>0.019938</td>\n",
       "      <td>0.072319</td>\n",
       "      <td>0.008556</td>\n",
       "      <td>0.607547</td>\n",
       "    </tr>\n",
       "    <tr>\n",
       "      <th>106</th>\n",
       "      <td>16</td>\n",
       "      <td>16</td>\n",
       "      <td>8.0</td>\n",
       "      <td>1.0</td>\n",
       "      <td>1000.0</td>\n",
       "      <td>0.020170</td>\n",
       "      <td>0.072406</td>\n",
       "      <td>0.008802</td>\n",
       "      <td>0.607845</td>\n",
       "    </tr>\n",
       "    <tr>\n",
       "      <th>107</th>\n",
       "      <td>17</td>\n",
       "      <td>17</td>\n",
       "      <td>8.0</td>\n",
       "      <td>2.0</td>\n",
       "      <td>1000.0</td>\n",
       "      <td>0.019800</td>\n",
       "      <td>0.073517</td>\n",
       "      <td>0.008505</td>\n",
       "      <td>0.601241</td>\n",
       "    </tr>\n",
       "    <tr>\n",
       "      <th>108</th>\n",
       "      <td>18</td>\n",
       "      <td>18</td>\n",
       "      <td>8.0</td>\n",
       "      <td>3.0</td>\n",
       "      <td>1000.0</td>\n",
       "      <td>0.019823</td>\n",
       "      <td>0.071302</td>\n",
       "      <td>0.008521</td>\n",
       "      <td>0.605955</td>\n",
       "    </tr>\n",
       "    <tr>\n",
       "      <th>109</th>\n",
       "      <td>19</td>\n",
       "      <td>19</td>\n",
       "      <td>8.0</td>\n",
       "      <td>4.0</td>\n",
       "      <td>1000.0</td>\n",
       "      <td>0.020112</td>\n",
       "      <td>0.074208</td>\n",
       "      <td>0.008699</td>\n",
       "      <td>0.603873</td>\n",
       "    </tr>\n",
       "    <tr>\n",
       "      <th>110</th>\n",
       "      <td>20</td>\n",
       "      <td>20</td>\n",
       "      <td>8.0</td>\n",
       "      <td>0.0</td>\n",
       "      <td>100.0</td>\n",
       "      <td>0.020789</td>\n",
       "      <td>0.074053</td>\n",
       "      <td>0.009425</td>\n",
       "      <td>0.609474</td>\n",
       "    </tr>\n",
       "    <tr>\n",
       "      <th>111</th>\n",
       "      <td>21</td>\n",
       "      <td>21</td>\n",
       "      <td>8.0</td>\n",
       "      <td>1.0</td>\n",
       "      <td>100.0</td>\n",
       "      <td>0.020849</td>\n",
       "      <td>0.074648</td>\n",
       "      <td>0.009497</td>\n",
       "      <td>0.613111</td>\n",
       "    </tr>\n",
       "    <tr>\n",
       "      <th>112</th>\n",
       "      <td>22</td>\n",
       "      <td>22</td>\n",
       "      <td>8.0</td>\n",
       "      <td>2.0</td>\n",
       "      <td>100.0</td>\n",
       "      <td>0.022321</td>\n",
       "      <td>0.080784</td>\n",
       "      <td>0.010975</td>\n",
       "      <td>0.602965</td>\n",
       "    </tr>\n",
       "    <tr>\n",
       "      <th>113</th>\n",
       "      <td>23</td>\n",
       "      <td>23</td>\n",
       "      <td>8.0</td>\n",
       "      <td>3.0</td>\n",
       "      <td>100.0</td>\n",
       "      <td>0.019251</td>\n",
       "      <td>0.071216</td>\n",
       "      <td>0.007898</td>\n",
       "      <td>0.599450</td>\n",
       "    </tr>\n",
       "    <tr>\n",
       "      <th>114</th>\n",
       "      <td>24</td>\n",
       "      <td>24</td>\n",
       "      <td>8.0</td>\n",
       "      <td>4.0</td>\n",
       "      <td>100.0</td>\n",
       "      <td>0.020961</td>\n",
       "      <td>0.076785</td>\n",
       "      <td>0.009553</td>\n",
       "      <td>0.603356</td>\n",
       "    </tr>\n",
       "    <tr>\n",
       "      <th>115</th>\n",
       "      <td>25</td>\n",
       "      <td>25</td>\n",
       "      <td>8.0</td>\n",
       "      <td>0.0</td>\n",
       "      <td>10.0</td>\n",
       "      <td>0.032323</td>\n",
       "      <td>0.112277</td>\n",
       "      <td>0.021012</td>\n",
       "      <td>0.639682</td>\n",
       "    </tr>\n",
       "    <tr>\n",
       "      <th>116</th>\n",
       "      <td>26</td>\n",
       "      <td>26</td>\n",
       "      <td>8.0</td>\n",
       "      <td>1.0</td>\n",
       "      <td>10.0</td>\n",
       "      <td>0.024774</td>\n",
       "      <td>0.089011</td>\n",
       "      <td>0.013330</td>\n",
       "      <td>0.623678</td>\n",
       "    </tr>\n",
       "    <tr>\n",
       "      <th>117</th>\n",
       "      <td>27</td>\n",
       "      <td>27</td>\n",
       "      <td>8.0</td>\n",
       "      <td>2.0</td>\n",
       "      <td>10.0</td>\n",
       "      <td>0.048912</td>\n",
       "      <td>0.154116</td>\n",
       "      <td>0.037586</td>\n",
       "      <td>0.698790</td>\n",
       "    </tr>\n",
       "    <tr>\n",
       "      <th>118</th>\n",
       "      <td>28</td>\n",
       "      <td>28</td>\n",
       "      <td>8.0</td>\n",
       "      <td>3.0</td>\n",
       "      <td>10.0</td>\n",
       "      <td>0.043961</td>\n",
       "      <td>0.136158</td>\n",
       "      <td>0.032543</td>\n",
       "      <td>0.742225</td>\n",
       "    </tr>\n",
       "    <tr>\n",
       "      <th>119</th>\n",
       "      <td>29</td>\n",
       "      <td>29</td>\n",
       "      <td>8.0</td>\n",
       "      <td>4.0</td>\n",
       "      <td>10.0</td>\n",
       "      <td>0.038577</td>\n",
       "      <td>0.130008</td>\n",
       "      <td>0.027281</td>\n",
       "      <td>0.648129</td>\n",
       "    </tr>\n",
       "    <tr>\n",
       "      <th>120</th>\n",
       "      <td>0</td>\n",
       "      <td>0</td>\n",
       "      <td>4.0</td>\n",
       "      <td>0.0</td>\n",
       "      <td>637801.0</td>\n",
       "      <td>0.002018</td>\n",
       "      <td>0.020041</td>\n",
       "      <td>0.000927</td>\n",
       "      <td>0.574728</td>\n",
       "    </tr>\n",
       "    <tr>\n",
       "      <th>121</th>\n",
       "      <td>1</td>\n",
       "      <td>1</td>\n",
       "      <td>4.0</td>\n",
       "      <td>1.0</td>\n",
       "      <td>637801.0</td>\n",
       "      <td>0.002003</td>\n",
       "      <td>0.019879</td>\n",
       "      <td>0.000915</td>\n",
       "      <td>0.574859</td>\n",
       "    </tr>\n",
       "    <tr>\n",
       "      <th>122</th>\n",
       "      <td>2</td>\n",
       "      <td>2</td>\n",
       "      <td>4.0</td>\n",
       "      <td>2.0</td>\n",
       "      <td>637801.0</td>\n",
       "      <td>0.001888</td>\n",
       "      <td>0.019091</td>\n",
       "      <td>0.000870</td>\n",
       "      <td>0.574394</td>\n",
       "    </tr>\n",
       "    <tr>\n",
       "      <th>123</th>\n",
       "      <td>3</td>\n",
       "      <td>3</td>\n",
       "      <td>4.0</td>\n",
       "      <td>3.0</td>\n",
       "      <td>637801.0</td>\n",
       "      <td>0.002044</td>\n",
       "      <td>0.020204</td>\n",
       "      <td>0.000936</td>\n",
       "      <td>0.574742</td>\n",
       "    </tr>\n",
       "    <tr>\n",
       "      <th>124</th>\n",
       "      <td>4</td>\n",
       "      <td>4</td>\n",
       "      <td>4.0</td>\n",
       "      <td>4.0</td>\n",
       "      <td>637801.0</td>\n",
       "      <td>0.001981</td>\n",
       "      <td>0.020164</td>\n",
       "      <td>0.000932</td>\n",
       "      <td>0.574778</td>\n",
       "    </tr>\n",
       "    <tr>\n",
       "      <th>125</th>\n",
       "      <td>5</td>\n",
       "      <td>5</td>\n",
       "      <td>4.0</td>\n",
       "      <td>0.0</td>\n",
       "      <td>100000.0</td>\n",
       "      <td>0.003645</td>\n",
       "      <td>0.033382</td>\n",
       "      <td>0.002012</td>\n",
       "      <td>0.577599</td>\n",
       "    </tr>\n",
       "    <tr>\n",
       "      <th>126</th>\n",
       "      <td>6</td>\n",
       "      <td>6</td>\n",
       "      <td>4.0</td>\n",
       "      <td>1.0</td>\n",
       "      <td>100000.0</td>\n",
       "      <td>0.003379</td>\n",
       "      <td>0.028939</td>\n",
       "      <td>0.001703</td>\n",
       "      <td>0.576761</td>\n",
       "    </tr>\n",
       "    <tr>\n",
       "      <th>127</th>\n",
       "      <td>7</td>\n",
       "      <td>7</td>\n",
       "      <td>4.0</td>\n",
       "      <td>2.0</td>\n",
       "      <td>100000.0</td>\n",
       "      <td>0.003814</td>\n",
       "      <td>0.032866</td>\n",
       "      <td>0.002210</td>\n",
       "      <td>0.578022</td>\n",
       "    </tr>\n",
       "    <tr>\n",
       "      <th>128</th>\n",
       "      <td>8</td>\n",
       "      <td>8</td>\n",
       "      <td>4.0</td>\n",
       "      <td>3.0</td>\n",
       "      <td>100000.0</td>\n",
       "      <td>0.003804</td>\n",
       "      <td>0.032134</td>\n",
       "      <td>0.002199</td>\n",
       "      <td>0.578194</td>\n",
       "    </tr>\n",
       "    <tr>\n",
       "      <th>129</th>\n",
       "      <td>9</td>\n",
       "      <td>9</td>\n",
       "      <td>4.0</td>\n",
       "      <td>4.0</td>\n",
       "      <td>100000.0</td>\n",
       "      <td>0.003181</td>\n",
       "      <td>0.028896</td>\n",
       "      <td>0.001696</td>\n",
       "      <td>0.576804</td>\n",
       "    </tr>\n",
       "    <tr>\n",
       "      <th>130</th>\n",
       "      <td>10</td>\n",
       "      <td>10</td>\n",
       "      <td>4.0</td>\n",
       "      <td>0.0</td>\n",
       "      <td>10000.0</td>\n",
       "      <td>0.017205</td>\n",
       "      <td>0.079876</td>\n",
       "      <td>0.012315</td>\n",
       "      <td>0.604999</td>\n",
       "    </tr>\n",
       "    <tr>\n",
       "      <th>131</th>\n",
       "      <td>11</td>\n",
       "      <td>11</td>\n",
       "      <td>4.0</td>\n",
       "      <td>1.0</td>\n",
       "      <td>10000.0</td>\n",
       "      <td>0.016929</td>\n",
       "      <td>0.075551</td>\n",
       "      <td>0.012097</td>\n",
       "      <td>0.604282</td>\n",
       "    </tr>\n",
       "    <tr>\n",
       "      <th>132</th>\n",
       "      <td>12</td>\n",
       "      <td>12</td>\n",
       "      <td>4.0</td>\n",
       "      <td>2.0</td>\n",
       "      <td>10000.0</td>\n",
       "      <td>0.016545</td>\n",
       "      <td>0.069932</td>\n",
       "      <td>0.011690</td>\n",
       "      <td>0.604899</td>\n",
       "    </tr>\n",
       "    <tr>\n",
       "      <th>133</th>\n",
       "      <td>13</td>\n",
       "      <td>13</td>\n",
       "      <td>4.0</td>\n",
       "      <td>3.0</td>\n",
       "      <td>10000.0</td>\n",
       "      <td>0.016588</td>\n",
       "      <td>0.074494</td>\n",
       "      <td>0.011657</td>\n",
       "      <td>0.605420</td>\n",
       "    </tr>\n",
       "    <tr>\n",
       "      <th>134</th>\n",
       "      <td>14</td>\n",
       "      <td>14</td>\n",
       "      <td>4.0</td>\n",
       "      <td>4.0</td>\n",
       "      <td>10000.0</td>\n",
       "      <td>0.019111</td>\n",
       "      <td>0.080131</td>\n",
       "      <td>0.014433</td>\n",
       "      <td>0.613649</td>\n",
       "    </tr>\n",
       "    <tr>\n",
       "      <th>135</th>\n",
       "      <td>15</td>\n",
       "      <td>15</td>\n",
       "      <td>4.0</td>\n",
       "      <td>0.0</td>\n",
       "      <td>1000.0</td>\n",
       "      <td>0.021921</td>\n",
       "      <td>0.099769</td>\n",
       "      <td>0.016673</td>\n",
       "      <td>0.624808</td>\n",
       "    </tr>\n",
       "    <tr>\n",
       "      <th>136</th>\n",
       "      <td>16</td>\n",
       "      <td>16</td>\n",
       "      <td>4.0</td>\n",
       "      <td>1.0</td>\n",
       "      <td>1000.0</td>\n",
       "      <td>0.021980</td>\n",
       "      <td>0.101117</td>\n",
       "      <td>0.016745</td>\n",
       "      <td>0.617125</td>\n",
       "    </tr>\n",
       "    <tr>\n",
       "      <th>137</th>\n",
       "      <td>17</td>\n",
       "      <td>17</td>\n",
       "      <td>4.0</td>\n",
       "      <td>2.0</td>\n",
       "      <td>1000.0</td>\n",
       "      <td>0.022613</td>\n",
       "      <td>0.105629</td>\n",
       "      <td>0.017480</td>\n",
       "      <td>0.614160</td>\n",
       "    </tr>\n",
       "    <tr>\n",
       "      <th>138</th>\n",
       "      <td>18</td>\n",
       "      <td>18</td>\n",
       "      <td>4.0</td>\n",
       "      <td>3.0</td>\n",
       "      <td>1000.0</td>\n",
       "      <td>0.023278</td>\n",
       "      <td>0.108925</td>\n",
       "      <td>0.018114</td>\n",
       "      <td>0.615725</td>\n",
       "    </tr>\n",
       "    <tr>\n",
       "      <th>139</th>\n",
       "      <td>19</td>\n",
       "      <td>19</td>\n",
       "      <td>4.0</td>\n",
       "      <td>4.0</td>\n",
       "      <td>1000.0</td>\n",
       "      <td>0.021719</td>\n",
       "      <td>0.098947</td>\n",
       "      <td>0.016424</td>\n",
       "      <td>0.621089</td>\n",
       "    </tr>\n",
       "    <tr>\n",
       "      <th>140</th>\n",
       "      <td>20</td>\n",
       "      <td>20</td>\n",
       "      <td>4.0</td>\n",
       "      <td>0.0</td>\n",
       "      <td>100.0</td>\n",
       "      <td>0.022279</td>\n",
       "      <td>0.095646</td>\n",
       "      <td>0.017126</td>\n",
       "      <td>0.625136</td>\n",
       "    </tr>\n",
       "    <tr>\n",
       "      <th>141</th>\n",
       "      <td>21</td>\n",
       "      <td>21</td>\n",
       "      <td>4.0</td>\n",
       "      <td>1.0</td>\n",
       "      <td>100.0</td>\n",
       "      <td>0.024436</td>\n",
       "      <td>0.107702</td>\n",
       "      <td>0.019127</td>\n",
       "      <td>0.626236</td>\n",
       "    </tr>\n",
       "    <tr>\n",
       "      <th>142</th>\n",
       "      <td>22</td>\n",
       "      <td>22</td>\n",
       "      <td>4.0</td>\n",
       "      <td>2.0</td>\n",
       "      <td>100.0</td>\n",
       "      <td>0.023019</td>\n",
       "      <td>0.103629</td>\n",
       "      <td>0.017761</td>\n",
       "      <td>0.626878</td>\n",
       "    </tr>\n",
       "    <tr>\n",
       "      <th>143</th>\n",
       "      <td>23</td>\n",
       "      <td>23</td>\n",
       "      <td>4.0</td>\n",
       "      <td>3.0</td>\n",
       "      <td>100.0</td>\n",
       "      <td>0.023982</td>\n",
       "      <td>0.109122</td>\n",
       "      <td>0.018823</td>\n",
       "      <td>0.616970</td>\n",
       "    </tr>\n",
       "    <tr>\n",
       "      <th>144</th>\n",
       "      <td>24</td>\n",
       "      <td>24</td>\n",
       "      <td>4.0</td>\n",
       "      <td>4.0</td>\n",
       "      <td>100.0</td>\n",
       "      <td>0.023137</td>\n",
       "      <td>0.104681</td>\n",
       "      <td>0.017836</td>\n",
       "      <td>0.614904</td>\n",
       "    </tr>\n",
       "    <tr>\n",
       "      <th>145</th>\n",
       "      <td>25</td>\n",
       "      <td>25</td>\n",
       "      <td>4.0</td>\n",
       "      <td>0.0</td>\n",
       "      <td>10.0</td>\n",
       "      <td>0.036182</td>\n",
       "      <td>0.139676</td>\n",
       "      <td>0.030898</td>\n",
       "      <td>0.692827</td>\n",
       "    </tr>\n",
       "    <tr>\n",
       "      <th>146</th>\n",
       "      <td>26</td>\n",
       "      <td>26</td>\n",
       "      <td>4.0</td>\n",
       "      <td>1.0</td>\n",
       "      <td>10.0</td>\n",
       "      <td>0.126624</td>\n",
       "      <td>0.280968</td>\n",
       "      <td>0.121575</td>\n",
       "      <td>2.022941</td>\n",
       "    </tr>\n",
       "    <tr>\n",
       "      <th>147</th>\n",
       "      <td>27</td>\n",
       "      <td>27</td>\n",
       "      <td>4.0</td>\n",
       "      <td>2.0</td>\n",
       "      <td>10.0</td>\n",
       "      <td>0.033369</td>\n",
       "      <td>0.128000</td>\n",
       "      <td>0.028187</td>\n",
       "      <td>0.638176</td>\n",
       "    </tr>\n",
       "    <tr>\n",
       "      <th>148</th>\n",
       "      <td>28</td>\n",
       "      <td>28</td>\n",
       "      <td>4.0</td>\n",
       "      <td>3.0</td>\n",
       "      <td>10.0</td>\n",
       "      <td>0.036862</td>\n",
       "      <td>0.144279</td>\n",
       "      <td>0.031708</td>\n",
       "      <td>0.646607</td>\n",
       "    </tr>\n",
       "    <tr>\n",
       "      <th>149</th>\n",
       "      <td>29</td>\n",
       "      <td>29</td>\n",
       "      <td>4.0</td>\n",
       "      <td>4.0</td>\n",
       "      <td>10.0</td>\n",
       "      <td>0.064425</td>\n",
       "      <td>0.194805</td>\n",
       "      <td>0.059310</td>\n",
       "      <td>0.704392</td>\n",
       "    </tr>\n",
       "  </tbody>\n",
       "</table>\n",
       "</div>"
      ],
      "text/plain": [
       "     index  Unnamed: 0  Latent units  Repeat  N samples      Loss       MAE  \\\n",
       "0        0           0          64.0     0.0   637801.0  0.000606  0.010288   \n",
       "1        1           1          64.0     1.0   637801.0  0.000614  0.010258   \n",
       "2        2           2          64.0     2.0   637801.0  0.000620  0.010409   \n",
       "3        3           3          64.0     3.0   637801.0  0.000623  0.010369   \n",
       "4        4           4          64.0     4.0   637801.0  0.000618  0.010327   \n",
       "5        5           5          64.0     0.0   100000.0  0.003111  0.030272   \n",
       "6        6           6          64.0     1.0   100000.0  0.002912  0.026803   \n",
       "7        7           7          64.0     2.0   100000.0  0.002317  0.014377   \n",
       "8        8           8          64.0     3.0   100000.0  0.002344  0.014027   \n",
       "9        9           9          64.0     4.0   100000.0  0.003418  0.029250   \n",
       "10      10          10          64.0     0.0    10000.0  0.013883  0.063060   \n",
       "11      11          11          64.0     1.0    10000.0  0.012248  0.053632   \n",
       "12      12          12          64.0     2.0    10000.0  0.009629  0.031861   \n",
       "13      13          13          64.0     3.0    10000.0  0.009497  0.030678   \n",
       "14      14          14          64.0     4.0    10000.0  0.009689  0.032220   \n",
       "15      15          15          64.0     0.0     1000.0  0.018448  0.078686   \n",
       "16      16          16          64.0     1.0     1000.0  0.018707  0.080910   \n",
       "17      17          17          64.0     2.0     1000.0  0.017067  0.073105   \n",
       "18      18          18          64.0     3.0     1000.0  0.016238  0.069067   \n",
       "19      19          19          64.0     4.0     1000.0  0.018840  0.080033   \n",
       "20      20          20          64.0     0.0      100.0  0.028282  0.107619   \n",
       "21      21          21          64.0     1.0      100.0  0.033456  0.123440   \n",
       "22      22          22          64.0     2.0      100.0  0.029891  0.114909   \n",
       "23      23          23          64.0     3.0      100.0  0.029616  0.115780   \n",
       "24      24          24          64.0     4.0      100.0  0.026032  0.104506   \n",
       "25      25          25          64.0     0.0       10.0  0.076902  0.219976   \n",
       "26      26          26          64.0     1.0       10.0  0.060313  0.185436   \n",
       "27      27          27          64.0     2.0       10.0  0.073217  0.204942   \n",
       "28      28          28          64.0     3.0       10.0  0.082345  0.215546   \n",
       "29      29          29          64.0     4.0       10.0  0.094050  0.241388   \n",
       "30       0           0          32.0     0.0   637801.0  0.000732  0.011659   \n",
       "31       1           1          32.0     1.0   637801.0  0.000728  0.011776   \n",
       "32       2           2          32.0     2.0   637801.0  0.000739  0.011951   \n",
       "33       3           3          32.0     3.0   637801.0  0.000743  0.011837   \n",
       "34       4           4          32.0     4.0   637801.0  0.000756  0.012011   \n",
       "35       5           5          32.0     0.0   100000.0  0.002092  0.014845   \n",
       "36       6           6          32.0     1.0   100000.0  0.002829  0.027579   \n",
       "37       7           7          32.0     2.0   100000.0  0.002359  0.019811   \n",
       "38       8           8          32.0     3.0   100000.0  0.002387  0.019138   \n",
       "39       9           9          32.0     4.0   100000.0  0.002741  0.026420   \n",
       "40      10          10          32.0     0.0    10000.0  0.009460  0.033424   \n",
       "41      11          11          32.0     1.0    10000.0  0.009432  0.034058   \n",
       "42      12          12          32.0     2.0    10000.0  0.009284  0.032461   \n",
       "43      13          13          32.0     3.0    10000.0  0.009581  0.035074   \n",
       "44      14          14          32.0     4.0    10000.0  0.011124  0.047643   \n",
       "45      15          15          32.0     0.0     1000.0  0.015678  0.068403   \n",
       "46      16          16          32.0     1.0     1000.0  0.016752  0.075125   \n",
       "47      17          17          32.0     2.0     1000.0  0.014207  0.063307   \n",
       "48      18          18          32.0     3.0     1000.0  0.016878  0.075602   \n",
       "49      19          19          32.0     4.0     1000.0  0.016559  0.073329   \n",
       "50      20          20          32.0     0.0      100.0  0.023487  0.100162   \n",
       "51      21          21          32.0     1.0      100.0  0.032917  0.116726   \n",
       "52      22          22          32.0     2.0      100.0  0.024681  0.101816   \n",
       "53      23          23          32.0     3.0      100.0  0.023636  0.097934   \n",
       "54      24          24          32.0     4.0      100.0  0.025709  0.103462   \n",
       "55      25          25          32.0     0.0       10.0  0.072795  0.201720   \n",
       "56      26          26          32.0     1.0       10.0  0.057197  0.178403   \n",
       "57      27          27          32.0     2.0       10.0  0.077146  0.215294   \n",
       "58      28          28          32.0     3.0       10.0  0.072202  0.209372   \n",
       "59      29          29          32.0     4.0       10.0  0.060758  0.178129   \n",
       "60       0           0          16.0     0.0   637801.0  0.000996  0.013579   \n",
       "61       1           1          16.0     1.0   637801.0  0.000999  0.013724   \n",
       "62       2           2          16.0     2.0   637801.0  0.000995  0.013875   \n",
       "63       3           3          16.0     3.0   637801.0  0.001011  0.013920   \n",
       "64       4           4          16.0     4.0   637801.0  0.000992  0.013621   \n",
       "65       5           5          16.0     0.0   100000.0  0.002641  0.018544   \n",
       "66       6           6          16.0     1.0   100000.0  0.002807  0.021860   \n",
       "67       7           7          16.0     2.0   100000.0  0.003305  0.025204   \n",
       "68       8           8          16.0     3.0   100000.0  0.002636  0.019258   \n",
       "69       9           9          16.0     4.0   100000.0  0.002729  0.019998   \n",
       "70      10          10          16.0     0.0    10000.0  0.015220  0.044081   \n",
       "71      11          11          16.0     1.0    10000.0  0.015227  0.044227   \n",
       "72      12          12          16.0     2.0    10000.0  0.015420  0.047116   \n",
       "73      13          13          16.0     3.0    10000.0  0.015794  0.048063   \n",
       "74      14          14          16.0     4.0    10000.0  0.015612  0.048864   \n",
       "75      15          15          16.0     0.0     1000.0  0.019988  0.066177   \n",
       "76      16          16          16.0     1.0     1000.0  0.019096  0.064981   \n",
       "77      17          17          16.0     2.0     1000.0  0.020152  0.071426   \n",
       "78      18          18          16.0     3.0     1000.0  0.020177  0.069504   \n",
       "79      19          19          16.0     4.0     1000.0  0.019427  0.066204   \n",
       "80      20          20          16.0     0.0      100.0  0.020506  0.070844   \n",
       "81      21          21          16.0     1.0      100.0  0.020152  0.068811   \n",
       "82      22          22          16.0     2.0      100.0  0.019991  0.066771   \n",
       "83      23          23          16.0     3.0      100.0  0.021011  0.074240   \n",
       "84      24          24          16.0     4.0      100.0  0.023088  0.081894   \n",
       "85      25          25          16.0     0.0       10.0  0.082840  0.209778   \n",
       "86      26          26          16.0     1.0       10.0  0.062857  0.183144   \n",
       "87      27          27          16.0     2.0       10.0  0.038646  0.130829   \n",
       "88      28          28          16.0     3.0       10.0  0.050406  0.157294   \n",
       "89      29          29          16.0     4.0       10.0  0.064780  0.180667   \n",
       "90       0           0           8.0     0.0   637801.0  0.001320  0.017730   \n",
       "91       1           1           8.0     1.0   637801.0  0.001343  0.018309   \n",
       "92       2           2           8.0     2.0   637801.0  0.001335  0.018081   \n",
       "93       3           3           8.0     3.0   637801.0  0.001319  0.018046   \n",
       "94       4           4           8.0     4.0   637801.0  0.001331  0.018033   \n",
       "95       5           5           8.0     0.0   100000.0  0.002664  0.027137   \n",
       "96       6           6           8.0     1.0   100000.0  0.002417  0.022304   \n",
       "97       7           7           8.0     2.0   100000.0  0.002398  0.021805   \n",
       "98       8           8           8.0     3.0   100000.0  0.002453  0.022506   \n",
       "99       9           9           8.0     4.0   100000.0  0.002539  0.023203   \n",
       "100     10          10           8.0     0.0    10000.0  0.015682  0.057462   \n",
       "101     11          11           8.0     1.0    10000.0  0.015523  0.055161   \n",
       "102     12          12           8.0     2.0    10000.0  0.017325  0.064170   \n",
       "103     13          13           8.0     3.0    10000.0  0.017859  0.070402   \n",
       "104     14          14           8.0     4.0    10000.0  0.016732  0.063708   \n",
       "105     15          15           8.0     0.0     1000.0  0.019938  0.072319   \n",
       "106     16          16           8.0     1.0     1000.0  0.020170  0.072406   \n",
       "107     17          17           8.0     2.0     1000.0  0.019800  0.073517   \n",
       "108     18          18           8.0     3.0     1000.0  0.019823  0.071302   \n",
       "109     19          19           8.0     4.0     1000.0  0.020112  0.074208   \n",
       "110     20          20           8.0     0.0      100.0  0.020789  0.074053   \n",
       "111     21          21           8.0     1.0      100.0  0.020849  0.074648   \n",
       "112     22          22           8.0     2.0      100.0  0.022321  0.080784   \n",
       "113     23          23           8.0     3.0      100.0  0.019251  0.071216   \n",
       "114     24          24           8.0     4.0      100.0  0.020961  0.076785   \n",
       "115     25          25           8.0     0.0       10.0  0.032323  0.112277   \n",
       "116     26          26           8.0     1.0       10.0  0.024774  0.089011   \n",
       "117     27          27           8.0     2.0       10.0  0.048912  0.154116   \n",
       "118     28          28           8.0     3.0       10.0  0.043961  0.136158   \n",
       "119     29          29           8.0     4.0       10.0  0.038577  0.130008   \n",
       "120      0           0           4.0     0.0   637801.0  0.002018  0.020041   \n",
       "121      1           1           4.0     1.0   637801.0  0.002003  0.019879   \n",
       "122      2           2           4.0     2.0   637801.0  0.001888  0.019091   \n",
       "123      3           3           4.0     3.0   637801.0  0.002044  0.020204   \n",
       "124      4           4           4.0     4.0   637801.0  0.001981  0.020164   \n",
       "125      5           5           4.0     0.0   100000.0  0.003645  0.033382   \n",
       "126      6           6           4.0     1.0   100000.0  0.003379  0.028939   \n",
       "127      7           7           4.0     2.0   100000.0  0.003814  0.032866   \n",
       "128      8           8           4.0     3.0   100000.0  0.003804  0.032134   \n",
       "129      9           9           4.0     4.0   100000.0  0.003181  0.028896   \n",
       "130     10          10           4.0     0.0    10000.0  0.017205  0.079876   \n",
       "131     11          11           4.0     1.0    10000.0  0.016929  0.075551   \n",
       "132     12          12           4.0     2.0    10000.0  0.016545  0.069932   \n",
       "133     13          13           4.0     3.0    10000.0  0.016588  0.074494   \n",
       "134     14          14           4.0     4.0    10000.0  0.019111  0.080131   \n",
       "135     15          15           4.0     0.0     1000.0  0.021921  0.099769   \n",
       "136     16          16           4.0     1.0     1000.0  0.021980  0.101117   \n",
       "137     17          17           4.0     2.0     1000.0  0.022613  0.105629   \n",
       "138     18          18           4.0     3.0     1000.0  0.023278  0.108925   \n",
       "139     19          19           4.0     4.0     1000.0  0.021719  0.098947   \n",
       "140     20          20           4.0     0.0      100.0  0.022279  0.095646   \n",
       "141     21          21           4.0     1.0      100.0  0.024436  0.107702   \n",
       "142     22          22           4.0     2.0      100.0  0.023019  0.103629   \n",
       "143     23          23           4.0     3.0      100.0  0.023982  0.109122   \n",
       "144     24          24           4.0     4.0      100.0  0.023137  0.104681   \n",
       "145     25          25           4.0     0.0       10.0  0.036182  0.139676   \n",
       "146     26          26           4.0     1.0       10.0  0.126624  0.280968   \n",
       "147     27          27           4.0     2.0       10.0  0.033369  0.128000   \n",
       "148     28          28           4.0     3.0       10.0  0.036862  0.144279   \n",
       "149     29          29           4.0     4.0       10.0  0.064425  0.194805   \n",
       "\n",
       "          MSE  Binary Crossentropy  \n",
       "0    0.000306             0.572591  \n",
       "1    0.000305             0.572600  \n",
       "2    0.000312             0.572634  \n",
       "3    0.000309             0.572636  \n",
       "4    0.000308             0.572598  \n",
       "5    0.001395             0.576524  \n",
       "6    0.001150             0.577381  \n",
       "7    0.000484             0.573179  \n",
       "8    0.000479             0.573109  \n",
       "9    0.001528             0.576591  \n",
       "10   0.006117             0.586597  \n",
       "11   0.004456             0.584340  \n",
       "12   0.001850             0.579089  \n",
       "13   0.001801             0.581951  \n",
       "14   0.001886             0.579535  \n",
       "15   0.010462             0.605280  \n",
       "16   0.010669             0.606608  \n",
       "17   0.009078             0.598785  \n",
       "18   0.008177             0.600248  \n",
       "19   0.010743             0.606357  \n",
       "20   0.020238             0.648171  \n",
       "21   0.025473             0.641000  \n",
       "22   0.021886             0.641189  \n",
       "23   0.021582             0.631405  \n",
       "24   0.018030             0.636210  \n",
       "25   0.068972             0.732852  \n",
       "26   0.052367             0.787537  \n",
       "27   0.065340             0.775491  \n",
       "28   0.074394             0.902557  \n",
       "29   0.086034             0.797502  \n",
       "30   0.000381             0.572846  \n",
       "31   0.000383             0.572828  \n",
       "32   0.000386             0.572826  \n",
       "33   0.000390             0.572856  \n",
       "34   0.000404             0.572980  \n",
       "35   0.000550             0.573264  \n",
       "36   0.001228             0.577085  \n",
       "37   0.000808             0.574297  \n",
       "38   0.000804             0.575068  \n",
       "39   0.001047             0.574933  \n",
       "40   0.002026             0.581266  \n",
       "41   0.002037             0.582118  \n",
       "42   0.001945             0.580877  \n",
       "43   0.002261             0.578631  \n",
       "44   0.003823             0.586683  \n",
       "45   0.008020             0.595583  \n",
       "46   0.009085             0.599138  \n",
       "47   0.006569             0.594795  \n",
       "48   0.009271             0.602994  \n",
       "49   0.008900             0.600197  \n",
       "50   0.015875             0.628125  \n",
       "51   0.025305             0.630966  \n",
       "52   0.017045             0.618211  \n",
       "53   0.015980             0.611891  \n",
       "54   0.018040             0.640201  \n",
       "55   0.065222             0.726144  \n",
       "56   0.049563             0.694289  \n",
       "57   0.069545             0.746540  \n",
       "58   0.064579             0.719267  \n",
       "59   0.053170             0.702836  \n",
       "60   0.000509             0.573170  \n",
       "61   0.000514             0.573233  \n",
       "62   0.000522             0.573231  \n",
       "63   0.000523             0.573274  \n",
       "64   0.000514             0.573221  \n",
       "65   0.000771             0.573861  \n",
       "66   0.001007             0.574618  \n",
       "67   0.001259             0.575760  \n",
       "68   0.000845             0.574600  \n",
       "69   0.000881             0.574583  \n",
       "70   0.003473             0.588540  \n",
       "71   0.003521             0.589369  \n",
       "72   0.003606             0.587122  \n",
       "73   0.004083             0.591272  \n",
       "74   0.003760             0.586305  \n",
       "75   0.007621             0.606847  \n",
       "76   0.006802             0.601988  \n",
       "77   0.007905             0.604087  \n",
       "78   0.007844             0.607743  \n",
       "79   0.007084             0.598398  \n",
       "80   0.008188             0.600120  \n",
       "81   0.007856             0.601855  \n",
       "82   0.007644             0.615199  \n",
       "83   0.008609             0.602038  \n",
       "84   0.010808             0.606151  \n",
       "85   0.070475             0.746912  \n",
       "86   0.050528             0.689851  \n",
       "87   0.026294             0.654623  \n",
       "88   0.038122             0.658079  \n",
       "89   0.052507             0.781344  \n",
       "90   0.000763             0.574397  \n",
       "91   0.000804             0.574520  \n",
       "92   0.000784             0.574477  \n",
       "93   0.000784             0.574472  \n",
       "94   0.000780             0.574521  \n",
       "95   0.001335             0.575709  \n",
       "96   0.001093             0.575575  \n",
       "97   0.001070             0.575630  \n",
       "98   0.001064             0.574987  \n",
       "99   0.001191             0.575974  \n",
       "100  0.005103             0.593692  \n",
       "101  0.004928             0.593039  \n",
       "102  0.006667             0.600577  \n",
       "103  0.007145             0.595303  \n",
       "104  0.006202             0.595787  \n",
       "105  0.008556             0.607547  \n",
       "106  0.008802             0.607845  \n",
       "107  0.008505             0.601241  \n",
       "108  0.008521             0.605955  \n",
       "109  0.008699             0.603873  \n",
       "110  0.009425             0.609474  \n",
       "111  0.009497             0.613111  \n",
       "112  0.010975             0.602965  \n",
       "113  0.007898             0.599450  \n",
       "114  0.009553             0.603356  \n",
       "115  0.021012             0.639682  \n",
       "116  0.013330             0.623678  \n",
       "117  0.037586             0.698790  \n",
       "118  0.032543             0.742225  \n",
       "119  0.027281             0.648129  \n",
       "120  0.000927             0.574728  \n",
       "121  0.000915             0.574859  \n",
       "122  0.000870             0.574394  \n",
       "123  0.000936             0.574742  \n",
       "124  0.000932             0.574778  \n",
       "125  0.002012             0.577599  \n",
       "126  0.001703             0.576761  \n",
       "127  0.002210             0.578022  \n",
       "128  0.002199             0.578194  \n",
       "129  0.001696             0.576804  \n",
       "130  0.012315             0.604999  \n",
       "131  0.012097             0.604282  \n",
       "132  0.011690             0.604899  \n",
       "133  0.011657             0.605420  \n",
       "134  0.014433             0.613649  \n",
       "135  0.016673             0.624808  \n",
       "136  0.016745             0.617125  \n",
       "137  0.017480             0.614160  \n",
       "138  0.018114             0.615725  \n",
       "139  0.016424             0.621089  \n",
       "140  0.017126             0.625136  \n",
       "141  0.019127             0.626236  \n",
       "142  0.017761             0.626878  \n",
       "143  0.018823             0.616970  \n",
       "144  0.017836             0.614904  \n",
       "145  0.030898             0.692827  \n",
       "146  0.121575             2.022941  \n",
       "147  0.028187             0.638176  \n",
       "148  0.031708             0.646607  \n",
       "149  0.059310             0.704392  "
      ]
     },
     "execution_count": 86,
     "metadata": {},
     "output_type": "execute_result"
    }
   ],
   "source": [
    "latent_dc_pr_pow"
   ]
  },
  {
   "cell_type": "code",
   "execution_count": 88,
   "id": "7a93d3a6",
   "metadata": {},
   "outputs": [
    {
     "data": {
      "application/vnd.plotly.v1+json": {
       "config": {
        "plotlyServerURL": "https://plot.ly"
       },
       "data": [
        {
         "error_y": {
          "array": [
           0.08321984112262729,
           0.005784705281257685,
           0.003470286726951599,
           0.0046166926622391025,
           0.004669960588216802,
           0.00044860504567620016
          ],
          "arrayminus": [
           0.01392011344432828,
           0.009108215570449801,
           0.0021082013845444003,
           0.003348566591739599,
           0.004571698606014203,
           0.00006847642362120196
          ],
          "symmetric": false,
          "type": "data"
         },
         "line": {
          "color": "#2E91E5"
         },
         "mode": "markers+lines",
         "name": "latent only l = 64",
         "type": "scatter",
         "x": [
          10,
          100,
          1000,
          10000,
          100000,
          637801
         ],
         "y": [
          0.204670563340187,
          0.1458741128444671,
          0.1142168343067169,
          0.077220931649208,
          0.0463596321642398,
          0.0281551722437143
         ]
        },
        {
         "error_y": {
          "array": [
           0.0570853799581528,
           0.004061222076416016,
           0.0005131661891938089,
           0.0030297562479973117,
           0.0026237443089486,
           0.00023273006081580422
          ],
          "arrayminus": [
           0.04599800705909729,
           0.006755620241165189,
           0.0013497918844223022,
           0.004503093659877694,
           0.008809152990579605,
           0.0003013275563716958
          ],
          "symmetric": false,
          "type": "data"
         },
         "line": {
          "color": "#E15F99"
         },
         "mode": "markers+lines",
         "name": "latent only l = 32",
         "type": "scatter",
         "x": [
          10,
          100,
          1000,
          10000,
          100000,
          637801
         ],
         "y": [
          0.2293649762868881,
          0.1489261537790298,
          0.1348536014556884,
          0.0975429192185401,
          0.0631365403532981,
          0.0365456901490688
         ]
        },
        {
         "error_y": {
          "array": [
           0.024341255426406805,
           0.007932260632515009,
           0.0011354684829711914,
           0.022821247577667292,
           0.0060134828090668,
           0.0004963465034962047
          ],
          "arrayminus": [
           0.025651693344116294,
           0.002863079309463501,
           0.0017819553613662997,
           0.007302969694137518,
           0.0014133900403976024,
           0.0004128254950045984
          ],
          "symmetric": false,
          "type": "data"
         },
         "line": {
          "color": "#1CA71C"
         },
         "mode": "markers+lines",
         "name": "latent only l = 16",
         "type": "scatter",
         "x": [
          10,
          100,
          1000,
          10000,
          100000,
          637801
         ],
         "y": [
          0.2297668755054474,
          0.15675650537014,
          0.1526128202676773,
          0.1395710110664367,
          0.0828003212809562,
          0.0599342174828052
         ]
        },
        {
         "error_y": {
          "array": [
           0.06253965198993691,
           0.004024684429168701,
           0.0011372566223144254,
           0.0001964718103409091,
           0.004350170493125902,
           0.0020114555954934
          ],
          "arrayminus": [
           0.019820585846900884,
           0.0060960352420806885,
           0.0015802979469299872,
           0.00015543401241299715,
           0.0023250877857208946,
           0.0037461146712303023
          ],
          "symmetric": false,
          "type": "data"
         },
         "line": {
          "color": "#FB0D0D"
         },
         "mode": "markers+lines",
         "name": "latent only l = 8",
         "type": "scatter",
         "x": [
          10,
          100,
          1000,
          10000,
          100000,
          637801
         ],
         "y": [
          0.2048725634813308,
          0.16911680996418,
          0.163144513964653,
          0.1549321115016937,
          0.1164848804473877,
          0.0852658972144126
         ]
        },
        {
         "error_y": {
          "array": [
           0.025151148438453702,
           0.002508699893951416,
           0.0022466331720351895,
           0.0023130178451538086,
           0.0009901821613312045,
           0.00031755864620211516
          ],
          "arrayminus": [
           0.025566324591636685,
           0.0020849257707595825,
           0.0015135109424591064,
           0.0021367669105529785,
           0.0017111748456954956,
           0.0006843954324722012
          ],
          "symmetric": false,
          "type": "data"
         },
         "line": {
          "color": "#DA16FF"
         },
         "mode": "markers+lines",
         "name": "latent only l = 4",
         "type": "scatter",
         "x": [
          10,
          100,
          1000,
          10000,
          100000,
          637801
         ],
         "y": [
          0.2446307986974716,
          0.1905495226383209,
          0.1899127513170242,
          0.1790599822998047,
          0.14699487388134,
          0.1379269808530807
         ]
        },
        {
         "error_y": {
          "array": [
           0.025842383503913907,
           0.008530668914318099,
           0.0022245496511459073,
           0.0308399945497512,
           0.0034689810127019986,
           0.00008207745850090029
          ],
          "arrayminus": [
           0.03010968863964078,
           0.010403141379356398,
           0.009618870913982391,
           0.0015421193093062002,
           0.0127759780734777,
           0.00006955396383999911
          ],
          "symmetric": false,
          "type": "data"
         },
         "line": {
          "color": "#2E91E5",
          "dash": "dash"
         },
         "mode": "markers+lines",
         "name": " latent+ l = 64",
         "type": "scatter",
         "x": [
          10,
          100,
          1000,
          10000,
          100000,
          637801
         ],
         "y": [
          0.2155455499887466,
          0.1149092018604278,
          0.0786858201026916,
          0.0322202667593956,
          0.0268025789409875,
          0.0103271976113319
         ]
        },
        {
         "error_y": {
          "array": [
           0.013573840260505593,
           0.014910154044628199,
           0.0022733137011528015,
           0.013585072010755497,
           0.007767319679260299,
           0.00017426442354920128
          ],
          "arrayminus": [
           0.023591071367263794,
           0.0038820579648017883,
           0.010022290050983401,
           0.0015965290367603024,
           0.004966435953974701,
           0.00017844792455429942
          ],
          "symmetric": false,
          "type": "data"
         },
         "line": {
          "color": "#E15F99",
          "dash": "dash"
         },
         "mode": "markers+lines",
         "name": " latent+ l = 32",
         "type": "scatter",
         "x": [
          10,
          100,
          1000,
          10000,
          100000,
          637801
         ],
         "y": [
          0.2017199844121933,
          0.101816140115261,
          0.0733290091156959,
          0.0340577885508537,
          0.0198114719241857,
          0.0118372188881039
         ]
        },
        {
         "error_y": {
          "array": [
           0.0291104465723038,
           0.011049553751945496,
           0.005222655832767389,
           0.0017483793199062,
           0.0052067916840315,
           0.0001953346654772984
          ],
          "arrayminus": [
           0.049837857484817505,
           0.004072748124599512,
           0.0012222602963448126,
           0.003034640103578602,
           0.0014534555375575985,
           0.00014517828822140089
          ],
          "symmetric": false,
          "type": "data"
         },
         "line": {
          "color": "#1CA71C",
          "dash": "dash"
         },
         "mode": "markers+lines",
         "name": " latent+ l = 16",
         "type": "scatter",
         "x": [
          10,
          100,
          1000,
          10000,
          100000,
          637801
         ],
         "y": [
          0.1806671321392059,
          0.0708440542221069,
          0.0662035122513771,
          0.0471156276762485,
          0.0199976414442062,
          0.0137244993820786
         ]
        },
        {
         "error_y": {
          "array": [
           0.024108305573463412,
           0.006135769188404111,
           0.0018027573823928,
           0.006694406270980793,
           0.0046306792646646985,
           0.000262886285781902
          ],
          "arrayminus": [
           0.04099690169096,
           0.003432326018810189,
           0.0011034756898880005,
           0.008546855300664902,
           0.0007011462002992006,
           0.0003157351166010007
          ],
          "symmetric": false,
          "type": "data"
         },
         "line": {
          "color": "#FB0D0D",
          "dash": "dash"
         },
         "mode": "markers+lines",
         "name": " latent+ l = 8",
         "type": "scatter",
         "x": [
          10,
          100,
          1000,
          10000,
          100000,
          637801
         ],
         "y": [
          0.1300075501203537,
          0.0746484398841857,
          0.0724055990576744,
          0.0637078583240509,
          0.022506259381771,
          0.0180456861853599
         ]
        },
        {
         "error_y": {
          "array": [
           0.13668885827064522,
           0.004441007971763611,
           0.007807485759258298,
           0.004580229520797799,
           0.0012478567659854958,
           0.00016342848539349988
          ],
          "arrayminus": [
           0.01627932488918299,
           0.009034775197505993,
           0.0021699219942093034,
           0.0056188851594925066,
           0.0032379776239395038,
           0.0009496174752711972
          ],
          "symmetric": false,
          "type": "data"
         },
         "line": {
          "color": "#DA16FF",
          "dash": "dash"
         },
         "mode": "markers+lines",
         "name": " latent+ l = 4",
         "type": "scatter",
         "x": [
          10,
          100,
          1000,
          10000,
          100000,
          637801
         ],
         "y": [
          0.1442789435386657,
          0.1046808436512947,
          0.101117230951786,
          0.0755509063601493,
          0.0321339182555675,
          0.0200408343225717
         ]
        }
       ],
       "layout": {
        "height": 1200,
        "legend": {
         "orientation": "h",
         "x": 0,
         "xanchor": "left",
         "y": 0.99,
         "yanchor": "bottom"
        },
        "template": {
         "data": {
          "bar": [
           {
            "error_x": {
             "color": "#2a3f5f"
            },
            "error_y": {
             "color": "#2a3f5f"
            },
            "marker": {
             "line": {
              "color": "white",
              "width": 0.5
             },
             "pattern": {
              "fillmode": "overlay",
              "size": 10,
              "solidity": 0.2
             }
            },
            "type": "bar"
           }
          ],
          "barpolar": [
           {
            "marker": {
             "line": {
              "color": "white",
              "width": 0.5
             },
             "pattern": {
              "fillmode": "overlay",
              "size": 10,
              "solidity": 0.2
             }
            },
            "type": "barpolar"
           }
          ],
          "carpet": [
           {
            "aaxis": {
             "endlinecolor": "#2a3f5f",
             "gridcolor": "#C8D4E3",
             "linecolor": "#C8D4E3",
             "minorgridcolor": "#C8D4E3",
             "startlinecolor": "#2a3f5f"
            },
            "baxis": {
             "endlinecolor": "#2a3f5f",
             "gridcolor": "#C8D4E3",
             "linecolor": "#C8D4E3",
             "minorgridcolor": "#C8D4E3",
             "startlinecolor": "#2a3f5f"
            },
            "type": "carpet"
           }
          ],
          "choropleth": [
           {
            "colorbar": {
             "outlinewidth": 0,
             "ticks": ""
            },
            "type": "choropleth"
           }
          ],
          "contour": [
           {
            "colorbar": {
             "outlinewidth": 0,
             "ticks": ""
            },
            "colorscale": [
             [
              0,
              "#0d0887"
             ],
             [
              0.1111111111111111,
              "#46039f"
             ],
             [
              0.2222222222222222,
              "#7201a8"
             ],
             [
              0.3333333333333333,
              "#9c179e"
             ],
             [
              0.4444444444444444,
              "#bd3786"
             ],
             [
              0.5555555555555556,
              "#d8576b"
             ],
             [
              0.6666666666666666,
              "#ed7953"
             ],
             [
              0.7777777777777778,
              "#fb9f3a"
             ],
             [
              0.8888888888888888,
              "#fdca26"
             ],
             [
              1,
              "#f0f921"
             ]
            ],
            "type": "contour"
           }
          ],
          "contourcarpet": [
           {
            "colorbar": {
             "outlinewidth": 0,
             "ticks": ""
            },
            "type": "contourcarpet"
           }
          ],
          "heatmap": [
           {
            "colorbar": {
             "outlinewidth": 0,
             "ticks": ""
            },
            "colorscale": [
             [
              0,
              "#0d0887"
             ],
             [
              0.1111111111111111,
              "#46039f"
             ],
             [
              0.2222222222222222,
              "#7201a8"
             ],
             [
              0.3333333333333333,
              "#9c179e"
             ],
             [
              0.4444444444444444,
              "#bd3786"
             ],
             [
              0.5555555555555556,
              "#d8576b"
             ],
             [
              0.6666666666666666,
              "#ed7953"
             ],
             [
              0.7777777777777778,
              "#fb9f3a"
             ],
             [
              0.8888888888888888,
              "#fdca26"
             ],
             [
              1,
              "#f0f921"
             ]
            ],
            "type": "heatmap"
           }
          ],
          "heatmapgl": [
           {
            "colorbar": {
             "outlinewidth": 0,
             "ticks": ""
            },
            "colorscale": [
             [
              0,
              "#0d0887"
             ],
             [
              0.1111111111111111,
              "#46039f"
             ],
             [
              0.2222222222222222,
              "#7201a8"
             ],
             [
              0.3333333333333333,
              "#9c179e"
             ],
             [
              0.4444444444444444,
              "#bd3786"
             ],
             [
              0.5555555555555556,
              "#d8576b"
             ],
             [
              0.6666666666666666,
              "#ed7953"
             ],
             [
              0.7777777777777778,
              "#fb9f3a"
             ],
             [
              0.8888888888888888,
              "#fdca26"
             ],
             [
              1,
              "#f0f921"
             ]
            ],
            "type": "heatmapgl"
           }
          ],
          "histogram": [
           {
            "marker": {
             "pattern": {
              "fillmode": "overlay",
              "size": 10,
              "solidity": 0.2
             }
            },
            "type": "histogram"
           }
          ],
          "histogram2d": [
           {
            "colorbar": {
             "outlinewidth": 0,
             "ticks": ""
            },
            "colorscale": [
             [
              0,
              "#0d0887"
             ],
             [
              0.1111111111111111,
              "#46039f"
             ],
             [
              0.2222222222222222,
              "#7201a8"
             ],
             [
              0.3333333333333333,
              "#9c179e"
             ],
             [
              0.4444444444444444,
              "#bd3786"
             ],
             [
              0.5555555555555556,
              "#d8576b"
             ],
             [
              0.6666666666666666,
              "#ed7953"
             ],
             [
              0.7777777777777778,
              "#fb9f3a"
             ],
             [
              0.8888888888888888,
              "#fdca26"
             ],
             [
              1,
              "#f0f921"
             ]
            ],
            "type": "histogram2d"
           }
          ],
          "histogram2dcontour": [
           {
            "colorbar": {
             "outlinewidth": 0,
             "ticks": ""
            },
            "colorscale": [
             [
              0,
              "#0d0887"
             ],
             [
              0.1111111111111111,
              "#46039f"
             ],
             [
              0.2222222222222222,
              "#7201a8"
             ],
             [
              0.3333333333333333,
              "#9c179e"
             ],
             [
              0.4444444444444444,
              "#bd3786"
             ],
             [
              0.5555555555555556,
              "#d8576b"
             ],
             [
              0.6666666666666666,
              "#ed7953"
             ],
             [
              0.7777777777777778,
              "#fb9f3a"
             ],
             [
              0.8888888888888888,
              "#fdca26"
             ],
             [
              1,
              "#f0f921"
             ]
            ],
            "type": "histogram2dcontour"
           }
          ],
          "mesh3d": [
           {
            "colorbar": {
             "outlinewidth": 0,
             "ticks": ""
            },
            "type": "mesh3d"
           }
          ],
          "parcoords": [
           {
            "line": {
             "colorbar": {
              "outlinewidth": 0,
              "ticks": ""
             }
            },
            "type": "parcoords"
           }
          ],
          "pie": [
           {
            "automargin": true,
            "type": "pie"
           }
          ],
          "scatter": [
           {
            "fillpattern": {
             "fillmode": "overlay",
             "size": 10,
             "solidity": 0.2
            },
            "type": "scatter"
           }
          ],
          "scatter3d": [
           {
            "line": {
             "colorbar": {
              "outlinewidth": 0,
              "ticks": ""
             }
            },
            "marker": {
             "colorbar": {
              "outlinewidth": 0,
              "ticks": ""
             }
            },
            "type": "scatter3d"
           }
          ],
          "scattercarpet": [
           {
            "marker": {
             "colorbar": {
              "outlinewidth": 0,
              "ticks": ""
             }
            },
            "type": "scattercarpet"
           }
          ],
          "scattergeo": [
           {
            "marker": {
             "colorbar": {
              "outlinewidth": 0,
              "ticks": ""
             }
            },
            "type": "scattergeo"
           }
          ],
          "scattergl": [
           {
            "marker": {
             "colorbar": {
              "outlinewidth": 0,
              "ticks": ""
             }
            },
            "type": "scattergl"
           }
          ],
          "scattermapbox": [
           {
            "marker": {
             "colorbar": {
              "outlinewidth": 0,
              "ticks": ""
             }
            },
            "type": "scattermapbox"
           }
          ],
          "scatterpolar": [
           {
            "marker": {
             "colorbar": {
              "outlinewidth": 0,
              "ticks": ""
             }
            },
            "type": "scatterpolar"
           }
          ],
          "scatterpolargl": [
           {
            "marker": {
             "colorbar": {
              "outlinewidth": 0,
              "ticks": ""
             }
            },
            "type": "scatterpolargl"
           }
          ],
          "scatterternary": [
           {
            "marker": {
             "colorbar": {
              "outlinewidth": 0,
              "ticks": ""
             }
            },
            "type": "scatterternary"
           }
          ],
          "surface": [
           {
            "colorbar": {
             "outlinewidth": 0,
             "ticks": ""
            },
            "colorscale": [
             [
              0,
              "#0d0887"
             ],
             [
              0.1111111111111111,
              "#46039f"
             ],
             [
              0.2222222222222222,
              "#7201a8"
             ],
             [
              0.3333333333333333,
              "#9c179e"
             ],
             [
              0.4444444444444444,
              "#bd3786"
             ],
             [
              0.5555555555555556,
              "#d8576b"
             ],
             [
              0.6666666666666666,
              "#ed7953"
             ],
             [
              0.7777777777777778,
              "#fb9f3a"
             ],
             [
              0.8888888888888888,
              "#fdca26"
             ],
             [
              1,
              "#f0f921"
             ]
            ],
            "type": "surface"
           }
          ],
          "table": [
           {
            "cells": {
             "fill": {
              "color": "#EBF0F8"
             },
             "line": {
              "color": "white"
             }
            },
            "header": {
             "fill": {
              "color": "#C8D4E3"
             },
             "line": {
              "color": "white"
             }
            },
            "type": "table"
           }
          ]
         },
         "layout": {
          "annotationdefaults": {
           "arrowcolor": "#2a3f5f",
           "arrowhead": 0,
           "arrowwidth": 1
          },
          "autotypenumbers": "strict",
          "coloraxis": {
           "colorbar": {
            "outlinewidth": 0,
            "ticks": ""
           }
          },
          "colorscale": {
           "diverging": [
            [
             0,
             "#8e0152"
            ],
            [
             0.1,
             "#c51b7d"
            ],
            [
             0.2,
             "#de77ae"
            ],
            [
             0.3,
             "#f1b6da"
            ],
            [
             0.4,
             "#fde0ef"
            ],
            [
             0.5,
             "#f7f7f7"
            ],
            [
             0.6,
             "#e6f5d0"
            ],
            [
             0.7,
             "#b8e186"
            ],
            [
             0.8,
             "#7fbc41"
            ],
            [
             0.9,
             "#4d9221"
            ],
            [
             1,
             "#276419"
            ]
           ],
           "sequential": [
            [
             0,
             "#0d0887"
            ],
            [
             0.1111111111111111,
             "#46039f"
            ],
            [
             0.2222222222222222,
             "#7201a8"
            ],
            [
             0.3333333333333333,
             "#9c179e"
            ],
            [
             0.4444444444444444,
             "#bd3786"
            ],
            [
             0.5555555555555556,
             "#d8576b"
            ],
            [
             0.6666666666666666,
             "#ed7953"
            ],
            [
             0.7777777777777778,
             "#fb9f3a"
            ],
            [
             0.8888888888888888,
             "#fdca26"
            ],
            [
             1,
             "#f0f921"
            ]
           ],
           "sequentialminus": [
            [
             0,
             "#0d0887"
            ],
            [
             0.1111111111111111,
             "#46039f"
            ],
            [
             0.2222222222222222,
             "#7201a8"
            ],
            [
             0.3333333333333333,
             "#9c179e"
            ],
            [
             0.4444444444444444,
             "#bd3786"
            ],
            [
             0.5555555555555556,
             "#d8576b"
            ],
            [
             0.6666666666666666,
             "#ed7953"
            ],
            [
             0.7777777777777778,
             "#fb9f3a"
            ],
            [
             0.8888888888888888,
             "#fdca26"
            ],
            [
             1,
             "#f0f921"
            ]
           ]
          },
          "colorway": [
           "#636efa",
           "#EF553B",
           "#00cc96",
           "#ab63fa",
           "#FFA15A",
           "#19d3f3",
           "#FF6692",
           "#B6E880",
           "#FF97FF",
           "#FECB52"
          ],
          "font": {
           "color": "#2a3f5f"
          },
          "geo": {
           "bgcolor": "white",
           "lakecolor": "white",
           "landcolor": "white",
           "showlakes": true,
           "showland": true,
           "subunitcolor": "#C8D4E3"
          },
          "hoverlabel": {
           "align": "left"
          },
          "hovermode": "closest",
          "mapbox": {
           "style": "light"
          },
          "paper_bgcolor": "white",
          "plot_bgcolor": "white",
          "polar": {
           "angularaxis": {
            "gridcolor": "#EBF0F8",
            "linecolor": "#EBF0F8",
            "ticks": ""
           },
           "bgcolor": "white",
           "radialaxis": {
            "gridcolor": "#EBF0F8",
            "linecolor": "#EBF0F8",
            "ticks": ""
           }
          },
          "scene": {
           "xaxis": {
            "backgroundcolor": "white",
            "gridcolor": "#DFE8F3",
            "gridwidth": 2,
            "linecolor": "#EBF0F8",
            "showbackground": true,
            "ticks": "",
            "zerolinecolor": "#EBF0F8"
           },
           "yaxis": {
            "backgroundcolor": "white",
            "gridcolor": "#DFE8F3",
            "gridwidth": 2,
            "linecolor": "#EBF0F8",
            "showbackground": true,
            "ticks": "",
            "zerolinecolor": "#EBF0F8"
           },
           "zaxis": {
            "backgroundcolor": "white",
            "gridcolor": "#DFE8F3",
            "gridwidth": 2,
            "linecolor": "#EBF0F8",
            "showbackground": true,
            "ticks": "",
            "zerolinecolor": "#EBF0F8"
           }
          },
          "shapedefaults": {
           "line": {
            "color": "#2a3f5f"
           }
          },
          "ternary": {
           "aaxis": {
            "gridcolor": "#DFE8F3",
            "linecolor": "#A2B1C6",
            "ticks": ""
           },
           "baxis": {
            "gridcolor": "#DFE8F3",
            "linecolor": "#A2B1C6",
            "ticks": ""
           },
           "bgcolor": "white",
           "caxis": {
            "gridcolor": "#DFE8F3",
            "linecolor": "#A2B1C6",
            "ticks": ""
           }
          },
          "title": {
           "x": 0.05
          },
          "xaxis": {
           "automargin": true,
           "gridcolor": "#EBF0F8",
           "linecolor": "#EBF0F8",
           "ticks": "",
           "title": {
            "standoff": 15
           },
           "zerolinecolor": "#EBF0F8",
           "zerolinewidth": 2
          },
          "yaxis": {
           "automargin": true,
           "gridcolor": "#EBF0F8",
           "linecolor": "#EBF0F8",
           "ticks": "",
           "title": {
            "standoff": 15
           },
           "zerolinecolor": "#EBF0F8",
           "zerolinewidth": 2
          }
         }
        },
        "width": 1200,
        "xaxis": {
         "title": {
          "text": "Number of samples"
         },
         "type": "log"
        },
        "yaxis": {
         "title": {
          "text": "MAE"
         },
         "type": "log"
        }
       }
      },
      "text/html": [
       "<div>                            <div id=\"6d7d972d-99a1-44a8-b75d-86a281ce9c0d\" class=\"plotly-graph-div\" style=\"height:1200px; width:1200px;\"></div>            <script type=\"text/javascript\">                require([\"plotly\"], function(Plotly) {                    window.PLOTLYENV=window.PLOTLYENV || {};                                    if (document.getElementById(\"6d7d972d-99a1-44a8-b75d-86a281ce9c0d\")) {                    Plotly.newPlot(                        \"6d7d972d-99a1-44a8-b75d-86a281ce9c0d\",                        [{\"error_y\":{\"array\":[0.08321984112262729,0.005784705281257685,0.003470286726951599,0.0046166926622391025,0.004669960588216802,0.00044860504567620016],\"arrayminus\":[0.01392011344432828,0.009108215570449801,0.0021082013845444003,0.003348566591739599,0.004571698606014203,6.847642362120196e-05],\"symmetric\":false,\"type\":\"data\"},\"line\":{\"color\":\"#2E91E5\"},\"mode\":\"markers+lines\",\"name\":\"latent only l = 64\",\"x\":[10,100,1000,10000,100000,637801],\"y\":[0.204670563340187,0.1458741128444671,0.1142168343067169,0.077220931649208,0.0463596321642398,0.0281551722437143],\"type\":\"scatter\"},{\"error_y\":{\"array\":[0.0570853799581528,0.004061222076416016,0.0005131661891938089,0.0030297562479973117,0.0026237443089486,0.00023273006081580422],\"arrayminus\":[0.04599800705909729,0.006755620241165189,0.0013497918844223022,0.004503093659877694,0.008809152990579605,0.0003013275563716958],\"symmetric\":false,\"type\":\"data\"},\"line\":{\"color\":\"#E15F99\"},\"mode\":\"markers+lines\",\"name\":\"latent only l = 32\",\"x\":[10,100,1000,10000,100000,637801],\"y\":[0.2293649762868881,0.1489261537790298,0.1348536014556884,0.0975429192185401,0.0631365403532981,0.0365456901490688],\"type\":\"scatter\"},{\"error_y\":{\"array\":[0.024341255426406805,0.007932260632515009,0.0011354684829711914,0.022821247577667292,0.0060134828090668,0.0004963465034962047],\"arrayminus\":[0.025651693344116294,0.002863079309463501,0.0017819553613662997,0.007302969694137518,0.0014133900403976024,0.0004128254950045984],\"symmetric\":false,\"type\":\"data\"},\"line\":{\"color\":\"#1CA71C\"},\"mode\":\"markers+lines\",\"name\":\"latent only l = 16\",\"x\":[10,100,1000,10000,100000,637801],\"y\":[0.2297668755054474,0.15675650537014,0.1526128202676773,0.1395710110664367,0.0828003212809562,0.0599342174828052],\"type\":\"scatter\"},{\"error_y\":{\"array\":[0.06253965198993691,0.004024684429168701,0.0011372566223144254,0.0001964718103409091,0.004350170493125902,0.0020114555954934],\"arrayminus\":[0.019820585846900884,0.0060960352420806885,0.0015802979469299872,0.00015543401241299715,0.0023250877857208946,0.0037461146712303023],\"symmetric\":false,\"type\":\"data\"},\"line\":{\"color\":\"#FB0D0D\"},\"mode\":\"markers+lines\",\"name\":\"latent only l = 8\",\"x\":[10,100,1000,10000,100000,637801],\"y\":[0.2048725634813308,0.16911680996418,0.163144513964653,0.1549321115016937,0.1164848804473877,0.0852658972144126],\"type\":\"scatter\"},{\"error_y\":{\"array\":[0.025151148438453702,0.002508699893951416,0.0022466331720351895,0.0023130178451538086,0.0009901821613312045,0.00031755864620211516],\"arrayminus\":[0.025566324591636685,0.0020849257707595825,0.0015135109424591064,0.0021367669105529785,0.0017111748456954956,0.0006843954324722012],\"symmetric\":false,\"type\":\"data\"},\"line\":{\"color\":\"#DA16FF\"},\"mode\":\"markers+lines\",\"name\":\"latent only l = 4\",\"x\":[10,100,1000,10000,100000,637801],\"y\":[0.2446307986974716,0.1905495226383209,0.1899127513170242,0.1790599822998047,0.14699487388134,0.1379269808530807],\"type\":\"scatter\"},{\"error_y\":{\"array\":[0.025842383503913907,0.008530668914318099,0.0022245496511459073,0.0308399945497512,0.0034689810127019986,8.207745850090029e-05],\"arrayminus\":[0.03010968863964078,0.010403141379356398,0.009618870913982391,0.0015421193093062002,0.0127759780734777,6.955396383999911e-05],\"symmetric\":false,\"type\":\"data\"},\"line\":{\"color\":\"#2E91E5\",\"dash\":\"dash\"},\"mode\":\"markers+lines\",\"name\":\" latent+ l = 64\",\"x\":[10.0,100.0,1000.0,10000.0,100000.0,637801.0],\"y\":[0.2155455499887466,0.1149092018604278,0.0786858201026916,0.0322202667593956,0.0268025789409875,0.0103271976113319],\"type\":\"scatter\"},{\"error_y\":{\"array\":[0.013573840260505593,0.014910154044628199,0.0022733137011528015,0.013585072010755497,0.007767319679260299,0.00017426442354920128],\"arrayminus\":[0.023591071367263794,0.0038820579648017883,0.010022290050983401,0.0015965290367603024,0.004966435953974701,0.00017844792455429942],\"symmetric\":false,\"type\":\"data\"},\"line\":{\"color\":\"#E15F99\",\"dash\":\"dash\"},\"mode\":\"markers+lines\",\"name\":\" latent+ l = 32\",\"x\":[10.0,100.0,1000.0,10000.0,100000.0,637801.0],\"y\":[0.2017199844121933,0.101816140115261,0.0733290091156959,0.0340577885508537,0.0198114719241857,0.0118372188881039],\"type\":\"scatter\"},{\"error_y\":{\"array\":[0.0291104465723038,0.011049553751945496,0.005222655832767389,0.0017483793199062,0.0052067916840315,0.0001953346654772984],\"arrayminus\":[0.049837857484817505,0.004072748124599512,0.0012222602963448126,0.003034640103578602,0.0014534555375575985,0.00014517828822140089],\"symmetric\":false,\"type\":\"data\"},\"line\":{\"color\":\"#1CA71C\",\"dash\":\"dash\"},\"mode\":\"markers+lines\",\"name\":\" latent+ l = 16\",\"x\":[10.0,100.0,1000.0,10000.0,100000.0,637801.0],\"y\":[0.1806671321392059,0.0708440542221069,0.0662035122513771,0.0471156276762485,0.0199976414442062,0.0137244993820786],\"type\":\"scatter\"},{\"error_y\":{\"array\":[0.024108305573463412,0.006135769188404111,0.0018027573823928,0.006694406270980793,0.0046306792646646985,0.000262886285781902],\"arrayminus\":[0.04099690169096,0.003432326018810189,0.0011034756898880005,0.008546855300664902,0.0007011462002992006,0.0003157351166010007],\"symmetric\":false,\"type\":\"data\"},\"line\":{\"color\":\"#FB0D0D\",\"dash\":\"dash\"},\"mode\":\"markers+lines\",\"name\":\" latent+ l = 8\",\"x\":[10.0,100.0,1000.0,10000.0,100000.0,637801.0],\"y\":[0.1300075501203537,0.0746484398841857,0.0724055990576744,0.0637078583240509,0.022506259381771,0.0180456861853599],\"type\":\"scatter\"},{\"error_y\":{\"array\":[0.13668885827064522,0.004441007971763611,0.007807485759258298,0.004580229520797799,0.0012478567659854958,0.00016342848539349988],\"arrayminus\":[0.01627932488918299,0.009034775197505993,0.0021699219942093034,0.0056188851594925066,0.0032379776239395038,0.0009496174752711972],\"symmetric\":false,\"type\":\"data\"},\"line\":{\"color\":\"#DA16FF\",\"dash\":\"dash\"},\"mode\":\"markers+lines\",\"name\":\" latent+ l = 4\",\"x\":[10.0,100.0,1000.0,10000.0,100000.0,637801.0],\"y\":[0.1442789435386657,0.1046808436512947,0.101117230951786,0.0755509063601493,0.0321339182555675,0.0200408343225717],\"type\":\"scatter\"}],                        {\"template\":{\"data\":{\"barpolar\":[{\"marker\":{\"line\":{\"color\":\"white\",\"width\":0.5},\"pattern\":{\"fillmode\":\"overlay\",\"size\":10,\"solidity\":0.2}},\"type\":\"barpolar\"}],\"bar\":[{\"error_x\":{\"color\":\"#2a3f5f\"},\"error_y\":{\"color\":\"#2a3f5f\"},\"marker\":{\"line\":{\"color\":\"white\",\"width\":0.5},\"pattern\":{\"fillmode\":\"overlay\",\"size\":10,\"solidity\":0.2}},\"type\":\"bar\"}],\"carpet\":[{\"aaxis\":{\"endlinecolor\":\"#2a3f5f\",\"gridcolor\":\"#C8D4E3\",\"linecolor\":\"#C8D4E3\",\"minorgridcolor\":\"#C8D4E3\",\"startlinecolor\":\"#2a3f5f\"},\"baxis\":{\"endlinecolor\":\"#2a3f5f\",\"gridcolor\":\"#C8D4E3\",\"linecolor\":\"#C8D4E3\",\"minorgridcolor\":\"#C8D4E3\",\"startlinecolor\":\"#2a3f5f\"},\"type\":\"carpet\"}],\"choropleth\":[{\"colorbar\":{\"outlinewidth\":0,\"ticks\":\"\"},\"type\":\"choropleth\"}],\"contourcarpet\":[{\"colorbar\":{\"outlinewidth\":0,\"ticks\":\"\"},\"type\":\"contourcarpet\"}],\"contour\":[{\"colorbar\":{\"outlinewidth\":0,\"ticks\":\"\"},\"colorscale\":[[0.0,\"#0d0887\"],[0.1111111111111111,\"#46039f\"],[0.2222222222222222,\"#7201a8\"],[0.3333333333333333,\"#9c179e\"],[0.4444444444444444,\"#bd3786\"],[0.5555555555555556,\"#d8576b\"],[0.6666666666666666,\"#ed7953\"],[0.7777777777777778,\"#fb9f3a\"],[0.8888888888888888,\"#fdca26\"],[1.0,\"#f0f921\"]],\"type\":\"contour\"}],\"heatmapgl\":[{\"colorbar\":{\"outlinewidth\":0,\"ticks\":\"\"},\"colorscale\":[[0.0,\"#0d0887\"],[0.1111111111111111,\"#46039f\"],[0.2222222222222222,\"#7201a8\"],[0.3333333333333333,\"#9c179e\"],[0.4444444444444444,\"#bd3786\"],[0.5555555555555556,\"#d8576b\"],[0.6666666666666666,\"#ed7953\"],[0.7777777777777778,\"#fb9f3a\"],[0.8888888888888888,\"#fdca26\"],[1.0,\"#f0f921\"]],\"type\":\"heatmapgl\"}],\"heatmap\":[{\"colorbar\":{\"outlinewidth\":0,\"ticks\":\"\"},\"colorscale\":[[0.0,\"#0d0887\"],[0.1111111111111111,\"#46039f\"],[0.2222222222222222,\"#7201a8\"],[0.3333333333333333,\"#9c179e\"],[0.4444444444444444,\"#bd3786\"],[0.5555555555555556,\"#d8576b\"],[0.6666666666666666,\"#ed7953\"],[0.7777777777777778,\"#fb9f3a\"],[0.8888888888888888,\"#fdca26\"],[1.0,\"#f0f921\"]],\"type\":\"heatmap\"}],\"histogram2dcontour\":[{\"colorbar\":{\"outlinewidth\":0,\"ticks\":\"\"},\"colorscale\":[[0.0,\"#0d0887\"],[0.1111111111111111,\"#46039f\"],[0.2222222222222222,\"#7201a8\"],[0.3333333333333333,\"#9c179e\"],[0.4444444444444444,\"#bd3786\"],[0.5555555555555556,\"#d8576b\"],[0.6666666666666666,\"#ed7953\"],[0.7777777777777778,\"#fb9f3a\"],[0.8888888888888888,\"#fdca26\"],[1.0,\"#f0f921\"]],\"type\":\"histogram2dcontour\"}],\"histogram2d\":[{\"colorbar\":{\"outlinewidth\":0,\"ticks\":\"\"},\"colorscale\":[[0.0,\"#0d0887\"],[0.1111111111111111,\"#46039f\"],[0.2222222222222222,\"#7201a8\"],[0.3333333333333333,\"#9c179e\"],[0.4444444444444444,\"#bd3786\"],[0.5555555555555556,\"#d8576b\"],[0.6666666666666666,\"#ed7953\"],[0.7777777777777778,\"#fb9f3a\"],[0.8888888888888888,\"#fdca26\"],[1.0,\"#f0f921\"]],\"type\":\"histogram2d\"}],\"histogram\":[{\"marker\":{\"pattern\":{\"fillmode\":\"overlay\",\"size\":10,\"solidity\":0.2}},\"type\":\"histogram\"}],\"mesh3d\":[{\"colorbar\":{\"outlinewidth\":0,\"ticks\":\"\"},\"type\":\"mesh3d\"}],\"parcoords\":[{\"line\":{\"colorbar\":{\"outlinewidth\":0,\"ticks\":\"\"}},\"type\":\"parcoords\"}],\"pie\":[{\"automargin\":true,\"type\":\"pie\"}],\"scatter3d\":[{\"line\":{\"colorbar\":{\"outlinewidth\":0,\"ticks\":\"\"}},\"marker\":{\"colorbar\":{\"outlinewidth\":0,\"ticks\":\"\"}},\"type\":\"scatter3d\"}],\"scattercarpet\":[{\"marker\":{\"colorbar\":{\"outlinewidth\":0,\"ticks\":\"\"}},\"type\":\"scattercarpet\"}],\"scattergeo\":[{\"marker\":{\"colorbar\":{\"outlinewidth\":0,\"ticks\":\"\"}},\"type\":\"scattergeo\"}],\"scattergl\":[{\"marker\":{\"colorbar\":{\"outlinewidth\":0,\"ticks\":\"\"}},\"type\":\"scattergl\"}],\"scattermapbox\":[{\"marker\":{\"colorbar\":{\"outlinewidth\":0,\"ticks\":\"\"}},\"type\":\"scattermapbox\"}],\"scatterpolargl\":[{\"marker\":{\"colorbar\":{\"outlinewidth\":0,\"ticks\":\"\"}},\"type\":\"scatterpolargl\"}],\"scatterpolar\":[{\"marker\":{\"colorbar\":{\"outlinewidth\":0,\"ticks\":\"\"}},\"type\":\"scatterpolar\"}],\"scatter\":[{\"fillpattern\":{\"fillmode\":\"overlay\",\"size\":10,\"solidity\":0.2},\"type\":\"scatter\"}],\"scatterternary\":[{\"marker\":{\"colorbar\":{\"outlinewidth\":0,\"ticks\":\"\"}},\"type\":\"scatterternary\"}],\"surface\":[{\"colorbar\":{\"outlinewidth\":0,\"ticks\":\"\"},\"colorscale\":[[0.0,\"#0d0887\"],[0.1111111111111111,\"#46039f\"],[0.2222222222222222,\"#7201a8\"],[0.3333333333333333,\"#9c179e\"],[0.4444444444444444,\"#bd3786\"],[0.5555555555555556,\"#d8576b\"],[0.6666666666666666,\"#ed7953\"],[0.7777777777777778,\"#fb9f3a\"],[0.8888888888888888,\"#fdca26\"],[1.0,\"#f0f921\"]],\"type\":\"surface\"}],\"table\":[{\"cells\":{\"fill\":{\"color\":\"#EBF0F8\"},\"line\":{\"color\":\"white\"}},\"header\":{\"fill\":{\"color\":\"#C8D4E3\"},\"line\":{\"color\":\"white\"}},\"type\":\"table\"}]},\"layout\":{\"annotationdefaults\":{\"arrowcolor\":\"#2a3f5f\",\"arrowhead\":0,\"arrowwidth\":1},\"autotypenumbers\":\"strict\",\"coloraxis\":{\"colorbar\":{\"outlinewidth\":0,\"ticks\":\"\"}},\"colorscale\":{\"diverging\":[[0,\"#8e0152\"],[0.1,\"#c51b7d\"],[0.2,\"#de77ae\"],[0.3,\"#f1b6da\"],[0.4,\"#fde0ef\"],[0.5,\"#f7f7f7\"],[0.6,\"#e6f5d0\"],[0.7,\"#b8e186\"],[0.8,\"#7fbc41\"],[0.9,\"#4d9221\"],[1,\"#276419\"]],\"sequential\":[[0.0,\"#0d0887\"],[0.1111111111111111,\"#46039f\"],[0.2222222222222222,\"#7201a8\"],[0.3333333333333333,\"#9c179e\"],[0.4444444444444444,\"#bd3786\"],[0.5555555555555556,\"#d8576b\"],[0.6666666666666666,\"#ed7953\"],[0.7777777777777778,\"#fb9f3a\"],[0.8888888888888888,\"#fdca26\"],[1.0,\"#f0f921\"]],\"sequentialminus\":[[0.0,\"#0d0887\"],[0.1111111111111111,\"#46039f\"],[0.2222222222222222,\"#7201a8\"],[0.3333333333333333,\"#9c179e\"],[0.4444444444444444,\"#bd3786\"],[0.5555555555555556,\"#d8576b\"],[0.6666666666666666,\"#ed7953\"],[0.7777777777777778,\"#fb9f3a\"],[0.8888888888888888,\"#fdca26\"],[1.0,\"#f0f921\"]]},\"colorway\":[\"#636efa\",\"#EF553B\",\"#00cc96\",\"#ab63fa\",\"#FFA15A\",\"#19d3f3\",\"#FF6692\",\"#B6E880\",\"#FF97FF\",\"#FECB52\"],\"font\":{\"color\":\"#2a3f5f\"},\"geo\":{\"bgcolor\":\"white\",\"lakecolor\":\"white\",\"landcolor\":\"white\",\"showlakes\":true,\"showland\":true,\"subunitcolor\":\"#C8D4E3\"},\"hoverlabel\":{\"align\":\"left\"},\"hovermode\":\"closest\",\"mapbox\":{\"style\":\"light\"},\"paper_bgcolor\":\"white\",\"plot_bgcolor\":\"white\",\"polar\":{\"angularaxis\":{\"gridcolor\":\"#EBF0F8\",\"linecolor\":\"#EBF0F8\",\"ticks\":\"\"},\"bgcolor\":\"white\",\"radialaxis\":{\"gridcolor\":\"#EBF0F8\",\"linecolor\":\"#EBF0F8\",\"ticks\":\"\"}},\"scene\":{\"xaxis\":{\"backgroundcolor\":\"white\",\"gridcolor\":\"#DFE8F3\",\"gridwidth\":2,\"linecolor\":\"#EBF0F8\",\"showbackground\":true,\"ticks\":\"\",\"zerolinecolor\":\"#EBF0F8\"},\"yaxis\":{\"backgroundcolor\":\"white\",\"gridcolor\":\"#DFE8F3\",\"gridwidth\":2,\"linecolor\":\"#EBF0F8\",\"showbackground\":true,\"ticks\":\"\",\"zerolinecolor\":\"#EBF0F8\"},\"zaxis\":{\"backgroundcolor\":\"white\",\"gridcolor\":\"#DFE8F3\",\"gridwidth\":2,\"linecolor\":\"#EBF0F8\",\"showbackground\":true,\"ticks\":\"\",\"zerolinecolor\":\"#EBF0F8\"}},\"shapedefaults\":{\"line\":{\"color\":\"#2a3f5f\"}},\"ternary\":{\"aaxis\":{\"gridcolor\":\"#DFE8F3\",\"linecolor\":\"#A2B1C6\",\"ticks\":\"\"},\"baxis\":{\"gridcolor\":\"#DFE8F3\",\"linecolor\":\"#A2B1C6\",\"ticks\":\"\"},\"bgcolor\":\"white\",\"caxis\":{\"gridcolor\":\"#DFE8F3\",\"linecolor\":\"#A2B1C6\",\"ticks\":\"\"}},\"title\":{\"x\":0.05},\"xaxis\":{\"automargin\":true,\"gridcolor\":\"#EBF0F8\",\"linecolor\":\"#EBF0F8\",\"ticks\":\"\",\"title\":{\"standoff\":15},\"zerolinecolor\":\"#EBF0F8\",\"zerolinewidth\":2},\"yaxis\":{\"automargin\":true,\"gridcolor\":\"#EBF0F8\",\"linecolor\":\"#EBF0F8\",\"ticks\":\"\",\"title\":{\"standoff\":15},\"zerolinecolor\":\"#EBF0F8\",\"zerolinewidth\":2}}},\"xaxis\":{\"type\":\"log\",\"title\":{\"text\":\"Number of samples\"}},\"yaxis\":{\"type\":\"log\",\"title\":{\"text\":\"MAE\"}},\"legend\":{\"orientation\":\"h\",\"yanchor\":\"bottom\",\"y\":0.99,\"xanchor\":\"left\",\"x\":-0.0},\"width\":1200,\"height\":1200},                        {\"responsive\": true}                    ).then(function(){\n",
       "                            \n",
       "var gd = document.getElementById('6d7d972d-99a1-44a8-b75d-86a281ce9c0d');\n",
       "var x = new MutationObserver(function (mutations, observer) {{\n",
       "        var display = window.getComputedStyle(gd).display;\n",
       "        if (!display || display === 'none') {{\n",
       "            console.log([gd, 'removed!']);\n",
       "            Plotly.purge(gd);\n",
       "            observer.disconnect();\n",
       "        }}\n",
       "}});\n",
       "\n",
       "// Listen for the removal of the full notebook cells\n",
       "var notebookContainer = gd.closest('#notebook-container');\n",
       "if (notebookContainer) {{\n",
       "    x.observe(notebookContainer, {childList: true});\n",
       "}}\n",
       "\n",
       "// Listen for the clearing of the current output cell\n",
       "var outputEl = gd.closest('.output');\n",
       "if (outputEl) {{\n",
       "    x.observe(outputEl, {childList: true});\n",
       "}}\n",
       "\n",
       "                        })                };                });            </script>        </div>"
      ]
     },
     "metadata": {},
     "output_type": "display_data"
    }
   ],
   "source": [
    "fig = go.Figure()\n",
    "\n",
    "for j,i in enumerate([64,32,16,8,4]):\n",
    "\n",
    "    fig.add_trace(go.Scatter(x = latent_only[latent_only['Latent units'] == i].groupby('N samples').median().reset_index()['N samples'], \n",
    "                     y = latent_only[latent_only['Latent units'] == i].groupby('N samples').median().reset_index()['MAE'], \n",
    "                             mode = 'markers+lines',\n",
    "                             name = 'latent only l = ' + str(i),\n",
    "    #                  log_x = True, \n",
    "    #                  log_y=True,\n",
    "                     error_y=dict(\n",
    "                        type='data',\n",
    "                        symmetric=False,\n",
    "                         array = (latent_only[latent_only['Latent units'] == i].groupby('N samples').max()  - latent_only[latent_only['Latent units'] == i].groupby('N samples').median())['MAE'], \n",
    "                         arrayminus = (latent_only[latent_only['Latent units'] == i].groupby('N samples').median() - latent_only[latent_only['Latent units'] == i].groupby('N samples').min())['MAE'],\n",
    "                     ),\n",
    "                     line_color = px.colors.qualitative.Dark24[j],\n",
    "                    ))\n",
    "\n",
    "for j,i in enumerate([64,32,16,8,4]):\n",
    "\n",
    "    fig.add_trace(go.Scatter(x = latent_dc_pr_pow[latent_dc_pr_pow['Latent units'] == i].groupby('N samples').median().reset_index()['N samples'], \n",
    "                     y = latent_dc_pr_pow[latent_dc_pr_pow['Latent units'] == i].groupby('N samples').median().reset_index()['MAE'], \n",
    "                             line_dash = 'dash',\n",
    "                             mode = 'markers+lines',\n",
    "                             name = ' latent+ l = ' + str(i),\n",
    "    #                  log_x = True, \n",
    "    #                  log_y=True,\n",
    "                     error_y=dict(\n",
    "                        type='data',\n",
    "                        symmetric=False,\n",
    "                         array = (latent_dc_pr_pow[latent_dc_pr_pow['Latent units'] == i].groupby('N samples').max()  - latent_dc_pr_pow[latent_dc_pr_pow['Latent units'] == i].groupby('N samples').median())['MAE'], \n",
    "                         arrayminus = (latent_dc_pr_pow[latent_dc_pr_pow['Latent units'] == i].groupby('N samples').median() - latent_dc_pr_pow[latent_dc_pr_pow['Latent units'] == i].groupby('N samples').min())['MAE'],\n",
    "                     ),\n",
    "                     line_color = px.colors.qualitative.Dark24[j],\n",
    "                    ))\n",
    "    \n",
    "# fig.add_trace(go.Scatter(x = [10, 637801], \n",
    "#                      y = [error_estimate, error_estimate], \n",
    "# #                              line_dash = 'dash',\n",
    "#                              mode = 'lines',\n",
    "#                              name = 'Measurement error',\n",
    "#     #                  log_x = True, \n",
    "#     #                  log_y=True,\n",
    "# #                      error_y=dict(\n",
    "# #                         type='data',\n",
    "# #                         symmetric=False,\n",
    "# #                          array = (latent_dc_pr_pow[latent_dc_pr_pow['Latent units'] == i].groupby('N samples').max()  - latent_dc_pr_pow[latent_dc_pr_pow['Latent units'] == i].groupby('N samples').median())['MSE'], \n",
    "# #                          arrayminus = (latent_dc_pr_pow[latent_dc_pr_pow['Latent units'] == i].groupby('N samples').median() - latent_dc_pr_pow[latent_dc_pr_pow['Latent units'] == i].groupby('N samples').min())['MSE'],\n",
    "# #                      ),\n",
    "#                      line_color = px.colors.qualitative.Dark24[j+1],\n",
    "#                     ))\n",
    "\n",
    "\n",
    "# fig.add_trace(go.Scatter(x = size_sweep_frame_power_pressure.groupby('N samples').median().reset_index()['N samples'], \n",
    "#                  y = size_sweep_frame_power_pressure.groupby('N samples').median().reset_index()['MSE'], \n",
    "#                          mode = 'markers',\n",
    "#                          name = 'Latent+Pressure+RF Power',\n",
    "# #                  log_x = True, \n",
    "# #                  log_y=True,\n",
    "#                  error_y=dict(\n",
    "#                     type='data',\n",
    "#                     symmetric=False,\n",
    "#                      array = (size_sweep_frame_power_pressure.groupby('N samples').max()  - size_sweep_frame_power_pressure.groupby('N samples').median())['MSE'], \n",
    "#                      arrayminus = (size_sweep_frame_power_pressure.groupby('N samples').median() - size_sweep_frame_power_pressure.groupby('N samples').min())['MSE'],\n",
    "#                  )\n",
    "# #                  line_color = px.colors.qualitative.Dark24[0]\n",
    "#                 ))\n",
    "\n",
    "fig.update_xaxes(type=\"log\", title = 'Number of samples')\n",
    "fig.update_yaxes(type=\"log\", title = 'MAE')\n",
    "\n",
    "fig.update_layout(template = 'plotly_white', width = 1200, height = 1200, legend=dict(\n",
    "    orientation=\"h\",\n",
    "    yanchor=\"bottom\",\n",
    "    y=0.99,\n",
    "    xanchor=\"left\",\n",
    "    x=-0.00,\n",
    "))\n",
    "# fig = px.scatter(y = [y_train, y_test])\n",
    "fig.show()\n",
    "\n",
    "fig.write_image(\"images/dc_bias_predictions.png\")\n",
    "fig.write_image(\"images/dc_bias_predictions.svg\")\n",
    "fig.write_image(\"images/dc_bias_predictions.eps\")\n",
    "\n",
    "# fig.update_layout(marker=dict(color='green', size=4))\n",
    "\n",
    "# fig2 = px.scatter(size_sweep_frame_power_pressure.groupby('N samples').median().reset_index(), \n",
    "#                  x = 'N samples', \n",
    "#                  y = 'MSE', \n",
    "#                  log_x = True, \n",
    "#                  log_y=True,\n",
    "#                  error_y = (size_sweep_frame_power_pressure.groupby('N samples').max()  - size_sweep_frame_power_pressure.groupby('N samples').median())['MSE'], \n",
    "#                  error_y_minus = (size_sweep_frame_power_pressure.groupby('N samples').median() - size_sweep_frame_power_pressure.groupby('N samples').min())['MSE'],\n",
    "# #                  line_color = px.colors.qualitative.Dark24[1]\n",
    "#                 )\n",
    "\n",
    "# fig.add_trace(fig2.data[0])\n",
    "\n",
    "# fig.update_layout(showlegend = True, legend_title_text='Trend')\n",
    "\n",
    "\n",
    "\n",
    "# fig.show('notebook')"
   ]
  },
  {
   "cell_type": "code",
   "execution_count": 90,
   "id": "028c6336",
   "metadata": {},
   "outputs": [
    {
     "data": {
      "application/vnd.plotly.v1+json": {
       "config": {
        "plotlyServerURL": "https://plot.ly"
       },
       "data": [
        {
         "error_y": {
          "array": [
           0.05531332492828367,
           0.006806918978691151,
           0.003227822482585921,
           0.004395322501659402,
           0.005275664478540401,
           0.0003283642232417838
          ],
          "arrayminus": [
           0.0418266296386719,
           0.008086001873016335,
           0.0023506656289100786,
           0.0035699367523193,
           0.0039659947156906045,
           0.0001887172460556183
          ],
          "symmetric": false,
          "type": "data"
         },
         "line": {
          "color": "#2E91E5"
         },
         "mode": "markers+lines",
         "name": "latent only l = 64",
         "type": "scatter",
         "x": [
          10,
          100,
          1000,
          10000,
          100000,
          637801
         ],
         "y": [
          0.2325770795345306,
          0.14485189914703364,
          0.11445929855108258,
          0.0774423018097877,
          0.0457539282739162,
          0.028275413066148718
         ]
        },
        {
         "error_y": {
          "array": [
           0.0555869340896607,
           0.004277300834655745,
           0.0009001970291138139,
           0.003541867434978488,
           0.004068360477685981,
           0.00027331635355950373
          ],
          "arrayminus": [
           0.04749645292758939,
           0.0065395414829254594,
           0.0009627610445022972,
           0.003990982472896518,
           0.007364536821842224,
           0.00026074126362799627
          ],
          "symmetric": false,
          "type": "data"
         },
         "line": {
          "color": "#E15F99"
         },
         "mode": "markers+lines",
         "name": "latent only l = 32",
         "type": "scatter",
         "x": [
          10,
          100,
          1000,
          10000,
          100000,
          637801
         ],
         "y": [
          0.2308634221553802,
          0.14871007502079006,
          0.1344665706157684,
          0.09703080803155892,
          0.06169192418456072,
          0.0365051038563251
         ]
        },
        {
         "error_y": {
          "array": [
           0.024620687961578347,
           0.006237393617630038,
           0.0013120979070663785,
           0.01889973282814028,
           0.004009287059307101,
           0.0004820242524147256
          ],
          "arrayminus": [
           0.025372260808944752,
           0.004557946324348472,
           0.0016053259372711126,
           0.011224484443664529,
           0.0034175857901573015,
           0.0004271477460860776
          ],
          "symmetric": false,
          "type": "data"
         },
         "line": {
          "color": "#1CA71C"
         },
         "mode": "markers+lines",
         "name": "latent only l = 16",
         "type": "scatter",
         "x": [
          10,
          100,
          1000,
          10000,
          100000,
          637801
         ],
         "y": [
          0.22948744297027585,
          0.15845137238502496,
          0.15243619084358212,
          0.14349252581596372,
          0.0848045170307159,
          0.059948539733886676
         ]
        },
        {
         "error_y": {
          "array": [
           0.0470260232686997,
           0.004776492714881897,
           0.001269325613975525,
           0.00017983317375186436,
           0.0038733676075935475,
           0.0028427794575691667
          ],
          "arrayminus": [
           0.035334214568138095,
           0.005344226956367493,
           0.0014482289552688876,
           0.0001720726490020419,
           0.0028018906712532488,
           0.0029147908091545355
          ],
          "symmetric": false,
          "type": "data"
         },
         "line": {
          "color": "#FB0D0D"
         },
         "mode": "markers+lines",
         "name": "latent only l = 8",
         "type": "scatter",
         "x": [
          10,
          100,
          1000,
          10000,
          100000,
          637801
         ],
         "y": [
          0.220386192202568,
          0.1683650016784668,
          0.1630124449729919,
          0.15494875013828274,
          0.11696168333292005,
          0.08443457335233684
         ]
        },
        {
         "error_y": {
          "array": [
           0.029764965176582392,
           0.002081808447837813,
           0.0020571917295455766,
           0.002418038249015819,
           0.001384815573692355,
           0.00043589174747468706
          ],
          "arrayminus": [
           0.020952507853507996,
           0.0025118172168731856,
           0.0017029523849487194,
           0.002031746506690968,
           0.001316541433334345,
           0.0005660623311996293
          ],
          "symmetric": false,
          "type": "data"
         },
         "line": {
          "color": "#DA16FF"
         },
         "mode": "markers+lines",
         "name": "latent only l = 4",
         "type": "scatter",
         "x": [
          10,
          100,
          1000,
          10000,
          100000,
          637801
         ],
         "y": [
          0.2400169819593429,
          0.1909764140844345,
          0.19010219275951382,
          0.17895496189594268,
          0.14660024046897885,
          0.13780864775180812
         ]
        },
        {
         "error_y": {
          "array": [
           0.027930516004562395,
           0.010189035534858712,
           0.004550148546695679,
           0.020769957080483396,
           0.007326065748929959,
           0.000079146400094059
          ],
          "arrayminus": [
           0.028021556138992293,
           0.008744774758815785,
           0.00729327201843262,
           0.011612156778574002,
           0.00891889333724974,
           0.00007248502224684039
          ],
          "symmetric": false,
          "type": "data"
         },
         "line": {
          "color": "#2E91E5",
          "dash": "dash"
         },
         "mode": "markers+lines",
         "name": " latent+ l = 64",
         "type": "scatter",
         "x": [
          10,
          100,
          1000,
          10000,
          100000,
          637801
         ],
         "y": [
          0.2134574174880981,
          0.11325083523988719,
          0.07636022120714182,
          0.0422903042286634,
          0.02294549420475954,
          0.010330128669738741
         ]
        },
        {
         "error_y": {
          "array": [
           0.01871026754379268,
           0.012706238031387346,
           0.0044490903615951455,
           0.011110913753509477,
           0.00602011196315292,
           0.00016475599259138142
          ],
          "arrayminus": [
           0.018454644083976707,
           0.006085973978042641,
           0.007846513390541057,
           0.004070687294006323,
           0.00671364367008208,
           0.00018795635551211928
          ],
          "symmetric": false,
          "type": "data"
         },
         "line": {
          "color": "#E15F99",
          "dash": "dash"
         },
         "mode": "markers+lines",
         "name": " latent+ l = 32",
         "type": "scatter",
         "x": [
          10,
          100,
          1000,
          10000,
          100000,
          637801
         ],
         "y": [
          0.1965835571289062,
          0.10402005612850185,
          0.07115323245525355,
          0.03653194680809972,
          0.02155867964029308,
          0.01184672731906172
         ]
        },
        {
         "error_y": {
          "array": [
           0.037435081601142894,
           0.009381631016731284,
           0.0037678420543670182,
           0.002393914014101023,
           0.00423143170773984,
           0.00017593409866097955
          ],
          "arrayminus": [
           0.04151322245597841,
           0.0057406708598137235,
           0.0026770740747451838,
           0.0023891054093837794,
           0.002428815513849259,
           0.00016457885503771974
          ],
          "symmetric": false,
          "type": "data"
         },
         "line": {
          "color": "#1CA71C",
          "dash": "dash"
         },
         "mode": "markers+lines",
         "name": " latent+ l = 16",
         "type": "scatter",
         "x": [
          10,
          100,
          1000,
          10000,
          100000,
          637801
         ],
         "y": [
          0.1723424971103668,
          0.07251197695732112,
          0.06765832602977748,
          0.04647009298205368,
          0.02097300142049786,
          0.01374389994889492
         ]
        },
        {
         "error_y": {
          "array": [
           0.029802146553993242,
           0.005286867916584004,
           0.0014580294489860007,
           0.008221512287855143,
           0.003745781257748621,
           0.0002689253538847407
          ],
          "arrayminus": [
           0.03530306071043017,
           0.004281227290630296,
           0.0014482036232947998,
           0.007019749283790552,
           0.001586044207215278,
           0.000309696048498162
          ],
          "symmetric": false,
          "type": "data"
         },
         "line": {
          "color": "#FB0D0D",
          "dash": "dash"
         },
         "mode": "markers+lines",
         "name": " latent+ l = 8",
         "type": "scatter",
         "x": [
          10,
          100,
          1000,
          10000,
          100000,
          637801
         ],
         "y": [
          0.12431370913982387,
          0.0754973411560058,
          0.0727503269910812,
          0.062180752307176554,
          0.02339115738868708,
          0.01803964711725706
         ]
        },
        {
         "error_y": {
          "array": [
           0.10342241227626806,
           0.0049658671021461515,
           0.006047372519969965,
           0.004134427011013089,
           0.002138426527380957,
           0.00032837726175781803
          ],
          "arrayminus": [
           0.04954577088356016,
           0.008509916067123452,
           0.003930035233497636,
           0.006064687669277216,
           0.0023474078625440424,
           0.0007846686989068791
          ],
          "symmetric": false,
          "type": "data"
         },
         "line": {
          "color": "#DA16FF",
          "dash": "dash"
         },
         "mode": "markers+lines",
         "name": " latent+ l = 4",
         "type": "scatter",
         "x": [
          10,
          100,
          1000,
          10000,
          100000,
          637801
         ],
         "y": [
          0.17754538953304286,
          0.10415598452091215,
          0.10287734419107433,
          0.07599670886993401,
          0.03124334849417204,
          0.01987588554620738
         ]
        }
       ],
       "layout": {
        "height": 1200,
        "legend": {
         "orientation": "h",
         "x": 0,
         "xanchor": "left",
         "y": 0.99,
         "yanchor": "bottom"
        },
        "template": {
         "data": {
          "bar": [
           {
            "error_x": {
             "color": "#2a3f5f"
            },
            "error_y": {
             "color": "#2a3f5f"
            },
            "marker": {
             "line": {
              "color": "white",
              "width": 0.5
             },
             "pattern": {
              "fillmode": "overlay",
              "size": 10,
              "solidity": 0.2
             }
            },
            "type": "bar"
           }
          ],
          "barpolar": [
           {
            "marker": {
             "line": {
              "color": "white",
              "width": 0.5
             },
             "pattern": {
              "fillmode": "overlay",
              "size": 10,
              "solidity": 0.2
             }
            },
            "type": "barpolar"
           }
          ],
          "carpet": [
           {
            "aaxis": {
             "endlinecolor": "#2a3f5f",
             "gridcolor": "#C8D4E3",
             "linecolor": "#C8D4E3",
             "minorgridcolor": "#C8D4E3",
             "startlinecolor": "#2a3f5f"
            },
            "baxis": {
             "endlinecolor": "#2a3f5f",
             "gridcolor": "#C8D4E3",
             "linecolor": "#C8D4E3",
             "minorgridcolor": "#C8D4E3",
             "startlinecolor": "#2a3f5f"
            },
            "type": "carpet"
           }
          ],
          "choropleth": [
           {
            "colorbar": {
             "outlinewidth": 0,
             "ticks": ""
            },
            "type": "choropleth"
           }
          ],
          "contour": [
           {
            "colorbar": {
             "outlinewidth": 0,
             "ticks": ""
            },
            "colorscale": [
             [
              0,
              "#0d0887"
             ],
             [
              0.1111111111111111,
              "#46039f"
             ],
             [
              0.2222222222222222,
              "#7201a8"
             ],
             [
              0.3333333333333333,
              "#9c179e"
             ],
             [
              0.4444444444444444,
              "#bd3786"
             ],
             [
              0.5555555555555556,
              "#d8576b"
             ],
             [
              0.6666666666666666,
              "#ed7953"
             ],
             [
              0.7777777777777778,
              "#fb9f3a"
             ],
             [
              0.8888888888888888,
              "#fdca26"
             ],
             [
              1,
              "#f0f921"
             ]
            ],
            "type": "contour"
           }
          ],
          "contourcarpet": [
           {
            "colorbar": {
             "outlinewidth": 0,
             "ticks": ""
            },
            "type": "contourcarpet"
           }
          ],
          "heatmap": [
           {
            "colorbar": {
             "outlinewidth": 0,
             "ticks": ""
            },
            "colorscale": [
             [
              0,
              "#0d0887"
             ],
             [
              0.1111111111111111,
              "#46039f"
             ],
             [
              0.2222222222222222,
              "#7201a8"
             ],
             [
              0.3333333333333333,
              "#9c179e"
             ],
             [
              0.4444444444444444,
              "#bd3786"
             ],
             [
              0.5555555555555556,
              "#d8576b"
             ],
             [
              0.6666666666666666,
              "#ed7953"
             ],
             [
              0.7777777777777778,
              "#fb9f3a"
             ],
             [
              0.8888888888888888,
              "#fdca26"
             ],
             [
              1,
              "#f0f921"
             ]
            ],
            "type": "heatmap"
           }
          ],
          "heatmapgl": [
           {
            "colorbar": {
             "outlinewidth": 0,
             "ticks": ""
            },
            "colorscale": [
             [
              0,
              "#0d0887"
             ],
             [
              0.1111111111111111,
              "#46039f"
             ],
             [
              0.2222222222222222,
              "#7201a8"
             ],
             [
              0.3333333333333333,
              "#9c179e"
             ],
             [
              0.4444444444444444,
              "#bd3786"
             ],
             [
              0.5555555555555556,
              "#d8576b"
             ],
             [
              0.6666666666666666,
              "#ed7953"
             ],
             [
              0.7777777777777778,
              "#fb9f3a"
             ],
             [
              0.8888888888888888,
              "#fdca26"
             ],
             [
              1,
              "#f0f921"
             ]
            ],
            "type": "heatmapgl"
           }
          ],
          "histogram": [
           {
            "marker": {
             "pattern": {
              "fillmode": "overlay",
              "size": 10,
              "solidity": 0.2
             }
            },
            "type": "histogram"
           }
          ],
          "histogram2d": [
           {
            "colorbar": {
             "outlinewidth": 0,
             "ticks": ""
            },
            "colorscale": [
             [
              0,
              "#0d0887"
             ],
             [
              0.1111111111111111,
              "#46039f"
             ],
             [
              0.2222222222222222,
              "#7201a8"
             ],
             [
              0.3333333333333333,
              "#9c179e"
             ],
             [
              0.4444444444444444,
              "#bd3786"
             ],
             [
              0.5555555555555556,
              "#d8576b"
             ],
             [
              0.6666666666666666,
              "#ed7953"
             ],
             [
              0.7777777777777778,
              "#fb9f3a"
             ],
             [
              0.8888888888888888,
              "#fdca26"
             ],
             [
              1,
              "#f0f921"
             ]
            ],
            "type": "histogram2d"
           }
          ],
          "histogram2dcontour": [
           {
            "colorbar": {
             "outlinewidth": 0,
             "ticks": ""
            },
            "colorscale": [
             [
              0,
              "#0d0887"
             ],
             [
              0.1111111111111111,
              "#46039f"
             ],
             [
              0.2222222222222222,
              "#7201a8"
             ],
             [
              0.3333333333333333,
              "#9c179e"
             ],
             [
              0.4444444444444444,
              "#bd3786"
             ],
             [
              0.5555555555555556,
              "#d8576b"
             ],
             [
              0.6666666666666666,
              "#ed7953"
             ],
             [
              0.7777777777777778,
              "#fb9f3a"
             ],
             [
              0.8888888888888888,
              "#fdca26"
             ],
             [
              1,
              "#f0f921"
             ]
            ],
            "type": "histogram2dcontour"
           }
          ],
          "mesh3d": [
           {
            "colorbar": {
             "outlinewidth": 0,
             "ticks": ""
            },
            "type": "mesh3d"
           }
          ],
          "parcoords": [
           {
            "line": {
             "colorbar": {
              "outlinewidth": 0,
              "ticks": ""
             }
            },
            "type": "parcoords"
           }
          ],
          "pie": [
           {
            "automargin": true,
            "type": "pie"
           }
          ],
          "scatter": [
           {
            "fillpattern": {
             "fillmode": "overlay",
             "size": 10,
             "solidity": 0.2
            },
            "type": "scatter"
           }
          ],
          "scatter3d": [
           {
            "line": {
             "colorbar": {
              "outlinewidth": 0,
              "ticks": ""
             }
            },
            "marker": {
             "colorbar": {
              "outlinewidth": 0,
              "ticks": ""
             }
            },
            "type": "scatter3d"
           }
          ],
          "scattercarpet": [
           {
            "marker": {
             "colorbar": {
              "outlinewidth": 0,
              "ticks": ""
             }
            },
            "type": "scattercarpet"
           }
          ],
          "scattergeo": [
           {
            "marker": {
             "colorbar": {
              "outlinewidth": 0,
              "ticks": ""
             }
            },
            "type": "scattergeo"
           }
          ],
          "scattergl": [
           {
            "marker": {
             "colorbar": {
              "outlinewidth": 0,
              "ticks": ""
             }
            },
            "type": "scattergl"
           }
          ],
          "scattermapbox": [
           {
            "marker": {
             "colorbar": {
              "outlinewidth": 0,
              "ticks": ""
             }
            },
            "type": "scattermapbox"
           }
          ],
          "scatterpolar": [
           {
            "marker": {
             "colorbar": {
              "outlinewidth": 0,
              "ticks": ""
             }
            },
            "type": "scatterpolar"
           }
          ],
          "scatterpolargl": [
           {
            "marker": {
             "colorbar": {
              "outlinewidth": 0,
              "ticks": ""
             }
            },
            "type": "scatterpolargl"
           }
          ],
          "scatterternary": [
           {
            "marker": {
             "colorbar": {
              "outlinewidth": 0,
              "ticks": ""
             }
            },
            "type": "scatterternary"
           }
          ],
          "surface": [
           {
            "colorbar": {
             "outlinewidth": 0,
             "ticks": ""
            },
            "colorscale": [
             [
              0,
              "#0d0887"
             ],
             [
              0.1111111111111111,
              "#46039f"
             ],
             [
              0.2222222222222222,
              "#7201a8"
             ],
             [
              0.3333333333333333,
              "#9c179e"
             ],
             [
              0.4444444444444444,
              "#bd3786"
             ],
             [
              0.5555555555555556,
              "#d8576b"
             ],
             [
              0.6666666666666666,
              "#ed7953"
             ],
             [
              0.7777777777777778,
              "#fb9f3a"
             ],
             [
              0.8888888888888888,
              "#fdca26"
             ],
             [
              1,
              "#f0f921"
             ]
            ],
            "type": "surface"
           }
          ],
          "table": [
           {
            "cells": {
             "fill": {
              "color": "#EBF0F8"
             },
             "line": {
              "color": "white"
             }
            },
            "header": {
             "fill": {
              "color": "#C8D4E3"
             },
             "line": {
              "color": "white"
             }
            },
            "type": "table"
           }
          ]
         },
         "layout": {
          "annotationdefaults": {
           "arrowcolor": "#2a3f5f",
           "arrowhead": 0,
           "arrowwidth": 1
          },
          "autotypenumbers": "strict",
          "coloraxis": {
           "colorbar": {
            "outlinewidth": 0,
            "ticks": ""
           }
          },
          "colorscale": {
           "diverging": [
            [
             0,
             "#8e0152"
            ],
            [
             0.1,
             "#c51b7d"
            ],
            [
             0.2,
             "#de77ae"
            ],
            [
             0.3,
             "#f1b6da"
            ],
            [
             0.4,
             "#fde0ef"
            ],
            [
             0.5,
             "#f7f7f7"
            ],
            [
             0.6,
             "#e6f5d0"
            ],
            [
             0.7,
             "#b8e186"
            ],
            [
             0.8,
             "#7fbc41"
            ],
            [
             0.9,
             "#4d9221"
            ],
            [
             1,
             "#276419"
            ]
           ],
           "sequential": [
            [
             0,
             "#0d0887"
            ],
            [
             0.1111111111111111,
             "#46039f"
            ],
            [
             0.2222222222222222,
             "#7201a8"
            ],
            [
             0.3333333333333333,
             "#9c179e"
            ],
            [
             0.4444444444444444,
             "#bd3786"
            ],
            [
             0.5555555555555556,
             "#d8576b"
            ],
            [
             0.6666666666666666,
             "#ed7953"
            ],
            [
             0.7777777777777778,
             "#fb9f3a"
            ],
            [
             0.8888888888888888,
             "#fdca26"
            ],
            [
             1,
             "#f0f921"
            ]
           ],
           "sequentialminus": [
            [
             0,
             "#0d0887"
            ],
            [
             0.1111111111111111,
             "#46039f"
            ],
            [
             0.2222222222222222,
             "#7201a8"
            ],
            [
             0.3333333333333333,
             "#9c179e"
            ],
            [
             0.4444444444444444,
             "#bd3786"
            ],
            [
             0.5555555555555556,
             "#d8576b"
            ],
            [
             0.6666666666666666,
             "#ed7953"
            ],
            [
             0.7777777777777778,
             "#fb9f3a"
            ],
            [
             0.8888888888888888,
             "#fdca26"
            ],
            [
             1,
             "#f0f921"
            ]
           ]
          },
          "colorway": [
           "#636efa",
           "#EF553B",
           "#00cc96",
           "#ab63fa",
           "#FFA15A",
           "#19d3f3",
           "#FF6692",
           "#B6E880",
           "#FF97FF",
           "#FECB52"
          ],
          "font": {
           "color": "#2a3f5f"
          },
          "geo": {
           "bgcolor": "white",
           "lakecolor": "white",
           "landcolor": "white",
           "showlakes": true,
           "showland": true,
           "subunitcolor": "#C8D4E3"
          },
          "hoverlabel": {
           "align": "left"
          },
          "hovermode": "closest",
          "mapbox": {
           "style": "light"
          },
          "paper_bgcolor": "white",
          "plot_bgcolor": "white",
          "polar": {
           "angularaxis": {
            "gridcolor": "#EBF0F8",
            "linecolor": "#EBF0F8",
            "ticks": ""
           },
           "bgcolor": "white",
           "radialaxis": {
            "gridcolor": "#EBF0F8",
            "linecolor": "#EBF0F8",
            "ticks": ""
           }
          },
          "scene": {
           "xaxis": {
            "backgroundcolor": "white",
            "gridcolor": "#DFE8F3",
            "gridwidth": 2,
            "linecolor": "#EBF0F8",
            "showbackground": true,
            "ticks": "",
            "zerolinecolor": "#EBF0F8"
           },
           "yaxis": {
            "backgroundcolor": "white",
            "gridcolor": "#DFE8F3",
            "gridwidth": 2,
            "linecolor": "#EBF0F8",
            "showbackground": true,
            "ticks": "",
            "zerolinecolor": "#EBF0F8"
           },
           "zaxis": {
            "backgroundcolor": "white",
            "gridcolor": "#DFE8F3",
            "gridwidth": 2,
            "linecolor": "#EBF0F8",
            "showbackground": true,
            "ticks": "",
            "zerolinecolor": "#EBF0F8"
           }
          },
          "shapedefaults": {
           "line": {
            "color": "#2a3f5f"
           }
          },
          "ternary": {
           "aaxis": {
            "gridcolor": "#DFE8F3",
            "linecolor": "#A2B1C6",
            "ticks": ""
           },
           "baxis": {
            "gridcolor": "#DFE8F3",
            "linecolor": "#A2B1C6",
            "ticks": ""
           },
           "bgcolor": "white",
           "caxis": {
            "gridcolor": "#DFE8F3",
            "linecolor": "#A2B1C6",
            "ticks": ""
           }
          },
          "title": {
           "x": 0.05
          },
          "xaxis": {
           "automargin": true,
           "gridcolor": "#EBF0F8",
           "linecolor": "#EBF0F8",
           "ticks": "",
           "title": {
            "standoff": 15
           },
           "zerolinecolor": "#EBF0F8",
           "zerolinewidth": 2
          },
          "yaxis": {
           "automargin": true,
           "gridcolor": "#EBF0F8",
           "linecolor": "#EBF0F8",
           "ticks": "",
           "title": {
            "standoff": 15
           },
           "zerolinecolor": "#EBF0F8",
           "zerolinewidth": 2
          }
         }
        },
        "width": 1200,
        "xaxis": {
         "title": {
          "text": "Number of samples"
         },
         "type": "log"
        },
        "yaxis": {
         "title": {
          "text": "MAE"
         },
         "type": "log"
        }
       }
      },
      "text/html": [
       "<div>                            <div id=\"00fff192-1ce3-45b5-a754-6914b53539e1\" class=\"plotly-graph-div\" style=\"height:1200px; width:1200px;\"></div>            <script type=\"text/javascript\">                require([\"plotly\"], function(Plotly) {                    window.PLOTLYENV=window.PLOTLYENV || {};                                    if (document.getElementById(\"00fff192-1ce3-45b5-a754-6914b53539e1\")) {                    Plotly.newPlot(                        \"00fff192-1ce3-45b5-a754-6914b53539e1\",                        [{\"error_y\":{\"array\":[0.05531332492828367,0.006806918978691151,0.003227822482585921,0.004395322501659402,0.005275664478540401,0.0003283642232417838],\"arrayminus\":[0.0418266296386719,0.008086001873016335,0.0023506656289100786,0.0035699367523193,0.0039659947156906045,0.0001887172460556183],\"symmetric\":false,\"type\":\"data\"},\"line\":{\"color\":\"#2E91E5\"},\"mode\":\"markers+lines\",\"name\":\"latent only l = 64\",\"x\":[10,100,1000,10000,100000,637801],\"y\":[0.2325770795345306,0.14485189914703364,0.11445929855108258,0.0774423018097877,0.0457539282739162,0.028275413066148718],\"type\":\"scatter\"},{\"error_y\":{\"array\":[0.0555869340896607,0.004277300834655745,0.0009001970291138139,0.003541867434978488,0.004068360477685981,0.00027331635355950373],\"arrayminus\":[0.04749645292758939,0.0065395414829254594,0.0009627610445022972,0.003990982472896518,0.007364536821842224,0.00026074126362799627],\"symmetric\":false,\"type\":\"data\"},\"line\":{\"color\":\"#E15F99\"},\"mode\":\"markers+lines\",\"name\":\"latent only l = 32\",\"x\":[10,100,1000,10000,100000,637801],\"y\":[0.2308634221553802,0.14871007502079006,0.1344665706157684,0.09703080803155892,0.06169192418456072,0.0365051038563251],\"type\":\"scatter\"},{\"error_y\":{\"array\":[0.024620687961578347,0.006237393617630038,0.0013120979070663785,0.01889973282814028,0.004009287059307101,0.0004820242524147256],\"arrayminus\":[0.025372260808944752,0.004557946324348472,0.0016053259372711126,0.011224484443664529,0.0034175857901573015,0.0004271477460860776],\"symmetric\":false,\"type\":\"data\"},\"line\":{\"color\":\"#1CA71C\"},\"mode\":\"markers+lines\",\"name\":\"latent only l = 16\",\"x\":[10,100,1000,10000,100000,637801],\"y\":[0.22948744297027585,0.15845137238502496,0.15243619084358212,0.14349252581596372,0.0848045170307159,0.059948539733886676],\"type\":\"scatter\"},{\"error_y\":{\"array\":[0.0470260232686997,0.004776492714881897,0.001269325613975525,0.00017983317375186436,0.0038733676075935475,0.0028427794575691667],\"arrayminus\":[0.035334214568138095,0.005344226956367493,0.0014482289552688876,0.0001720726490020419,0.0028018906712532488,0.0029147908091545355],\"symmetric\":false,\"type\":\"data\"},\"line\":{\"color\":\"#FB0D0D\"},\"mode\":\"markers+lines\",\"name\":\"latent only l = 8\",\"x\":[10,100,1000,10000,100000,637801],\"y\":[0.220386192202568,0.1683650016784668,0.1630124449729919,0.15494875013828274,0.11696168333292005,0.08443457335233684],\"type\":\"scatter\"},{\"error_y\":{\"array\":[0.029764965176582392,0.002081808447837813,0.0020571917295455766,0.002418038249015819,0.001384815573692355,0.00043589174747468706],\"arrayminus\":[0.020952507853507996,0.0025118172168731856,0.0017029523849487194,0.002031746506690968,0.001316541433334345,0.0005660623311996293],\"symmetric\":false,\"type\":\"data\"},\"line\":{\"color\":\"#DA16FF\"},\"mode\":\"markers+lines\",\"name\":\"latent only l = 4\",\"x\":[10,100,1000,10000,100000,637801],\"y\":[0.2400169819593429,0.1909764140844345,0.19010219275951382,0.17895496189594268,0.14660024046897885,0.13780864775180812],\"type\":\"scatter\"},{\"error_y\":{\"array\":[0.027930516004562395,0.010189035534858712,0.004550148546695679,0.020769957080483396,0.007326065748929959,7.9146400094059e-05],\"arrayminus\":[0.028021556138992293,0.008744774758815785,0.00729327201843262,0.011612156778574002,0.00891889333724974,7.248502224684039e-05],\"symmetric\":false,\"type\":\"data\"},\"line\":{\"color\":\"#2E91E5\",\"dash\":\"dash\"},\"mode\":\"markers+lines\",\"name\":\" latent+ l = 64\",\"x\":[10.0,100.0,1000.0,10000.0,100000.0,637801.0],\"y\":[0.2134574174880981,0.11325083523988719,0.07636022120714182,0.0422903042286634,0.02294549420475954,0.010330128669738741],\"type\":\"scatter\"},{\"error_y\":{\"array\":[0.01871026754379268,0.012706238031387346,0.0044490903615951455,0.011110913753509477,0.00602011196315292,0.00016475599259138142],\"arrayminus\":[0.018454644083976707,0.006085973978042641,0.007846513390541057,0.004070687294006323,0.00671364367008208,0.00018795635551211928],\"symmetric\":false,\"type\":\"data\"},\"line\":{\"color\":\"#E15F99\",\"dash\":\"dash\"},\"mode\":\"markers+lines\",\"name\":\" latent+ l = 32\",\"x\":[10.0,100.0,1000.0,10000.0,100000.0,637801.0],\"y\":[0.1965835571289062,0.10402005612850185,0.07115323245525355,0.03653194680809972,0.02155867964029308,0.01184672731906172],\"type\":\"scatter\"},{\"error_y\":{\"array\":[0.037435081601142894,0.009381631016731284,0.0037678420543670182,0.002393914014101023,0.00423143170773984,0.00017593409866097955],\"arrayminus\":[0.04151322245597841,0.0057406708598137235,0.0026770740747451838,0.0023891054093837794,0.002428815513849259,0.00016457885503771974],\"symmetric\":false,\"type\":\"data\"},\"line\":{\"color\":\"#1CA71C\",\"dash\":\"dash\"},\"mode\":\"markers+lines\",\"name\":\" latent+ l = 16\",\"x\":[10.0,100.0,1000.0,10000.0,100000.0,637801.0],\"y\":[0.1723424971103668,0.07251197695732112,0.06765832602977748,0.04647009298205368,0.02097300142049786,0.01374389994889492],\"type\":\"scatter\"},{\"error_y\":{\"array\":[0.029802146553993242,0.005286867916584004,0.0014580294489860007,0.008221512287855143,0.003745781257748621,0.0002689253538847407],\"arrayminus\":[0.03530306071043017,0.004281227290630296,0.0014482036232947998,0.007019749283790552,0.001586044207215278,0.000309696048498162],\"symmetric\":false,\"type\":\"data\"},\"line\":{\"color\":\"#FB0D0D\",\"dash\":\"dash\"},\"mode\":\"markers+lines\",\"name\":\" latent+ l = 8\",\"x\":[10.0,100.0,1000.0,10000.0,100000.0,637801.0],\"y\":[0.12431370913982387,0.0754973411560058,0.0727503269910812,0.062180752307176554,0.02339115738868708,0.01803964711725706],\"type\":\"scatter\"},{\"error_y\":{\"array\":[0.10342241227626806,0.0049658671021461515,0.006047372519969965,0.004134427011013089,0.002138426527380957,0.00032837726175781803],\"arrayminus\":[0.04954577088356016,0.008509916067123452,0.003930035233497636,0.006064687669277216,0.0023474078625440424,0.0007846686989068791],\"symmetric\":false,\"type\":\"data\"},\"line\":{\"color\":\"#DA16FF\",\"dash\":\"dash\"},\"mode\":\"markers+lines\",\"name\":\" latent+ l = 4\",\"x\":[10.0,100.0,1000.0,10000.0,100000.0,637801.0],\"y\":[0.17754538953304286,0.10415598452091215,0.10287734419107433,0.07599670886993401,0.03124334849417204,0.01987588554620738],\"type\":\"scatter\"}],                        {\"template\":{\"data\":{\"barpolar\":[{\"marker\":{\"line\":{\"color\":\"white\",\"width\":0.5},\"pattern\":{\"fillmode\":\"overlay\",\"size\":10,\"solidity\":0.2}},\"type\":\"barpolar\"}],\"bar\":[{\"error_x\":{\"color\":\"#2a3f5f\"},\"error_y\":{\"color\":\"#2a3f5f\"},\"marker\":{\"line\":{\"color\":\"white\",\"width\":0.5},\"pattern\":{\"fillmode\":\"overlay\",\"size\":10,\"solidity\":0.2}},\"type\":\"bar\"}],\"carpet\":[{\"aaxis\":{\"endlinecolor\":\"#2a3f5f\",\"gridcolor\":\"#C8D4E3\",\"linecolor\":\"#C8D4E3\",\"minorgridcolor\":\"#C8D4E3\",\"startlinecolor\":\"#2a3f5f\"},\"baxis\":{\"endlinecolor\":\"#2a3f5f\",\"gridcolor\":\"#C8D4E3\",\"linecolor\":\"#C8D4E3\",\"minorgridcolor\":\"#C8D4E3\",\"startlinecolor\":\"#2a3f5f\"},\"type\":\"carpet\"}],\"choropleth\":[{\"colorbar\":{\"outlinewidth\":0,\"ticks\":\"\"},\"type\":\"choropleth\"}],\"contourcarpet\":[{\"colorbar\":{\"outlinewidth\":0,\"ticks\":\"\"},\"type\":\"contourcarpet\"}],\"contour\":[{\"colorbar\":{\"outlinewidth\":0,\"ticks\":\"\"},\"colorscale\":[[0.0,\"#0d0887\"],[0.1111111111111111,\"#46039f\"],[0.2222222222222222,\"#7201a8\"],[0.3333333333333333,\"#9c179e\"],[0.4444444444444444,\"#bd3786\"],[0.5555555555555556,\"#d8576b\"],[0.6666666666666666,\"#ed7953\"],[0.7777777777777778,\"#fb9f3a\"],[0.8888888888888888,\"#fdca26\"],[1.0,\"#f0f921\"]],\"type\":\"contour\"}],\"heatmapgl\":[{\"colorbar\":{\"outlinewidth\":0,\"ticks\":\"\"},\"colorscale\":[[0.0,\"#0d0887\"],[0.1111111111111111,\"#46039f\"],[0.2222222222222222,\"#7201a8\"],[0.3333333333333333,\"#9c179e\"],[0.4444444444444444,\"#bd3786\"],[0.5555555555555556,\"#d8576b\"],[0.6666666666666666,\"#ed7953\"],[0.7777777777777778,\"#fb9f3a\"],[0.8888888888888888,\"#fdca26\"],[1.0,\"#f0f921\"]],\"type\":\"heatmapgl\"}],\"heatmap\":[{\"colorbar\":{\"outlinewidth\":0,\"ticks\":\"\"},\"colorscale\":[[0.0,\"#0d0887\"],[0.1111111111111111,\"#46039f\"],[0.2222222222222222,\"#7201a8\"],[0.3333333333333333,\"#9c179e\"],[0.4444444444444444,\"#bd3786\"],[0.5555555555555556,\"#d8576b\"],[0.6666666666666666,\"#ed7953\"],[0.7777777777777778,\"#fb9f3a\"],[0.8888888888888888,\"#fdca26\"],[1.0,\"#f0f921\"]],\"type\":\"heatmap\"}],\"histogram2dcontour\":[{\"colorbar\":{\"outlinewidth\":0,\"ticks\":\"\"},\"colorscale\":[[0.0,\"#0d0887\"],[0.1111111111111111,\"#46039f\"],[0.2222222222222222,\"#7201a8\"],[0.3333333333333333,\"#9c179e\"],[0.4444444444444444,\"#bd3786\"],[0.5555555555555556,\"#d8576b\"],[0.6666666666666666,\"#ed7953\"],[0.7777777777777778,\"#fb9f3a\"],[0.8888888888888888,\"#fdca26\"],[1.0,\"#f0f921\"]],\"type\":\"histogram2dcontour\"}],\"histogram2d\":[{\"colorbar\":{\"outlinewidth\":0,\"ticks\":\"\"},\"colorscale\":[[0.0,\"#0d0887\"],[0.1111111111111111,\"#46039f\"],[0.2222222222222222,\"#7201a8\"],[0.3333333333333333,\"#9c179e\"],[0.4444444444444444,\"#bd3786\"],[0.5555555555555556,\"#d8576b\"],[0.6666666666666666,\"#ed7953\"],[0.7777777777777778,\"#fb9f3a\"],[0.8888888888888888,\"#fdca26\"],[1.0,\"#f0f921\"]],\"type\":\"histogram2d\"}],\"histogram\":[{\"marker\":{\"pattern\":{\"fillmode\":\"overlay\",\"size\":10,\"solidity\":0.2}},\"type\":\"histogram\"}],\"mesh3d\":[{\"colorbar\":{\"outlinewidth\":0,\"ticks\":\"\"},\"type\":\"mesh3d\"}],\"parcoords\":[{\"line\":{\"colorbar\":{\"outlinewidth\":0,\"ticks\":\"\"}},\"type\":\"parcoords\"}],\"pie\":[{\"automargin\":true,\"type\":\"pie\"}],\"scatter3d\":[{\"line\":{\"colorbar\":{\"outlinewidth\":0,\"ticks\":\"\"}},\"marker\":{\"colorbar\":{\"outlinewidth\":0,\"ticks\":\"\"}},\"type\":\"scatter3d\"}],\"scattercarpet\":[{\"marker\":{\"colorbar\":{\"outlinewidth\":0,\"ticks\":\"\"}},\"type\":\"scattercarpet\"}],\"scattergeo\":[{\"marker\":{\"colorbar\":{\"outlinewidth\":0,\"ticks\":\"\"}},\"type\":\"scattergeo\"}],\"scattergl\":[{\"marker\":{\"colorbar\":{\"outlinewidth\":0,\"ticks\":\"\"}},\"type\":\"scattergl\"}],\"scattermapbox\":[{\"marker\":{\"colorbar\":{\"outlinewidth\":0,\"ticks\":\"\"}},\"type\":\"scattermapbox\"}],\"scatterpolargl\":[{\"marker\":{\"colorbar\":{\"outlinewidth\":0,\"ticks\":\"\"}},\"type\":\"scatterpolargl\"}],\"scatterpolar\":[{\"marker\":{\"colorbar\":{\"outlinewidth\":0,\"ticks\":\"\"}},\"type\":\"scatterpolar\"}],\"scatter\":[{\"fillpattern\":{\"fillmode\":\"overlay\",\"size\":10,\"solidity\":0.2},\"type\":\"scatter\"}],\"scatterternary\":[{\"marker\":{\"colorbar\":{\"outlinewidth\":0,\"ticks\":\"\"}},\"type\":\"scatterternary\"}],\"surface\":[{\"colorbar\":{\"outlinewidth\":0,\"ticks\":\"\"},\"colorscale\":[[0.0,\"#0d0887\"],[0.1111111111111111,\"#46039f\"],[0.2222222222222222,\"#7201a8\"],[0.3333333333333333,\"#9c179e\"],[0.4444444444444444,\"#bd3786\"],[0.5555555555555556,\"#d8576b\"],[0.6666666666666666,\"#ed7953\"],[0.7777777777777778,\"#fb9f3a\"],[0.8888888888888888,\"#fdca26\"],[1.0,\"#f0f921\"]],\"type\":\"surface\"}],\"table\":[{\"cells\":{\"fill\":{\"color\":\"#EBF0F8\"},\"line\":{\"color\":\"white\"}},\"header\":{\"fill\":{\"color\":\"#C8D4E3\"},\"line\":{\"color\":\"white\"}},\"type\":\"table\"}]},\"layout\":{\"annotationdefaults\":{\"arrowcolor\":\"#2a3f5f\",\"arrowhead\":0,\"arrowwidth\":1},\"autotypenumbers\":\"strict\",\"coloraxis\":{\"colorbar\":{\"outlinewidth\":0,\"ticks\":\"\"}},\"colorscale\":{\"diverging\":[[0,\"#8e0152\"],[0.1,\"#c51b7d\"],[0.2,\"#de77ae\"],[0.3,\"#f1b6da\"],[0.4,\"#fde0ef\"],[0.5,\"#f7f7f7\"],[0.6,\"#e6f5d0\"],[0.7,\"#b8e186\"],[0.8,\"#7fbc41\"],[0.9,\"#4d9221\"],[1,\"#276419\"]],\"sequential\":[[0.0,\"#0d0887\"],[0.1111111111111111,\"#46039f\"],[0.2222222222222222,\"#7201a8\"],[0.3333333333333333,\"#9c179e\"],[0.4444444444444444,\"#bd3786\"],[0.5555555555555556,\"#d8576b\"],[0.6666666666666666,\"#ed7953\"],[0.7777777777777778,\"#fb9f3a\"],[0.8888888888888888,\"#fdca26\"],[1.0,\"#f0f921\"]],\"sequentialminus\":[[0.0,\"#0d0887\"],[0.1111111111111111,\"#46039f\"],[0.2222222222222222,\"#7201a8\"],[0.3333333333333333,\"#9c179e\"],[0.4444444444444444,\"#bd3786\"],[0.5555555555555556,\"#d8576b\"],[0.6666666666666666,\"#ed7953\"],[0.7777777777777778,\"#fb9f3a\"],[0.8888888888888888,\"#fdca26\"],[1.0,\"#f0f921\"]]},\"colorway\":[\"#636efa\",\"#EF553B\",\"#00cc96\",\"#ab63fa\",\"#FFA15A\",\"#19d3f3\",\"#FF6692\",\"#B6E880\",\"#FF97FF\",\"#FECB52\"],\"font\":{\"color\":\"#2a3f5f\"},\"geo\":{\"bgcolor\":\"white\",\"lakecolor\":\"white\",\"landcolor\":\"white\",\"showlakes\":true,\"showland\":true,\"subunitcolor\":\"#C8D4E3\"},\"hoverlabel\":{\"align\":\"left\"},\"hovermode\":\"closest\",\"mapbox\":{\"style\":\"light\"},\"paper_bgcolor\":\"white\",\"plot_bgcolor\":\"white\",\"polar\":{\"angularaxis\":{\"gridcolor\":\"#EBF0F8\",\"linecolor\":\"#EBF0F8\",\"ticks\":\"\"},\"bgcolor\":\"white\",\"radialaxis\":{\"gridcolor\":\"#EBF0F8\",\"linecolor\":\"#EBF0F8\",\"ticks\":\"\"}},\"scene\":{\"xaxis\":{\"backgroundcolor\":\"white\",\"gridcolor\":\"#DFE8F3\",\"gridwidth\":2,\"linecolor\":\"#EBF0F8\",\"showbackground\":true,\"ticks\":\"\",\"zerolinecolor\":\"#EBF0F8\"},\"yaxis\":{\"backgroundcolor\":\"white\",\"gridcolor\":\"#DFE8F3\",\"gridwidth\":2,\"linecolor\":\"#EBF0F8\",\"showbackground\":true,\"ticks\":\"\",\"zerolinecolor\":\"#EBF0F8\"},\"zaxis\":{\"backgroundcolor\":\"white\",\"gridcolor\":\"#DFE8F3\",\"gridwidth\":2,\"linecolor\":\"#EBF0F8\",\"showbackground\":true,\"ticks\":\"\",\"zerolinecolor\":\"#EBF0F8\"}},\"shapedefaults\":{\"line\":{\"color\":\"#2a3f5f\"}},\"ternary\":{\"aaxis\":{\"gridcolor\":\"#DFE8F3\",\"linecolor\":\"#A2B1C6\",\"ticks\":\"\"},\"baxis\":{\"gridcolor\":\"#DFE8F3\",\"linecolor\":\"#A2B1C6\",\"ticks\":\"\"},\"bgcolor\":\"white\",\"caxis\":{\"gridcolor\":\"#DFE8F3\",\"linecolor\":\"#A2B1C6\",\"ticks\":\"\"}},\"title\":{\"x\":0.05},\"xaxis\":{\"automargin\":true,\"gridcolor\":\"#EBF0F8\",\"linecolor\":\"#EBF0F8\",\"ticks\":\"\",\"title\":{\"standoff\":15},\"zerolinecolor\":\"#EBF0F8\",\"zerolinewidth\":2},\"yaxis\":{\"automargin\":true,\"gridcolor\":\"#EBF0F8\",\"linecolor\":\"#EBF0F8\",\"ticks\":\"\",\"title\":{\"standoff\":15},\"zerolinecolor\":\"#EBF0F8\",\"zerolinewidth\":2}}},\"xaxis\":{\"type\":\"log\",\"title\":{\"text\":\"Number of samples\"}},\"yaxis\":{\"type\":\"log\",\"title\":{\"text\":\"MAE\"}},\"legend\":{\"orientation\":\"h\",\"yanchor\":\"bottom\",\"y\":0.99,\"xanchor\":\"left\",\"x\":-0.0},\"width\":1200,\"height\":1200},                        {\"responsive\": true}                    ).then(function(){\n",
       "                            \n",
       "var gd = document.getElementById('00fff192-1ce3-45b5-a754-6914b53539e1');\n",
       "var x = new MutationObserver(function (mutations, observer) {{\n",
       "        var display = window.getComputedStyle(gd).display;\n",
       "        if (!display || display === 'none') {{\n",
       "            console.log([gd, 'removed!']);\n",
       "            Plotly.purge(gd);\n",
       "            observer.disconnect();\n",
       "        }}\n",
       "}});\n",
       "\n",
       "// Listen for the removal of the full notebook cells\n",
       "var notebookContainer = gd.closest('#notebook-container');\n",
       "if (notebookContainer) {{\n",
       "    x.observe(notebookContainer, {childList: true});\n",
       "}}\n",
       "\n",
       "// Listen for the clearing of the current output cell\n",
       "var outputEl = gd.closest('.output');\n",
       "if (outputEl) {{\n",
       "    x.observe(outputEl, {childList: true});\n",
       "}}\n",
       "\n",
       "                        })                };                });            </script>        </div>"
      ]
     },
     "metadata": {},
     "output_type": "display_data"
    }
   ],
   "source": [
    "fig = go.Figure()\n",
    "\n",
    "for j,i in enumerate([64,32,16,8,4]):\n",
    "\n",
    "    fig.add_trace(go.Scatter(x = latent_only[latent_only['Latent units'] == i].groupby('N samples').mean().reset_index()['N samples'], \n",
    "                     y = latent_only[latent_only['Latent units'] == i].groupby('N samples').mean().reset_index()['MAE'], \n",
    "                             mode = 'markers+lines',\n",
    "                             name = 'latent only l = ' + str(i),\n",
    "    #                  log_x = True, \n",
    "    #                  log_y=True,\n",
    "                     error_y=dict(\n",
    "                        type='data',\n",
    "                        symmetric=False,\n",
    "                         array = (latent_only[latent_only['Latent units'] == i].groupby('N samples').max()  - latent_only[latent_only['Latent units'] == i].groupby('N samples').mean())['MAE'], \n",
    "                         arrayminus = (latent_only[latent_only['Latent units'] == i].groupby('N samples').mean() - latent_only[latent_only['Latent units'] == i].groupby('N samples').min())['MAE'],\n",
    "                     ),\n",
    "                     line_color = px.colors.qualitative.Dark24[j],\n",
    "                    ))\n",
    "\n",
    "for j,i in enumerate([64,32,16,8,4]):\n",
    "\n",
    "    fig.add_trace(go.Scatter(x = latent_dc_pr_pow[latent_dc_pr_pow['Latent units'] == i].groupby('N samples').mean().reset_index()['N samples'], \n",
    "                     y = latent_dc_pr_pow[latent_dc_pr_pow['Latent units'] == i].groupby('N samples').mean().reset_index()['MAE'], \n",
    "                             line_dash = 'dash',\n",
    "                             mode = 'markers+lines',\n",
    "                             name = ' latent+ l = ' + str(i),\n",
    "    #                  log_x = True, \n",
    "    #                  log_y=True,\n",
    "                     error_y=dict(\n",
    "                        type='data',\n",
    "                        symmetric=False,\n",
    "                         array = (latent_dc_pr_pow[latent_dc_pr_pow['Latent units'] == i].groupby('N samples').max()  - latent_dc_pr_pow[latent_dc_pr_pow['Latent units'] == i].groupby('N samples').mean())['MAE'], \n",
    "                         arrayminus = (latent_dc_pr_pow[latent_dc_pr_pow['Latent units'] == i].groupby('N samples').mean() - latent_dc_pr_pow[latent_dc_pr_pow['Latent units'] == i].groupby('N samples').min())['MAE'],\n",
    "                     ),\n",
    "                     line_color = px.colors.qualitative.Dark24[j],\n",
    "                    ))\n",
    "    \n",
    "# fig.add_trace(go.Scatter(x = [10, 637801], \n",
    "#                      y = [error_estimate, error_estimate], \n",
    "# #                              line_dash = 'dash',\n",
    "#                              mode = 'lines',\n",
    "#                              name = 'Measurement error',\n",
    "#     #                  log_x = True, \n",
    "#     #                  log_y=True,\n",
    "# #                      error_y=dict(\n",
    "# #                         type='data',\n",
    "# #                         symmetric=False,\n",
    "# #                          array = (latent_dc_pr_pow[latent_dc_pr_pow['Latent units'] == i].groupby('N samples').max()  - latent_dc_pr_pow[latent_dc_pr_pow['Latent units'] == i].groupby('N samples').median())['MSE'], \n",
    "# #                          arrayminus = (latent_dc_pr_pow[latent_dc_pr_pow['Latent units'] == i].groupby('N samples').median() - latent_dc_pr_pow[latent_dc_pr_pow['Latent units'] == i].groupby('N samples').min())['MSE'],\n",
    "# #                      ),\n",
    "#                      line_color = px.colors.qualitative.Dark24[j+1],\n",
    "#                     ))\n",
    "\n",
    "\n",
    "# fig.add_trace(go.Scatter(x = size_sweep_frame_power_pressure.groupby('N samples').median().reset_index()['N samples'], \n",
    "#                  y = size_sweep_frame_power_pressure.groupby('N samples').median().reset_index()['MSE'], \n",
    "#                          mode = 'markers',\n",
    "#                          name = 'Latent+Pressure+RF Power',\n",
    "# #                  log_x = True, \n",
    "# #                  log_y=True,\n",
    "#                  error_y=dict(\n",
    "#                     type='data',\n",
    "#                     symmetric=False,\n",
    "#                      array = (size_sweep_frame_power_pressure.groupby('N samples').max()  - size_sweep_frame_power_pressure.groupby('N samples').median())['MSE'], \n",
    "#                      arrayminus = (size_sweep_frame_power_pressure.groupby('N samples').median() - size_sweep_frame_power_pressure.groupby('N samples').min())['MSE'],\n",
    "#                  )\n",
    "# #                  line_color = px.colors.qualitative.Dark24[0]\n",
    "#                 ))\n",
    "\n",
    "fig.update_xaxes(type=\"log\", title = 'Number of samples')\n",
    "fig.update_yaxes(type=\"log\", title = 'MAE')\n",
    "\n",
    "fig.update_layout(template = 'plotly_white', width = 1200, height = 1200, legend=dict(\n",
    "    orientation=\"h\",\n",
    "    yanchor=\"bottom\",\n",
    "    y=0.99,\n",
    "    xanchor=\"left\",\n",
    "    x=-0.00,\n",
    "))\n",
    "# fig = px.scatter(y = [y_train, y_test])\n",
    "fig.show()\n",
    "\n",
    "fig.write_image(\"images/dc_bias_predictions.png\")\n",
    "fig.write_image(\"images/dc_bias_predictions.svg\")\n",
    "fig.write_image(\"images/dc_bias_predictions.eps\")\n",
    "\n",
    "# fig.update_layout(marker=dict(color='green', size=4))\n",
    "\n",
    "# fig2 = px.scatter(size_sweep_frame_power_pressure.groupby('N samples').median().reset_index(), \n",
    "#                  x = 'N samples', \n",
    "#                  y = 'MSE', \n",
    "#                  log_x = True, \n",
    "#                  log_y=True,\n",
    "#                  error_y = (size_sweep_frame_power_pressure.groupby('N samples').max()  - size_sweep_frame_power_pressure.groupby('N samples').median())['MSE'], \n",
    "#                  error_y_minus = (size_sweep_frame_power_pressure.groupby('N samples').median() - size_sweep_frame_power_pressure.groupby('N samples').min())['MSE'],\n",
    "# #                  line_color = px.colors.qualitative.Dark24[1]\n",
    "#                 )\n",
    "\n",
    "# fig.add_trace(fig2.data[0])\n",
    "\n",
    "# fig.update_layout(showlegend = True, legend_title_text='Trend')\n",
    "\n",
    "\n",
    "\n",
    "# fig.show('notebook')"
   ]
  },
  {
   "cell_type": "code",
   "execution_count": 95,
   "id": "28ba22e2",
   "metadata": {},
   "outputs": [
    {
     "data": {
      "application/vnd.plotly.v1+json": {
       "config": {
        "plotlyServerURL": "https://plot.ly"
       },
       "data": [
        {
         "error_y": {
          "array": [
           191.54015742156773,
           60.29210479582001,
           31.254946793984136,
           33.07433112816765,
           33.306175085961776,
           5.660755737812754
          ],
          "arrayminus": [
           165.65144705596617,
           60.72432448536386,
           29.413943043501018,
           31.435647509846522,
           24.15602795232402,
           4.133538083303447
          ],
          "symmetric": false,
          "type": "data"
         },
         "line": {
          "color": "#2E91E5"
         },
         "mode": "markers+lines",
         "name": "latent only l = 64",
         "type": "scatter",
         "x": [
          10,
          100,
          1000,
          10000,
          100000,
          637801
         ],
         "y": [
          287.6615909824455,
          185.6358676114911,
          143.03170522176063,
          101.80847751780705,
          64.35490696246448,
          44.14497529172623
         ]
        },
        {
         "error_y": {
          "array": [
           196.84412085859597,
           53.27481854684014,
           20.080084055757354,
           31.69268046492567,
           26.03022761243397,
           5.42107647119282
          ],
          "arrayminus": [
           182.55380764816675,
           54.813029768416015,
           22.92564479925743,
           34.25903374681951,
           36.662533519897124,
           5.849396633301562
          ],
          "symmetric": false,
          "type": "data"
         },
         "line": {
          "color": "#E15F99"
         },
         "mode": "markers+lines",
         "name": "latent only l = 32",
         "type": "scatter",
         "x": [
          10,
          100,
          1000,
          10000,
          100000,
          637801
         ],
         "y": [
          291.45049687340094,
          185.24549804009962,
          164.80316367555847,
          123.31534343951331,
          82.87159345315668,
          53.72875784975658
         ]
        },
        {
         "error_y": {
          "array": [
           141.1111164916948,
           48.265936253100875,
           17.348635217487935,
           90.24180055590945,
           39.99533940894964,
           9.690900059819008
          ],
          "arrayminus": [
           130.2885730192328,
           36.9497479917996,
           24.60607173487945,
           64.65764397934056,
           29.482671958365994,
           10.806265364791848
          ],
          "symmetric": false,
          "type": "data"
         },
         "line": {
          "color": "#1CA71C"
         },
         "mode": "markers+lines",
         "name": "latent only l = 16",
         "type": "scatter",
         "x": [
          10,
          100,
          1000,
          10000,
          100000,
          637801
         ],
         "y": [
          289.2098437915908,
          193.85333112966723,
          185.19876450735177,
          175.83159361580516,
          113.07789950225074,
          83.27982092108928
         ]
        },
        {
         "error_y": {
          "array": [
           202.45175296088593,
           56.12453933305839,
           15.027569429245151,
           7.9577298726155545,
           39.411733651143514,
           27.417767344766027
          ],
          "arrayminus": [
           156.51360210746319,
           53.42528939862728,
           13.536849143110052,
           9.2306871230957,
           28.1682899889507,
           27.658638500802606
          ],
          "symmetric": false,
          "type": "data"
         },
         "line": {
          "color": "#FB0D0D"
         },
         "mode": "markers+lines",
         "name": "latent only l = 8",
         "type": "scatter",
         "x": [
          10,
          100,
          1000,
          10000,
          100000,
          637801
         ],
         "y": [
          280.46189727487206,
          205.15730101467966,
          197.05982426085947,
          188.79578985489422,
          150.34620198668878,
          114.81231158583161
         ]
        },
        {
         "error_y": {
          "array": [
           143.53129916498597,
           54.982737194578846,
           35.59110635345977,
           35.355627764060465,
           22.36633279961427,
           13.25446963047338
          ],
          "arrayminus": [
           138.99928917291413,
           38.12564833668246,
           33.80700886150262,
           33.33956789283567,
           19.978401919920906,
           13.587007056017132
          ],
          "symmetric": false,
          "type": "data"
         },
         "line": {
          "color": "#DA16FF"
         },
         "mode": "markers+lines",
         "name": "latent only l = 4",
         "type": "scatter",
         "x": [
          10,
          100,
          1000,
          10000,
          100000,
          637801
         ],
         "y": [
          299.8359514765876,
          228.39206550312443,
          226.00869697899594,
          214.8117145582794,
          181.20939482295174,
          172.4725490389423
         ]
        },
        {
         "error_y": {
          "array": [
           128.8914065051195,
           63.489255369704416,
           30.282108541743252,
           53.806182336515576,
           22.828988266305622,
           1.9744778711041586
          ],
          "arrayminus": [
           130.59314576662106,
           58.41252275115894,
           40.60908427616881,
           37.69717607190544,
           22.992854661048074,
           1.6523091603329014
          ],
          "symmetric": false,
          "type": "data"
         },
         "line": {
          "color": "#2E91E5",
          "dash": "dash"
         },
         "mode": "markers+lines",
         "name": " latent+ l = 64",
         "type": "scatter",
         "x": [
          10,
          100,
          1000,
          10000,
          100000,
          637801
         ],
         "y": [
          263.47932637364823,
          146.43008688439875,
          99.12425632787102,
          56.76199307571255,
          31.736017018026697,
          17.554968575321347
         ]
        },
        {
         "error_y": {
          "array": [
           95.54772508419285,
           82.80048058213129,
           30.033471042221198,
           37.47655326762828,
           18.461657693592954,
           3.844155816675487
          ],
          "arrayminus": [
           104.1795027294602,
           50.73352918986022,
           42.42552349917394,
           21.75973727891538,
           18.38710515635618,
           2.761613193646061
          ],
          "symmetric": false,
          "type": "data"
         },
         "line": {
          "color": "#E15F99",
          "dash": "dash"
         },
         "mode": "markers+lines",
         "name": " latent+ l = 32",
         "type": "scatter",
         "x": [
          10,
          100,
          1000,
          10000,
          100000,
          637801
         ],
         "y": [
          245.79661460136631,
          135.82587372544268,
          91.48309627750123,
          49.17515837620068,
          29.792943897876224,
          19.71762204935017
         ]
        },
        {
         "error_y": {
          "array": [
           151.2928466363016,
           46.768076462479414,
           21.29994910227298,
           19.86383744907916,
           17.491535327947634,
           2.659834973993675
          ],
          "arrayminus": [
           145.9160371554766,
           31.25402305456338,
           25.474490530948408,
           14.691932001927457,
           13.457747209907014,
           2.7626331520525897
          ],
          "symmetric": false,
          "type": "data"
         },
         "line": {
          "color": "#1CA71C",
          "dash": "dash"
         },
         "mode": "markers+lines",
         "name": " latent+ l = 16",
         "type": "scatter",
         "x": [
          10,
          100,
          1000,
          10000,
          100000,
          637801
         ],
         "y": [
          218.1399712029167,
          92.84934903444547,
          86.3215761160388,
          60.732560606161336,
          30.863713535915604,
          22.723960715568932
         ]
        },
        {
         "error_y": {
          "array": [
           105.99756739941422,
           38.803524805555746,
           13.63188480838653,
           33.709754646828266,
           13.583775627731052,
           4.60851680516845
          ],
          "arrayminus": [
           114.10592082265995,
           39.64309045599901,
           10.557908891545734,
           32.88333971838536,
           9.331527390575452,
           4.427781412307966
          ],
          "symmetric": false,
          "type": "data"
         },
         "line": {
          "color": "#FB0D0D",
          "dash": "dash"
         },
         "mode": "markers+lines",
         "name": " latent+ l = 8",
         "type": "scatter",
         "x": [
          10,
          100,
          1000,
          10000,
          100000,
          637801
         ],
         "y": [
          162.3275351710539,
          97.31171102148815,
          92.8257062134869,
          77.51689276862844,
          33.92136092040177,
          27.98341958606346
         ]
        },
        {
         "error_y": {
          "array": [
           259.3064142801629,
           31.504057276648055,
           32.05015276025933,
           44.662053842902274,
           15.676074446381655,
           4.510314535038547
          ],
          "arrayminus": [
           161.70563690721883,
           31.75939004693694,
           25.76000320703278,
           27.953871680234172,
           16.366669190287322,
           6.7824888281677325
          ],
          "symmetric": false,
          "type": "data"
         },
         "line": {
          "color": "#DA16FF",
          "dash": "dash"
         },
         "mode": "markers+lines",
         "name": " latent+ l = 4",
         "type": "scatter",
         "x": [
          10,
          100,
          1000,
          10000,
          100000,
          637801
         ],
         "y": [
          233.09991172300346,
          134.66521406226286,
          130.7182803946932,
          111.52645564630035,
          44.316033325626066,
          30.266245633753787
         ]
        }
       ],
       "layout": {
        "height": 1200,
        "legend": {
         "orientation": "h",
         "x": 0,
         "xanchor": "left",
         "y": 0.99,
         "yanchor": "bottom"
        },
        "template": {
         "data": {
          "bar": [
           {
            "error_x": {
             "color": "#2a3f5f"
            },
            "error_y": {
             "color": "#2a3f5f"
            },
            "marker": {
             "line": {
              "color": "white",
              "width": 0.5
             },
             "pattern": {
              "fillmode": "overlay",
              "size": 10,
              "solidity": 0.2
             }
            },
            "type": "bar"
           }
          ],
          "barpolar": [
           {
            "marker": {
             "line": {
              "color": "white",
              "width": 0.5
             },
             "pattern": {
              "fillmode": "overlay",
              "size": 10,
              "solidity": 0.2
             }
            },
            "type": "barpolar"
           }
          ],
          "carpet": [
           {
            "aaxis": {
             "endlinecolor": "#2a3f5f",
             "gridcolor": "#C8D4E3",
             "linecolor": "#C8D4E3",
             "minorgridcolor": "#C8D4E3",
             "startlinecolor": "#2a3f5f"
            },
            "baxis": {
             "endlinecolor": "#2a3f5f",
             "gridcolor": "#C8D4E3",
             "linecolor": "#C8D4E3",
             "minorgridcolor": "#C8D4E3",
             "startlinecolor": "#2a3f5f"
            },
            "type": "carpet"
           }
          ],
          "choropleth": [
           {
            "colorbar": {
             "outlinewidth": 0,
             "ticks": ""
            },
            "type": "choropleth"
           }
          ],
          "contour": [
           {
            "colorbar": {
             "outlinewidth": 0,
             "ticks": ""
            },
            "colorscale": [
             [
              0,
              "#0d0887"
             ],
             [
              0.1111111111111111,
              "#46039f"
             ],
             [
              0.2222222222222222,
              "#7201a8"
             ],
             [
              0.3333333333333333,
              "#9c179e"
             ],
             [
              0.4444444444444444,
              "#bd3786"
             ],
             [
              0.5555555555555556,
              "#d8576b"
             ],
             [
              0.6666666666666666,
              "#ed7953"
             ],
             [
              0.7777777777777778,
              "#fb9f3a"
             ],
             [
              0.8888888888888888,
              "#fdca26"
             ],
             [
              1,
              "#f0f921"
             ]
            ],
            "type": "contour"
           }
          ],
          "contourcarpet": [
           {
            "colorbar": {
             "outlinewidth": 0,
             "ticks": ""
            },
            "type": "contourcarpet"
           }
          ],
          "heatmap": [
           {
            "colorbar": {
             "outlinewidth": 0,
             "ticks": ""
            },
            "colorscale": [
             [
              0,
              "#0d0887"
             ],
             [
              0.1111111111111111,
              "#46039f"
             ],
             [
              0.2222222222222222,
              "#7201a8"
             ],
             [
              0.3333333333333333,
              "#9c179e"
             ],
             [
              0.4444444444444444,
              "#bd3786"
             ],
             [
              0.5555555555555556,
              "#d8576b"
             ],
             [
              0.6666666666666666,
              "#ed7953"
             ],
             [
              0.7777777777777778,
              "#fb9f3a"
             ],
             [
              0.8888888888888888,
              "#fdca26"
             ],
             [
              1,
              "#f0f921"
             ]
            ],
            "type": "heatmap"
           }
          ],
          "heatmapgl": [
           {
            "colorbar": {
             "outlinewidth": 0,
             "ticks": ""
            },
            "colorscale": [
             [
              0,
              "#0d0887"
             ],
             [
              0.1111111111111111,
              "#46039f"
             ],
             [
              0.2222222222222222,
              "#7201a8"
             ],
             [
              0.3333333333333333,
              "#9c179e"
             ],
             [
              0.4444444444444444,
              "#bd3786"
             ],
             [
              0.5555555555555556,
              "#d8576b"
             ],
             [
              0.6666666666666666,
              "#ed7953"
             ],
             [
              0.7777777777777778,
              "#fb9f3a"
             ],
             [
              0.8888888888888888,
              "#fdca26"
             ],
             [
              1,
              "#f0f921"
             ]
            ],
            "type": "heatmapgl"
           }
          ],
          "histogram": [
           {
            "marker": {
             "pattern": {
              "fillmode": "overlay",
              "size": 10,
              "solidity": 0.2
             }
            },
            "type": "histogram"
           }
          ],
          "histogram2d": [
           {
            "colorbar": {
             "outlinewidth": 0,
             "ticks": ""
            },
            "colorscale": [
             [
              0,
              "#0d0887"
             ],
             [
              0.1111111111111111,
              "#46039f"
             ],
             [
              0.2222222222222222,
              "#7201a8"
             ],
             [
              0.3333333333333333,
              "#9c179e"
             ],
             [
              0.4444444444444444,
              "#bd3786"
             ],
             [
              0.5555555555555556,
              "#d8576b"
             ],
             [
              0.6666666666666666,
              "#ed7953"
             ],
             [
              0.7777777777777778,
              "#fb9f3a"
             ],
             [
              0.8888888888888888,
              "#fdca26"
             ],
             [
              1,
              "#f0f921"
             ]
            ],
            "type": "histogram2d"
           }
          ],
          "histogram2dcontour": [
           {
            "colorbar": {
             "outlinewidth": 0,
             "ticks": ""
            },
            "colorscale": [
             [
              0,
              "#0d0887"
             ],
             [
              0.1111111111111111,
              "#46039f"
             ],
             [
              0.2222222222222222,
              "#7201a8"
             ],
             [
              0.3333333333333333,
              "#9c179e"
             ],
             [
              0.4444444444444444,
              "#bd3786"
             ],
             [
              0.5555555555555556,
              "#d8576b"
             ],
             [
              0.6666666666666666,
              "#ed7953"
             ],
             [
              0.7777777777777778,
              "#fb9f3a"
             ],
             [
              0.8888888888888888,
              "#fdca26"
             ],
             [
              1,
              "#f0f921"
             ]
            ],
            "type": "histogram2dcontour"
           }
          ],
          "mesh3d": [
           {
            "colorbar": {
             "outlinewidth": 0,
             "ticks": ""
            },
            "type": "mesh3d"
           }
          ],
          "parcoords": [
           {
            "line": {
             "colorbar": {
              "outlinewidth": 0,
              "ticks": ""
             }
            },
            "type": "parcoords"
           }
          ],
          "pie": [
           {
            "automargin": true,
            "type": "pie"
           }
          ],
          "scatter": [
           {
            "fillpattern": {
             "fillmode": "overlay",
             "size": 10,
             "solidity": 0.2
            },
            "type": "scatter"
           }
          ],
          "scatter3d": [
           {
            "line": {
             "colorbar": {
              "outlinewidth": 0,
              "ticks": ""
             }
            },
            "marker": {
             "colorbar": {
              "outlinewidth": 0,
              "ticks": ""
             }
            },
            "type": "scatter3d"
           }
          ],
          "scattercarpet": [
           {
            "marker": {
             "colorbar": {
              "outlinewidth": 0,
              "ticks": ""
             }
            },
            "type": "scattercarpet"
           }
          ],
          "scattergeo": [
           {
            "marker": {
             "colorbar": {
              "outlinewidth": 0,
              "ticks": ""
             }
            },
            "type": "scattergeo"
           }
          ],
          "scattergl": [
           {
            "marker": {
             "colorbar": {
              "outlinewidth": 0,
              "ticks": ""
             }
            },
            "type": "scattergl"
           }
          ],
          "scattermapbox": [
           {
            "marker": {
             "colorbar": {
              "outlinewidth": 0,
              "ticks": ""
             }
            },
            "type": "scattermapbox"
           }
          ],
          "scatterpolar": [
           {
            "marker": {
             "colorbar": {
              "outlinewidth": 0,
              "ticks": ""
             }
            },
            "type": "scatterpolar"
           }
          ],
          "scatterpolargl": [
           {
            "marker": {
             "colorbar": {
              "outlinewidth": 0,
              "ticks": ""
             }
            },
            "type": "scatterpolargl"
           }
          ],
          "scatterternary": [
           {
            "marker": {
             "colorbar": {
              "outlinewidth": 0,
              "ticks": ""
             }
            },
            "type": "scatterternary"
           }
          ],
          "surface": [
           {
            "colorbar": {
             "outlinewidth": 0,
             "ticks": ""
            },
            "colorscale": [
             [
              0,
              "#0d0887"
             ],
             [
              0.1111111111111111,
              "#46039f"
             ],
             [
              0.2222222222222222,
              "#7201a8"
             ],
             [
              0.3333333333333333,
              "#9c179e"
             ],
             [
              0.4444444444444444,
              "#bd3786"
             ],
             [
              0.5555555555555556,
              "#d8576b"
             ],
             [
              0.6666666666666666,
              "#ed7953"
             ],
             [
              0.7777777777777778,
              "#fb9f3a"
             ],
             [
              0.8888888888888888,
              "#fdca26"
             ],
             [
              1,
              "#f0f921"
             ]
            ],
            "type": "surface"
           }
          ],
          "table": [
           {
            "cells": {
             "fill": {
              "color": "#EBF0F8"
             },
             "line": {
              "color": "white"
             }
            },
            "header": {
             "fill": {
              "color": "#C8D4E3"
             },
             "line": {
              "color": "white"
             }
            },
            "type": "table"
           }
          ]
         },
         "layout": {
          "annotationdefaults": {
           "arrowcolor": "#2a3f5f",
           "arrowhead": 0,
           "arrowwidth": 1
          },
          "autotypenumbers": "strict",
          "coloraxis": {
           "colorbar": {
            "outlinewidth": 0,
            "ticks": ""
           }
          },
          "colorscale": {
           "diverging": [
            [
             0,
             "#8e0152"
            ],
            [
             0.1,
             "#c51b7d"
            ],
            [
             0.2,
             "#de77ae"
            ],
            [
             0.3,
             "#f1b6da"
            ],
            [
             0.4,
             "#fde0ef"
            ],
            [
             0.5,
             "#f7f7f7"
            ],
            [
             0.6,
             "#e6f5d0"
            ],
            [
             0.7,
             "#b8e186"
            ],
            [
             0.8,
             "#7fbc41"
            ],
            [
             0.9,
             "#4d9221"
            ],
            [
             1,
             "#276419"
            ]
           ],
           "sequential": [
            [
             0,
             "#0d0887"
            ],
            [
             0.1111111111111111,
             "#46039f"
            ],
            [
             0.2222222222222222,
             "#7201a8"
            ],
            [
             0.3333333333333333,
             "#9c179e"
            ],
            [
             0.4444444444444444,
             "#bd3786"
            ],
            [
             0.5555555555555556,
             "#d8576b"
            ],
            [
             0.6666666666666666,
             "#ed7953"
            ],
            [
             0.7777777777777778,
             "#fb9f3a"
            ],
            [
             0.8888888888888888,
             "#fdca26"
            ],
            [
             1,
             "#f0f921"
            ]
           ],
           "sequentialminus": [
            [
             0,
             "#0d0887"
            ],
            [
             0.1111111111111111,
             "#46039f"
            ],
            [
             0.2222222222222222,
             "#7201a8"
            ],
            [
             0.3333333333333333,
             "#9c179e"
            ],
            [
             0.4444444444444444,
             "#bd3786"
            ],
            [
             0.5555555555555556,
             "#d8576b"
            ],
            [
             0.6666666666666666,
             "#ed7953"
            ],
            [
             0.7777777777777778,
             "#fb9f3a"
            ],
            [
             0.8888888888888888,
             "#fdca26"
            ],
            [
             1,
             "#f0f921"
            ]
           ]
          },
          "colorway": [
           "#636efa",
           "#EF553B",
           "#00cc96",
           "#ab63fa",
           "#FFA15A",
           "#19d3f3",
           "#FF6692",
           "#B6E880",
           "#FF97FF",
           "#FECB52"
          ],
          "font": {
           "color": "#2a3f5f"
          },
          "geo": {
           "bgcolor": "white",
           "lakecolor": "white",
           "landcolor": "white",
           "showlakes": true,
           "showland": true,
           "subunitcolor": "#C8D4E3"
          },
          "hoverlabel": {
           "align": "left"
          },
          "hovermode": "closest",
          "mapbox": {
           "style": "light"
          },
          "paper_bgcolor": "white",
          "plot_bgcolor": "white",
          "polar": {
           "angularaxis": {
            "gridcolor": "#EBF0F8",
            "linecolor": "#EBF0F8",
            "ticks": ""
           },
           "bgcolor": "white",
           "radialaxis": {
            "gridcolor": "#EBF0F8",
            "linecolor": "#EBF0F8",
            "ticks": ""
           }
          },
          "scene": {
           "xaxis": {
            "backgroundcolor": "white",
            "gridcolor": "#DFE8F3",
            "gridwidth": 2,
            "linecolor": "#EBF0F8",
            "showbackground": true,
            "ticks": "",
            "zerolinecolor": "#EBF0F8"
           },
           "yaxis": {
            "backgroundcolor": "white",
            "gridcolor": "#DFE8F3",
            "gridwidth": 2,
            "linecolor": "#EBF0F8",
            "showbackground": true,
            "ticks": "",
            "zerolinecolor": "#EBF0F8"
           },
           "zaxis": {
            "backgroundcolor": "white",
            "gridcolor": "#DFE8F3",
            "gridwidth": 2,
            "linecolor": "#EBF0F8",
            "showbackground": true,
            "ticks": "",
            "zerolinecolor": "#EBF0F8"
           }
          },
          "shapedefaults": {
           "line": {
            "color": "#2a3f5f"
           }
          },
          "ternary": {
           "aaxis": {
            "gridcolor": "#DFE8F3",
            "linecolor": "#A2B1C6",
            "ticks": ""
           },
           "baxis": {
            "gridcolor": "#DFE8F3",
            "linecolor": "#A2B1C6",
            "ticks": ""
           },
           "bgcolor": "white",
           "caxis": {
            "gridcolor": "#DFE8F3",
            "linecolor": "#A2B1C6",
            "ticks": ""
           }
          },
          "title": {
           "x": 0.05
          },
          "xaxis": {
           "automargin": true,
           "gridcolor": "#EBF0F8",
           "linecolor": "#EBF0F8",
           "ticks": "",
           "title": {
            "standoff": 15
           },
           "zerolinecolor": "#EBF0F8",
           "zerolinewidth": 2
          },
          "yaxis": {
           "automargin": true,
           "gridcolor": "#EBF0F8",
           "linecolor": "#EBF0F8",
           "ticks": "",
           "title": {
            "standoff": 15
           },
           "zerolinecolor": "#EBF0F8",
           "zerolinewidth": 2
          }
         }
        },
        "width": 1200,
        "xaxis": {
         "title": {
          "text": "Number of samples"
         },
         "type": "log"
        },
        "yaxis": {
         "title": {
          "text": "RMSE"
         },
         "type": "log"
        }
       }
      },
      "text/html": [
       "<div>                            <div id=\"61486ca4-e0f7-4627-a9f3-f902cad9c5d4\" class=\"plotly-graph-div\" style=\"height:1200px; width:1200px;\"></div>            <script type=\"text/javascript\">                require([\"plotly\"], function(Plotly) {                    window.PLOTLYENV=window.PLOTLYENV || {};                                    if (document.getElementById(\"61486ca4-e0f7-4627-a9f3-f902cad9c5d4\")) {                    Plotly.newPlot(                        \"61486ca4-e0f7-4627-a9f3-f902cad9c5d4\",                        [{\"error_y\":{\"array\":[191.54015742156773,60.29210479582001,31.254946793984136,33.07433112816765,33.306175085961776,5.660755737812754],\"arrayminus\":[165.65144705596617,60.72432448536386,29.413943043501018,31.435647509846522,24.15602795232402,4.133538083303447],\"symmetric\":false,\"type\":\"data\"},\"line\":{\"color\":\"#2E91E5\"},\"mode\":\"markers+lines\",\"name\":\"latent only l = 64\",\"x\":[10,100,1000,10000,100000,637801],\"y\":[287.6615909824455,185.6358676114911,143.03170522176063,101.80847751780705,64.35490696246448,44.14497529172623],\"type\":\"scatter\"},{\"error_y\":{\"array\":[196.84412085859597,53.27481854684014,20.080084055757354,31.69268046492567,26.03022761243397,5.42107647119282],\"arrayminus\":[182.55380764816675,54.813029768416015,22.92564479925743,34.25903374681951,36.662533519897124,5.849396633301562],\"symmetric\":false,\"type\":\"data\"},\"line\":{\"color\":\"#E15F99\"},\"mode\":\"markers+lines\",\"name\":\"latent only l = 32\",\"x\":[10,100,1000,10000,100000,637801],\"y\":[291.45049687340094,185.24549804009962,164.80316367555847,123.31534343951331,82.87159345315668,53.72875784975658],\"type\":\"scatter\"},{\"error_y\":{\"array\":[141.1111164916948,48.265936253100875,17.348635217487935,90.24180055590945,39.99533940894964,9.690900059819008],\"arrayminus\":[130.2885730192328,36.9497479917996,24.60607173487945,64.65764397934056,29.482671958365994,10.806265364791848],\"symmetric\":false,\"type\":\"data\"},\"line\":{\"color\":\"#1CA71C\"},\"mode\":\"markers+lines\",\"name\":\"latent only l = 16\",\"x\":[10,100,1000,10000,100000,637801],\"y\":[289.2098437915908,193.85333112966723,185.19876450735177,175.83159361580516,113.07789950225074,83.27982092108928],\"type\":\"scatter\"},{\"error_y\":{\"array\":[202.45175296088593,56.12453933305839,15.027569429245151,7.9577298726155545,39.411733651143514,27.417767344766027],\"arrayminus\":[156.51360210746319,53.42528939862728,13.536849143110052,9.2306871230957,28.1682899889507,27.658638500802606],\"symmetric\":false,\"type\":\"data\"},\"line\":{\"color\":\"#FB0D0D\"},\"mode\":\"markers+lines\",\"name\":\"latent only l = 8\",\"x\":[10,100,1000,10000,100000,637801],\"y\":[280.46189727487206,205.15730101467966,197.05982426085947,188.79578985489422,150.34620198668878,114.81231158583161],\"type\":\"scatter\"},{\"error_y\":{\"array\":[143.53129916498597,54.982737194578846,35.59110635345977,35.355627764060465,22.36633279961427,13.25446963047338],\"arrayminus\":[138.99928917291413,38.12564833668246,33.80700886150262,33.33956789283567,19.978401919920906,13.587007056017132],\"symmetric\":false,\"type\":\"data\"},\"line\":{\"color\":\"#DA16FF\"},\"mode\":\"markers+lines\",\"name\":\"latent only l = 4\",\"x\":[10,100,1000,10000,100000,637801],\"y\":[299.8359514765876,228.39206550312443,226.00869697899594,214.8117145582794,181.20939482295174,172.4725490389423],\"type\":\"scatter\"},{\"error_y\":{\"array\":[128.8914065051195,63.489255369704416,30.282108541743252,53.806182336515576,22.828988266305622,1.9744778711041586],\"arrayminus\":[130.59314576662106,58.41252275115894,40.60908427616881,37.69717607190544,22.992854661048074,1.6523091603329014],\"symmetric\":false,\"type\":\"data\"},\"line\":{\"color\":\"#2E91E5\",\"dash\":\"dash\"},\"mode\":\"markers+lines\",\"name\":\" latent+ l = 64\",\"x\":[10.0,100.0,1000.0,10000.0,100000.0,637801.0],\"y\":[263.47932637364823,146.43008688439875,99.12425632787102,56.76199307571255,31.736017018026697,17.554968575321347],\"type\":\"scatter\"},{\"error_y\":{\"array\":[95.54772508419285,82.80048058213129,30.033471042221198,37.47655326762828,18.461657693592954,3.844155816675487],\"arrayminus\":[104.1795027294602,50.73352918986022,42.42552349917394,21.75973727891538,18.38710515635618,2.761613193646061],\"symmetric\":false,\"type\":\"data\"},\"line\":{\"color\":\"#E15F99\",\"dash\":\"dash\"},\"mode\":\"markers+lines\",\"name\":\" latent+ l = 32\",\"x\":[10.0,100.0,1000.0,10000.0,100000.0,637801.0],\"y\":[245.79661460136631,135.82587372544268,91.48309627750123,49.17515837620068,29.792943897876224,19.71762204935017],\"type\":\"scatter\"},{\"error_y\":{\"array\":[151.2928466363016,46.768076462479414,21.29994910227298,19.86383744907916,17.491535327947634,2.659834973993675],\"arrayminus\":[145.9160371554766,31.25402305456338,25.474490530948408,14.691932001927457,13.457747209907014,2.7626331520525897],\"symmetric\":false,\"type\":\"data\"},\"line\":{\"color\":\"#1CA71C\",\"dash\":\"dash\"},\"mode\":\"markers+lines\",\"name\":\" latent+ l = 16\",\"x\":[10.0,100.0,1000.0,10000.0,100000.0,637801.0],\"y\":[218.1399712029167,92.84934903444547,86.3215761160388,60.732560606161336,30.863713535915604,22.723960715568932],\"type\":\"scatter\"},{\"error_y\":{\"array\":[105.99756739941422,38.803524805555746,13.63188480838653,33.709754646828266,13.583775627731052,4.60851680516845],\"arrayminus\":[114.10592082265995,39.64309045599901,10.557908891545734,32.88333971838536,9.331527390575452,4.427781412307966],\"symmetric\":false,\"type\":\"data\"},\"line\":{\"color\":\"#FB0D0D\",\"dash\":\"dash\"},\"mode\":\"markers+lines\",\"name\":\" latent+ l = 8\",\"x\":[10.0,100.0,1000.0,10000.0,100000.0,637801.0],\"y\":[162.3275351710539,97.31171102148815,92.8257062134869,77.51689276862844,33.92136092040177,27.98341958606346],\"type\":\"scatter\"},{\"error_y\":{\"array\":[259.3064142801629,31.504057276648055,32.05015276025933,44.662053842902274,15.676074446381655,4.510314535038547],\"arrayminus\":[161.70563690721883,31.75939004693694,25.76000320703278,27.953871680234172,16.366669190287322,6.7824888281677325],\"symmetric\":false,\"type\":\"data\"},\"line\":{\"color\":\"#DA16FF\",\"dash\":\"dash\"},\"mode\":\"markers+lines\",\"name\":\" latent+ l = 4\",\"x\":[10.0,100.0,1000.0,10000.0,100000.0,637801.0],\"y\":[233.09991172300346,134.66521406226286,130.7182803946932,111.52645564630035,44.316033325626066,30.266245633753787],\"type\":\"scatter\"}],                        {\"template\":{\"data\":{\"barpolar\":[{\"marker\":{\"line\":{\"color\":\"white\",\"width\":0.5},\"pattern\":{\"fillmode\":\"overlay\",\"size\":10,\"solidity\":0.2}},\"type\":\"barpolar\"}],\"bar\":[{\"error_x\":{\"color\":\"#2a3f5f\"},\"error_y\":{\"color\":\"#2a3f5f\"},\"marker\":{\"line\":{\"color\":\"white\",\"width\":0.5},\"pattern\":{\"fillmode\":\"overlay\",\"size\":10,\"solidity\":0.2}},\"type\":\"bar\"}],\"carpet\":[{\"aaxis\":{\"endlinecolor\":\"#2a3f5f\",\"gridcolor\":\"#C8D4E3\",\"linecolor\":\"#C8D4E3\",\"minorgridcolor\":\"#C8D4E3\",\"startlinecolor\":\"#2a3f5f\"},\"baxis\":{\"endlinecolor\":\"#2a3f5f\",\"gridcolor\":\"#C8D4E3\",\"linecolor\":\"#C8D4E3\",\"minorgridcolor\":\"#C8D4E3\",\"startlinecolor\":\"#2a3f5f\"},\"type\":\"carpet\"}],\"choropleth\":[{\"colorbar\":{\"outlinewidth\":0,\"ticks\":\"\"},\"type\":\"choropleth\"}],\"contourcarpet\":[{\"colorbar\":{\"outlinewidth\":0,\"ticks\":\"\"},\"type\":\"contourcarpet\"}],\"contour\":[{\"colorbar\":{\"outlinewidth\":0,\"ticks\":\"\"},\"colorscale\":[[0.0,\"#0d0887\"],[0.1111111111111111,\"#46039f\"],[0.2222222222222222,\"#7201a8\"],[0.3333333333333333,\"#9c179e\"],[0.4444444444444444,\"#bd3786\"],[0.5555555555555556,\"#d8576b\"],[0.6666666666666666,\"#ed7953\"],[0.7777777777777778,\"#fb9f3a\"],[0.8888888888888888,\"#fdca26\"],[1.0,\"#f0f921\"]],\"type\":\"contour\"}],\"heatmapgl\":[{\"colorbar\":{\"outlinewidth\":0,\"ticks\":\"\"},\"colorscale\":[[0.0,\"#0d0887\"],[0.1111111111111111,\"#46039f\"],[0.2222222222222222,\"#7201a8\"],[0.3333333333333333,\"#9c179e\"],[0.4444444444444444,\"#bd3786\"],[0.5555555555555556,\"#d8576b\"],[0.6666666666666666,\"#ed7953\"],[0.7777777777777778,\"#fb9f3a\"],[0.8888888888888888,\"#fdca26\"],[1.0,\"#f0f921\"]],\"type\":\"heatmapgl\"}],\"heatmap\":[{\"colorbar\":{\"outlinewidth\":0,\"ticks\":\"\"},\"colorscale\":[[0.0,\"#0d0887\"],[0.1111111111111111,\"#46039f\"],[0.2222222222222222,\"#7201a8\"],[0.3333333333333333,\"#9c179e\"],[0.4444444444444444,\"#bd3786\"],[0.5555555555555556,\"#d8576b\"],[0.6666666666666666,\"#ed7953\"],[0.7777777777777778,\"#fb9f3a\"],[0.8888888888888888,\"#fdca26\"],[1.0,\"#f0f921\"]],\"type\":\"heatmap\"}],\"histogram2dcontour\":[{\"colorbar\":{\"outlinewidth\":0,\"ticks\":\"\"},\"colorscale\":[[0.0,\"#0d0887\"],[0.1111111111111111,\"#46039f\"],[0.2222222222222222,\"#7201a8\"],[0.3333333333333333,\"#9c179e\"],[0.4444444444444444,\"#bd3786\"],[0.5555555555555556,\"#d8576b\"],[0.6666666666666666,\"#ed7953\"],[0.7777777777777778,\"#fb9f3a\"],[0.8888888888888888,\"#fdca26\"],[1.0,\"#f0f921\"]],\"type\":\"histogram2dcontour\"}],\"histogram2d\":[{\"colorbar\":{\"outlinewidth\":0,\"ticks\":\"\"},\"colorscale\":[[0.0,\"#0d0887\"],[0.1111111111111111,\"#46039f\"],[0.2222222222222222,\"#7201a8\"],[0.3333333333333333,\"#9c179e\"],[0.4444444444444444,\"#bd3786\"],[0.5555555555555556,\"#d8576b\"],[0.6666666666666666,\"#ed7953\"],[0.7777777777777778,\"#fb9f3a\"],[0.8888888888888888,\"#fdca26\"],[1.0,\"#f0f921\"]],\"type\":\"histogram2d\"}],\"histogram\":[{\"marker\":{\"pattern\":{\"fillmode\":\"overlay\",\"size\":10,\"solidity\":0.2}},\"type\":\"histogram\"}],\"mesh3d\":[{\"colorbar\":{\"outlinewidth\":0,\"ticks\":\"\"},\"type\":\"mesh3d\"}],\"parcoords\":[{\"line\":{\"colorbar\":{\"outlinewidth\":0,\"ticks\":\"\"}},\"type\":\"parcoords\"}],\"pie\":[{\"automargin\":true,\"type\":\"pie\"}],\"scatter3d\":[{\"line\":{\"colorbar\":{\"outlinewidth\":0,\"ticks\":\"\"}},\"marker\":{\"colorbar\":{\"outlinewidth\":0,\"ticks\":\"\"}},\"type\":\"scatter3d\"}],\"scattercarpet\":[{\"marker\":{\"colorbar\":{\"outlinewidth\":0,\"ticks\":\"\"}},\"type\":\"scattercarpet\"}],\"scattergeo\":[{\"marker\":{\"colorbar\":{\"outlinewidth\":0,\"ticks\":\"\"}},\"type\":\"scattergeo\"}],\"scattergl\":[{\"marker\":{\"colorbar\":{\"outlinewidth\":0,\"ticks\":\"\"}},\"type\":\"scattergl\"}],\"scattermapbox\":[{\"marker\":{\"colorbar\":{\"outlinewidth\":0,\"ticks\":\"\"}},\"type\":\"scattermapbox\"}],\"scatterpolargl\":[{\"marker\":{\"colorbar\":{\"outlinewidth\":0,\"ticks\":\"\"}},\"type\":\"scatterpolargl\"}],\"scatterpolar\":[{\"marker\":{\"colorbar\":{\"outlinewidth\":0,\"ticks\":\"\"}},\"type\":\"scatterpolar\"}],\"scatter\":[{\"fillpattern\":{\"fillmode\":\"overlay\",\"size\":10,\"solidity\":0.2},\"type\":\"scatter\"}],\"scatterternary\":[{\"marker\":{\"colorbar\":{\"outlinewidth\":0,\"ticks\":\"\"}},\"type\":\"scatterternary\"}],\"surface\":[{\"colorbar\":{\"outlinewidth\":0,\"ticks\":\"\"},\"colorscale\":[[0.0,\"#0d0887\"],[0.1111111111111111,\"#46039f\"],[0.2222222222222222,\"#7201a8\"],[0.3333333333333333,\"#9c179e\"],[0.4444444444444444,\"#bd3786\"],[0.5555555555555556,\"#d8576b\"],[0.6666666666666666,\"#ed7953\"],[0.7777777777777778,\"#fb9f3a\"],[0.8888888888888888,\"#fdca26\"],[1.0,\"#f0f921\"]],\"type\":\"surface\"}],\"table\":[{\"cells\":{\"fill\":{\"color\":\"#EBF0F8\"},\"line\":{\"color\":\"white\"}},\"header\":{\"fill\":{\"color\":\"#C8D4E3\"},\"line\":{\"color\":\"white\"}},\"type\":\"table\"}]},\"layout\":{\"annotationdefaults\":{\"arrowcolor\":\"#2a3f5f\",\"arrowhead\":0,\"arrowwidth\":1},\"autotypenumbers\":\"strict\",\"coloraxis\":{\"colorbar\":{\"outlinewidth\":0,\"ticks\":\"\"}},\"colorscale\":{\"diverging\":[[0,\"#8e0152\"],[0.1,\"#c51b7d\"],[0.2,\"#de77ae\"],[0.3,\"#f1b6da\"],[0.4,\"#fde0ef\"],[0.5,\"#f7f7f7\"],[0.6,\"#e6f5d0\"],[0.7,\"#b8e186\"],[0.8,\"#7fbc41\"],[0.9,\"#4d9221\"],[1,\"#276419\"]],\"sequential\":[[0.0,\"#0d0887\"],[0.1111111111111111,\"#46039f\"],[0.2222222222222222,\"#7201a8\"],[0.3333333333333333,\"#9c179e\"],[0.4444444444444444,\"#bd3786\"],[0.5555555555555556,\"#d8576b\"],[0.6666666666666666,\"#ed7953\"],[0.7777777777777778,\"#fb9f3a\"],[0.8888888888888888,\"#fdca26\"],[1.0,\"#f0f921\"]],\"sequentialminus\":[[0.0,\"#0d0887\"],[0.1111111111111111,\"#46039f\"],[0.2222222222222222,\"#7201a8\"],[0.3333333333333333,\"#9c179e\"],[0.4444444444444444,\"#bd3786\"],[0.5555555555555556,\"#d8576b\"],[0.6666666666666666,\"#ed7953\"],[0.7777777777777778,\"#fb9f3a\"],[0.8888888888888888,\"#fdca26\"],[1.0,\"#f0f921\"]]},\"colorway\":[\"#636efa\",\"#EF553B\",\"#00cc96\",\"#ab63fa\",\"#FFA15A\",\"#19d3f3\",\"#FF6692\",\"#B6E880\",\"#FF97FF\",\"#FECB52\"],\"font\":{\"color\":\"#2a3f5f\"},\"geo\":{\"bgcolor\":\"white\",\"lakecolor\":\"white\",\"landcolor\":\"white\",\"showlakes\":true,\"showland\":true,\"subunitcolor\":\"#C8D4E3\"},\"hoverlabel\":{\"align\":\"left\"},\"hovermode\":\"closest\",\"mapbox\":{\"style\":\"light\"},\"paper_bgcolor\":\"white\",\"plot_bgcolor\":\"white\",\"polar\":{\"angularaxis\":{\"gridcolor\":\"#EBF0F8\",\"linecolor\":\"#EBF0F8\",\"ticks\":\"\"},\"bgcolor\":\"white\",\"radialaxis\":{\"gridcolor\":\"#EBF0F8\",\"linecolor\":\"#EBF0F8\",\"ticks\":\"\"}},\"scene\":{\"xaxis\":{\"backgroundcolor\":\"white\",\"gridcolor\":\"#DFE8F3\",\"gridwidth\":2,\"linecolor\":\"#EBF0F8\",\"showbackground\":true,\"ticks\":\"\",\"zerolinecolor\":\"#EBF0F8\"},\"yaxis\":{\"backgroundcolor\":\"white\",\"gridcolor\":\"#DFE8F3\",\"gridwidth\":2,\"linecolor\":\"#EBF0F8\",\"showbackground\":true,\"ticks\":\"\",\"zerolinecolor\":\"#EBF0F8\"},\"zaxis\":{\"backgroundcolor\":\"white\",\"gridcolor\":\"#DFE8F3\",\"gridwidth\":2,\"linecolor\":\"#EBF0F8\",\"showbackground\":true,\"ticks\":\"\",\"zerolinecolor\":\"#EBF0F8\"}},\"shapedefaults\":{\"line\":{\"color\":\"#2a3f5f\"}},\"ternary\":{\"aaxis\":{\"gridcolor\":\"#DFE8F3\",\"linecolor\":\"#A2B1C6\",\"ticks\":\"\"},\"baxis\":{\"gridcolor\":\"#DFE8F3\",\"linecolor\":\"#A2B1C6\",\"ticks\":\"\"},\"bgcolor\":\"white\",\"caxis\":{\"gridcolor\":\"#DFE8F3\",\"linecolor\":\"#A2B1C6\",\"ticks\":\"\"}},\"title\":{\"x\":0.05},\"xaxis\":{\"automargin\":true,\"gridcolor\":\"#EBF0F8\",\"linecolor\":\"#EBF0F8\",\"ticks\":\"\",\"title\":{\"standoff\":15},\"zerolinecolor\":\"#EBF0F8\",\"zerolinewidth\":2},\"yaxis\":{\"automargin\":true,\"gridcolor\":\"#EBF0F8\",\"linecolor\":\"#EBF0F8\",\"ticks\":\"\",\"title\":{\"standoff\":15},\"zerolinecolor\":\"#EBF0F8\",\"zerolinewidth\":2}}},\"xaxis\":{\"type\":\"log\",\"title\":{\"text\":\"Number of samples\"}},\"yaxis\":{\"type\":\"log\",\"title\":{\"text\":\"RMSE\"}},\"legend\":{\"orientation\":\"h\",\"yanchor\":\"bottom\",\"y\":0.99,\"xanchor\":\"left\",\"x\":-0.0},\"width\":1200,\"height\":1200},                        {\"responsive\": true}                    ).then(function(){\n",
       "                            \n",
       "var gd = document.getElementById('61486ca4-e0f7-4627-a9f3-f902cad9c5d4');\n",
       "var x = new MutationObserver(function (mutations, observer) {{\n",
       "        var display = window.getComputedStyle(gd).display;\n",
       "        if (!display || display === 'none') {{\n",
       "            console.log([gd, 'removed!']);\n",
       "            Plotly.purge(gd);\n",
       "            observer.disconnect();\n",
       "        }}\n",
       "}});\n",
       "\n",
       "// Listen for the removal of the full notebook cells\n",
       "var notebookContainer = gd.closest('#notebook-container');\n",
       "if (notebookContainer) {{\n",
       "    x.observe(notebookContainer, {childList: true});\n",
       "}}\n",
       "\n",
       "// Listen for the clearing of the current output cell\n",
       "var outputEl = gd.closest('.output');\n",
       "if (outputEl) {{\n",
       "    x.observe(outputEl, {childList: true});\n",
       "}}\n",
       "\n",
       "                        })                };                });            </script>        </div>"
      ]
     },
     "metadata": {},
     "output_type": "display_data"
    }
   ],
   "source": [
    "fig = go.Figure()\n",
    "\n",
    "for j,i in enumerate([64,32,16,8,4]):\n",
    "\n",
    "    fig.add_trace(go.Scatter(x = latent_only[latent_only['Latent units'] == i].groupby('N samples').mean().reset_index()['N samples'], \n",
    "                     y = 1000 * np.sqrt(latent_only[latent_only['Latent units'] == i].groupby('N samples').mean().reset_index()['MSE']), \n",
    "                             mode = 'markers+lines',\n",
    "                             name = 'latent only l = ' + str(i),\n",
    "    #                  log_x = True, \n",
    "    #                  log_y=True,\n",
    "                     error_y=dict(\n",
    "                        type='data',\n",
    "                        symmetric=False,\n",
    "                         array = 1000 * np.sqrt((latent_only[latent_only['Latent units'] == i].groupby('N samples').max()  - latent_only[latent_only['Latent units'] == i].groupby('N samples').mean())['MSE']), \n",
    "                         arrayminus = 1000 * np.sqrt((latent_only[latent_only['Latent units'] == i].groupby('N samples').mean() - latent_only[latent_only['Latent units'] == i].groupby('N samples').min())['MSE']),\n",
    "                     ),\n",
    "                     line_color = px.colors.qualitative.Dark24[j],\n",
    "                    ))\n",
    "\n",
    "for j,i in enumerate([64,32,16,8,4]):\n",
    "\n",
    "    fig.add_trace(go.Scatter(x = latent_dc_pr_pow[latent_dc_pr_pow['Latent units'] == i].groupby('N samples').mean().reset_index()['N samples'], \n",
    "                     y = 1000 * np.sqrt(latent_dc_pr_pow[latent_dc_pr_pow['Latent units'] == i].groupby('N samples').mean().reset_index()['MSE']), \n",
    "                             line_dash = 'dash',\n",
    "                             mode = 'markers+lines',\n",
    "                             name = ' latent+ l = ' + str(i),\n",
    "    #                  log_x = True, \n",
    "    #                  log_y=True,\n",
    "                     error_y=dict(\n",
    "                        type='data',\n",
    "                        symmetric=False,\n",
    "                         array = 1000 * np.sqrt((latent_dc_pr_pow[latent_dc_pr_pow['Latent units'] == i].groupby('N samples').max()  - latent_dc_pr_pow[latent_dc_pr_pow['Latent units'] == i].groupby('N samples').mean())['MSE']), \n",
    "                         arrayminus = 1000 * np.sqrt((latent_dc_pr_pow[latent_dc_pr_pow['Latent units'] == i].groupby('N samples').mean() - latent_dc_pr_pow[latent_dc_pr_pow['Latent units'] == i].groupby('N samples').min())['MSE']),\n",
    "                     ),\n",
    "                     line_color = px.colors.qualitative.Dark24[j],\n",
    "                    ))\n",
    "    \n",
    "# fig.add_trace(go.Scatter(x = [10, 637801], \n",
    "#                      y = [error_estimate, error_estimate], \n",
    "# #                              line_dash = 'dash',\n",
    "#                              mode = 'lines',\n",
    "#                              name = 'Measurement error',\n",
    "#     #                  log_x = True, \n",
    "#     #                  log_y=True,\n",
    "# #                      error_y=dict(\n",
    "# #                         type='data',\n",
    "# #                         symmetric=False,\n",
    "# #                          array = (latent_dc_pr_pow[latent_dc_pr_pow['Latent units'] == i].groupby('N samples').max()  - latent_dc_pr_pow[latent_dc_pr_pow['Latent units'] == i].groupby('N samples').median())['MSE'], \n",
    "# #                          arrayminus = (latent_dc_pr_pow[latent_dc_pr_pow['Latent units'] == i].groupby('N samples').median() - latent_dc_pr_pow[latent_dc_pr_pow['Latent units'] == i].groupby('N samples').min())['MSE'],\n",
    "# #                      ),\n",
    "#                      line_color = px.colors.qualitative.Dark24[j+1],\n",
    "#                     ))\n",
    "\n",
    "\n",
    "# fig.add_trace(go.Scatter(x = size_sweep_frame_power_pressure.groupby('N samples').median().reset_index()['N samples'], \n",
    "#                  y = size_sweep_frame_power_pressure.groupby('N samples').median().reset_index()['MSE'], \n",
    "#                          mode = 'markers',\n",
    "#                          name = 'Latent+Pressure+RF Power',\n",
    "# #                  log_x = True, \n",
    "# #                  log_y=True,\n",
    "#                  error_y=dict(\n",
    "#                     type='data',\n",
    "#                     symmetric=False,\n",
    "#                      array = (size_sweep_frame_power_pressure.groupby('N samples').max()  - size_sweep_frame_power_pressure.groupby('N samples').median())['MSE'], \n",
    "#                      arrayminus = (size_sweep_frame_power_pressure.groupby('N samples').median() - size_sweep_frame_power_pressure.groupby('N samples').min())['MSE'],\n",
    "#                  )\n",
    "# #                  line_color = px.colors.qualitative.Dark24[0]\n",
    "#                 ))\n",
    "\n",
    "fig.update_xaxes(type=\"log\", title = 'Number of samples')\n",
    "fig.update_yaxes(type=\"log\", title = 'RMSE')\n",
    "\n",
    "fig.update_layout(template = 'plotly_white', width = 1200, height = 1200, legend=dict(\n",
    "    orientation=\"h\",\n",
    "    yanchor=\"bottom\",\n",
    "    y=0.99,\n",
    "    xanchor=\"left\",\n",
    "    x=-0.00,\n",
    "))\n",
    "# fig = px.scatter(y = [y_train, y_test])\n",
    "fig.show()\n",
    "\n",
    "fig.write_image(\"images/dc_bias_predictions_rmse.png\")\n",
    "fig.write_image(\"images/dc_bias_predictions_rmse.svg\")\n",
    "fig.write_image(\"images/dc_bias_predictions_rmse.eps\")\n",
    "\n",
    "# fig.update_layout(marker=dict(color='green', size=4))\n",
    "\n",
    "# fig2 = px.scatter(size_sweep_frame_power_pressure.groupby('N samples').median().reset_index(), \n",
    "#                  x = 'N samples', \n",
    "#                  y = 'MSE', \n",
    "#                  log_x = True, \n",
    "#                  log_y=True,\n",
    "#                  error_y = (size_sweep_frame_power_pressure.groupby('N samples').max()  - size_sweep_frame_power_pressure.groupby('N samples').median())['MSE'], \n",
    "#                  error_y_minus = (size_sweep_frame_power_pressure.groupby('N samples').median() - size_sweep_frame_power_pressure.groupby('N samples').min())['MSE'],\n",
    "# #                  line_color = px.colors.qualitative.Dark24[1]\n",
    "#                 )\n",
    "\n",
    "# fig.add_trace(fig2.data[0])\n",
    "\n",
    "# fig.update_layout(showlegend = True, legend_title_text='Trend')\n",
    "\n",
    "\n",
    "\n",
    "# fig.show('notebook')"
   ]
  },
  {
   "cell_type": "code",
   "execution_count": 15,
   "id": "4a6b4060",
   "metadata": {},
   "outputs": [
    {
     "data": {
      "text/plain": [
       "0.001"
      ]
     },
     "execution_count": 15,
     "metadata": {},
     "output_type": "execute_result"
    }
   ],
   "source": [
    "1/1000 * 1"
   ]
  },
  {
   "cell_type": "code",
   "execution_count": 16,
   "id": "2be11a50",
   "metadata": {},
   "outputs": [
    {
     "name": "stdout",
     "output_type": "stream",
     "text": [
      " 1.07e-05\n"
     ]
    }
   ],
   "source": [
    "from sklearn.metrics import mean_squared_error\n",
    "\n",
    "y_true = []\n",
    "\n",
    "y_pred = []\n",
    "\n",
    "error = 0.004\n",
    "\n",
    "for i in [0.75, 0.5, 0.25, 0.1, 0.01]:\n",
    "    \n",
    "    y_true.extend([i, i, i])\n",
    "    \n",
    "    y_pred.extend([i, i+error, i-error])\n",
    "\n",
    "# y_true = [1.0, 1.0, 1.0, 0.5, 0.5, 0.5, 0.1, 0.1, 0.1, 0.01, 0.01, 0.01]\n",
    "\n",
    "# y_pred = [1.001, 0.999, 1.0, 0.501, 0.499, 0.5, 0.101, 0.099, 0.1, 0.011, 0.009, 0.01]\n",
    "\n",
    "print(f'{mean_squared_error(y_true, y_pred): .2e}')\n",
    "\n",
    "error_estimate = mean_squared_error(y_true, y_pred)"
   ]
  },
  {
   "cell_type": "code",
   "execution_count": null,
   "id": "c0ee54db",
   "metadata": {},
   "outputs": [],
   "source": []
  }
 ],
 "metadata": {
  "kernelspec": {
   "display_name": "Python [conda env:tf211]",
   "language": "python",
   "name": "conda-env-tf211-py"
  },
  "language_info": {
   "codemirror_mode": {
    "name": "ipython",
    "version": 3
   },
   "file_extension": ".py",
   "mimetype": "text/x-python",
   "name": "python",
   "nbconvert_exporter": "python",
   "pygments_lexer": "ipython3",
   "version": "3.9.15"
  }
 },
 "nbformat": 4,
 "nbformat_minor": 5
}
